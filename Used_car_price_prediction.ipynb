{
  "cells": [
    {
      "cell_type": "markdown",
      "metadata": {
        "id": "view-in-github",
        "colab_type": "text"
      },
      "source": [
        "<a href=\"https://colab.research.google.com/github/CzSadykov/car_price_predictions/blob/main/Used_car_price_prediction.ipynb\" target=\"_parent\"><img src=\"https://colab.research.google.com/assets/colab-badge.svg\" alt=\"Open In Colab\"/></a>"
      ]
    },
    {
      "cell_type": "markdown",
      "source": [
        "# Used car price prediction"
      ],
      "metadata": {
        "id": "UxVrzjuoM9Lg"
      }
    },
    {
      "cell_type": "markdown",
      "metadata": {
        "id": "wYIThoYVmhuJ"
      },
      "source": [
        "**Problem Situation:** A supposed car dealership is developing an app to attract new customers. In it, you can quickly find out the market value of your car.\n",
        "\n",
        "**Task:** to build a model to determine the cost, the RMSE metric should be **less than 2500 euros**.\n",
        "\n",
        "**Criteria for evaluating work by the customer:**\n",
        "\n",
        "- quality of prediction;\n",
        "- prediction speed;\n",
        "- studying time.\n",
        "\n",
        "**Data:** historical. That is, the technical characteristics, equipment and prices of cars.\n",
        "\n",
        "**Variables used:**\n",
        "\n",
        "* ``DateCrawled`` — date of downloading the questionnaire from the database;\n",
        "* ``VehicleType`` — car body type;\n",
        "* ``RegistrationYear`` — year of vehicle registration;\n",
        "* ``Gearbox`` — gear box type;\n",
        "* ``Power`` - power (hp);\n",
        "* ``Model`` — car model;\n",
        "* ``Kilometer`` — mileage (km);\n",
        "* ``RegistrationMonth`` — car registration month;\n",
        "* ``FuelType`` — fuel type;\n",
        "* ``Brand`` — car brand;\n",
        "* ``Repaired`` - was the car under repair or not;\n",
        "* ``DateCreated`` — date of creation of the questionnaire;\n",
        "* ``NumberOfPictures`` - number of car photos;\n",
        "* ``PostalCode`` — postal code of the owner of the profile (user);\n",
        "* ``LastSeen`` is the date of the user's last activity.\n",
        "\n",
        "**Target attribute:**\n",
        "\n",
        "* ``Price`` - price in euro.\n",
        "\n",
        "**Plan**:\n",
        "\n",
        "So, let's start by importing the libraries and the models we use. In this problem, we will test predictions based on:\n",
        "\n",
        "1) Linear regression;\n",
        "\n",
        "2) Light GBM;\n",
        "\n",
        "3) CatBoost."
      ]
    },
    {
      "cell_type": "code",
      "execution_count": 55,
      "metadata": {
        "id": "9mvbWeV4mhuJ"
      },
      "outputs": [],
      "source": [
        "!pip install catboost\n",
        "import pandas as pd\n",
        "import matplotlib.pyplot as plt\n",
        "import seaborn as sns\n",
        "import numpy as np\n",
        "\n",
        "from sklearn.linear_model import LinearRegression\n",
        "from sklearn.preprocessing import StandardScaler\n",
        "from sklearn.model_selection import (\n",
        "    train_test_split,\n",
        "    cross_val_score,\n",
        "    RandomizedSearchCV\n",
        ")\n",
        "from sklearn.dummy import DummyRegressor\n",
        "from sklearn.metrics import mean_squared_error\n",
        "\n",
        "from lightgbm import LGBMRegressor\n",
        "from catboost import CatBoostRegressor"
      ]
    },
    {
      "cell_type": "markdown",
      "metadata": {
        "id": "KcSbA4MNmhuK"
      },
      "source": [
        "## Data preprocessing"
      ]
    },
    {
      "cell_type": "markdown",
      "metadata": {
        "id": "QeELqHJVmhuL"
      },
      "source": [
        "### Exploring the data"
      ]
    },
    {
      "cell_type": "code",
      "execution_count": 3,
      "metadata": {
        "id": "zvdC0qfQmhuL"
      },
      "outputs": [],
      "source": [
        "def df_read(file_path):\n",
        "    df = pd.read_csv(file_path)\n",
        "    display(df.head())\n",
        "    print(df.info(), '\\n')\n",
        "    print('Duplicates:', '\\n', sum(df.duplicated()), '\\n')\n",
        "    print('Missing values:', '\\n', df.isna().sum(), '\\n')\n",
        "    return df"
      ]
    },
    {
      "cell_type": "code",
      "execution_count": 4,
      "metadata": {
        "colab": {
          "base_uri": "https://localhost:8080/",
          "height": 1000
        },
        "id": "NDigNPEcmhuL",
        "outputId": "87755084-1bc4-40fd-eff9-8de7dc43c9ac"
      },
      "outputs": [
        {
          "output_type": "display_data",
          "data": {
            "text/plain": [
              "           DateCrawled  Price VehicleType  RegistrationYear Gearbox  Power  \\\n",
              "0  2016-03-24 11:52:17    480         NaN              1993  manual      0   \n",
              "1  2016-03-24 10:58:45  18300       coupe              2011  manual    190   \n",
              "2  2016-03-14 12:52:21   9800         suv              2004    auto    163   \n",
              "3  2016-03-17 16:54:04   1500       small              2001  manual     75   \n",
              "4  2016-03-31 17:25:20   3600       small              2008  manual     69   \n",
              "\n",
              "   Model  Kilometer  RegistrationMonth  FuelType       Brand Repaired  \\\n",
              "0   golf     150000                  0    petrol  volkswagen      NaN   \n",
              "1    NaN     125000                  5  gasoline        audi      yes   \n",
              "2  grand     125000                  8  gasoline        jeep      NaN   \n",
              "3   golf     150000                  6    petrol  volkswagen       no   \n",
              "4  fabia      90000                  7  gasoline       skoda       no   \n",
              "\n",
              "           DateCreated  NumberOfPictures  PostalCode             LastSeen  \n",
              "0  2016-03-24 00:00:00                 0       70435  2016-04-07 03:16:57  \n",
              "1  2016-03-24 00:00:00                 0       66954  2016-04-07 01:46:50  \n",
              "2  2016-03-14 00:00:00                 0       90480  2016-04-05 12:47:46  \n",
              "3  2016-03-17 00:00:00                 0       91074  2016-03-17 17:40:17  \n",
              "4  2016-03-31 00:00:00                 0       60437  2016-04-06 10:17:21  "
            ],
            "text/html": [
              "\n",
              "\n",
              "  <div id=\"df-1e3fbe31-3a34-477e-93da-ed5b5a3c2968\">\n",
              "    <div class=\"colab-df-container\">\n",
              "      <div>\n",
              "<style scoped>\n",
              "    .dataframe tbody tr th:only-of-type {\n",
              "        vertical-align: middle;\n",
              "    }\n",
              "\n",
              "    .dataframe tbody tr th {\n",
              "        vertical-align: top;\n",
              "    }\n",
              "\n",
              "    .dataframe thead th {\n",
              "        text-align: right;\n",
              "    }\n",
              "</style>\n",
              "<table border=\"1\" class=\"dataframe\">\n",
              "  <thead>\n",
              "    <tr style=\"text-align: right;\">\n",
              "      <th></th>\n",
              "      <th>DateCrawled</th>\n",
              "      <th>Price</th>\n",
              "      <th>VehicleType</th>\n",
              "      <th>RegistrationYear</th>\n",
              "      <th>Gearbox</th>\n",
              "      <th>Power</th>\n",
              "      <th>Model</th>\n",
              "      <th>Kilometer</th>\n",
              "      <th>RegistrationMonth</th>\n",
              "      <th>FuelType</th>\n",
              "      <th>Brand</th>\n",
              "      <th>Repaired</th>\n",
              "      <th>DateCreated</th>\n",
              "      <th>NumberOfPictures</th>\n",
              "      <th>PostalCode</th>\n",
              "      <th>LastSeen</th>\n",
              "    </tr>\n",
              "  </thead>\n",
              "  <tbody>\n",
              "    <tr>\n",
              "      <th>0</th>\n",
              "      <td>2016-03-24 11:52:17</td>\n",
              "      <td>480</td>\n",
              "      <td>NaN</td>\n",
              "      <td>1993</td>\n",
              "      <td>manual</td>\n",
              "      <td>0</td>\n",
              "      <td>golf</td>\n",
              "      <td>150000</td>\n",
              "      <td>0</td>\n",
              "      <td>petrol</td>\n",
              "      <td>volkswagen</td>\n",
              "      <td>NaN</td>\n",
              "      <td>2016-03-24 00:00:00</td>\n",
              "      <td>0</td>\n",
              "      <td>70435</td>\n",
              "      <td>2016-04-07 03:16:57</td>\n",
              "    </tr>\n",
              "    <tr>\n",
              "      <th>1</th>\n",
              "      <td>2016-03-24 10:58:45</td>\n",
              "      <td>18300</td>\n",
              "      <td>coupe</td>\n",
              "      <td>2011</td>\n",
              "      <td>manual</td>\n",
              "      <td>190</td>\n",
              "      <td>NaN</td>\n",
              "      <td>125000</td>\n",
              "      <td>5</td>\n",
              "      <td>gasoline</td>\n",
              "      <td>audi</td>\n",
              "      <td>yes</td>\n",
              "      <td>2016-03-24 00:00:00</td>\n",
              "      <td>0</td>\n",
              "      <td>66954</td>\n",
              "      <td>2016-04-07 01:46:50</td>\n",
              "    </tr>\n",
              "    <tr>\n",
              "      <th>2</th>\n",
              "      <td>2016-03-14 12:52:21</td>\n",
              "      <td>9800</td>\n",
              "      <td>suv</td>\n",
              "      <td>2004</td>\n",
              "      <td>auto</td>\n",
              "      <td>163</td>\n",
              "      <td>grand</td>\n",
              "      <td>125000</td>\n",
              "      <td>8</td>\n",
              "      <td>gasoline</td>\n",
              "      <td>jeep</td>\n",
              "      <td>NaN</td>\n",
              "      <td>2016-03-14 00:00:00</td>\n",
              "      <td>0</td>\n",
              "      <td>90480</td>\n",
              "      <td>2016-04-05 12:47:46</td>\n",
              "    </tr>\n",
              "    <tr>\n",
              "      <th>3</th>\n",
              "      <td>2016-03-17 16:54:04</td>\n",
              "      <td>1500</td>\n",
              "      <td>small</td>\n",
              "      <td>2001</td>\n",
              "      <td>manual</td>\n",
              "      <td>75</td>\n",
              "      <td>golf</td>\n",
              "      <td>150000</td>\n",
              "      <td>6</td>\n",
              "      <td>petrol</td>\n",
              "      <td>volkswagen</td>\n",
              "      <td>no</td>\n",
              "      <td>2016-03-17 00:00:00</td>\n",
              "      <td>0</td>\n",
              "      <td>91074</td>\n",
              "      <td>2016-03-17 17:40:17</td>\n",
              "    </tr>\n",
              "    <tr>\n",
              "      <th>4</th>\n",
              "      <td>2016-03-31 17:25:20</td>\n",
              "      <td>3600</td>\n",
              "      <td>small</td>\n",
              "      <td>2008</td>\n",
              "      <td>manual</td>\n",
              "      <td>69</td>\n",
              "      <td>fabia</td>\n",
              "      <td>90000</td>\n",
              "      <td>7</td>\n",
              "      <td>gasoline</td>\n",
              "      <td>skoda</td>\n",
              "      <td>no</td>\n",
              "      <td>2016-03-31 00:00:00</td>\n",
              "      <td>0</td>\n",
              "      <td>60437</td>\n",
              "      <td>2016-04-06 10:17:21</td>\n",
              "    </tr>\n",
              "  </tbody>\n",
              "</table>\n",
              "</div>\n",
              "      <button class=\"colab-df-convert\" onclick=\"convertToInteractive('df-1e3fbe31-3a34-477e-93da-ed5b5a3c2968')\"\n",
              "              title=\"Convert this dataframe to an interactive table.\"\n",
              "              style=\"display:none;\">\n",
              "\n",
              "  <svg xmlns=\"http://www.w3.org/2000/svg\" height=\"24px\"viewBox=\"0 0 24 24\"\n",
              "       width=\"24px\">\n",
              "    <path d=\"M0 0h24v24H0V0z\" fill=\"none\"/>\n",
              "    <path d=\"M18.56 5.44l.94 2.06.94-2.06 2.06-.94-2.06-.94-.94-2.06-.94 2.06-2.06.94zm-11 1L8.5 8.5l.94-2.06 2.06-.94-2.06-.94L8.5 2.5l-.94 2.06-2.06.94zm10 10l.94 2.06.94-2.06 2.06-.94-2.06-.94-.94-2.06-.94 2.06-2.06.94z\"/><path d=\"M17.41 7.96l-1.37-1.37c-.4-.4-.92-.59-1.43-.59-.52 0-1.04.2-1.43.59L10.3 9.45l-7.72 7.72c-.78.78-.78 2.05 0 2.83L4 21.41c.39.39.9.59 1.41.59.51 0 1.02-.2 1.41-.59l7.78-7.78 2.81-2.81c.8-.78.8-2.07 0-2.86zM5.41 20L4 18.59l7.72-7.72 1.47 1.35L5.41 20z\"/>\n",
              "  </svg>\n",
              "      </button>\n",
              "\n",
              "\n",
              "\n",
              "    <div id=\"df-828da5a6-738d-40b0-8dbb-78e7053a91bd\">\n",
              "      <button class=\"colab-df-quickchart\" onclick=\"quickchart('df-828da5a6-738d-40b0-8dbb-78e7053a91bd')\"\n",
              "              title=\"Suggest charts.\"\n",
              "              style=\"display:none;\">\n",
              "\n",
              "<svg xmlns=\"http://www.w3.org/2000/svg\" height=\"24px\"viewBox=\"0 0 24 24\"\n",
              "     width=\"24px\">\n",
              "    <g>\n",
              "        <path d=\"M19 3H5c-1.1 0-2 .9-2 2v14c0 1.1.9 2 2 2h14c1.1 0 2-.9 2-2V5c0-1.1-.9-2-2-2zM9 17H7v-7h2v7zm4 0h-2V7h2v10zm4 0h-2v-4h2v4z\"/>\n",
              "    </g>\n",
              "</svg>\n",
              "      </button>\n",
              "    </div>\n",
              "\n",
              "<style>\n",
              "  .colab-df-quickchart {\n",
              "    background-color: #E8F0FE;\n",
              "    border: none;\n",
              "    border-radius: 50%;\n",
              "    cursor: pointer;\n",
              "    display: none;\n",
              "    fill: #1967D2;\n",
              "    height: 32px;\n",
              "    padding: 0 0 0 0;\n",
              "    width: 32px;\n",
              "  }\n",
              "\n",
              "  .colab-df-quickchart:hover {\n",
              "    background-color: #E2EBFA;\n",
              "    box-shadow: 0px 1px 2px rgba(60, 64, 67, 0.3), 0px 1px 3px 1px rgba(60, 64, 67, 0.15);\n",
              "    fill: #174EA6;\n",
              "  }\n",
              "\n",
              "  [theme=dark] .colab-df-quickchart {\n",
              "    background-color: #3B4455;\n",
              "    fill: #D2E3FC;\n",
              "  }\n",
              "\n",
              "  [theme=dark] .colab-df-quickchart:hover {\n",
              "    background-color: #434B5C;\n",
              "    box-shadow: 0px 1px 3px 1px rgba(0, 0, 0, 0.15);\n",
              "    filter: drop-shadow(0px 1px 2px rgba(0, 0, 0, 0.3));\n",
              "    fill: #FFFFFF;\n",
              "  }\n",
              "</style>\n",
              "\n",
              "    <script>\n",
              "      async function quickchart(key) {\n",
              "        const containerElement = document.querySelector('#' + key);\n",
              "        const charts = await google.colab.kernel.invokeFunction(\n",
              "            'suggestCharts', [key], {});\n",
              "      }\n",
              "    </script>\n",
              "\n",
              "      <script>\n",
              "\n",
              "function displayQuickchartButton(domScope) {\n",
              "  let quickchartButtonEl =\n",
              "    domScope.querySelector('#df-828da5a6-738d-40b0-8dbb-78e7053a91bd button.colab-df-quickchart');\n",
              "  quickchartButtonEl.style.display =\n",
              "    google.colab.kernel.accessAllowed ? 'block' : 'none';\n",
              "}\n",
              "\n",
              "        displayQuickchartButton(document);\n",
              "      </script>\n",
              "      <style>\n",
              "    .colab-df-container {\n",
              "      display:flex;\n",
              "      flex-wrap:wrap;\n",
              "      gap: 12px;\n",
              "    }\n",
              "\n",
              "    .colab-df-convert {\n",
              "      background-color: #E8F0FE;\n",
              "      border: none;\n",
              "      border-radius: 50%;\n",
              "      cursor: pointer;\n",
              "      display: none;\n",
              "      fill: #1967D2;\n",
              "      height: 32px;\n",
              "      padding: 0 0 0 0;\n",
              "      width: 32px;\n",
              "    }\n",
              "\n",
              "    .colab-df-convert:hover {\n",
              "      background-color: #E2EBFA;\n",
              "      box-shadow: 0px 1px 2px rgba(60, 64, 67, 0.3), 0px 1px 3px 1px rgba(60, 64, 67, 0.15);\n",
              "      fill: #174EA6;\n",
              "    }\n",
              "\n",
              "    [theme=dark] .colab-df-convert {\n",
              "      background-color: #3B4455;\n",
              "      fill: #D2E3FC;\n",
              "    }\n",
              "\n",
              "    [theme=dark] .colab-df-convert:hover {\n",
              "      background-color: #434B5C;\n",
              "      box-shadow: 0px 1px 3px 1px rgba(0, 0, 0, 0.15);\n",
              "      filter: drop-shadow(0px 1px 2px rgba(0, 0, 0, 0.3));\n",
              "      fill: #FFFFFF;\n",
              "    }\n",
              "  </style>\n",
              "\n",
              "      <script>\n",
              "        const buttonEl =\n",
              "          document.querySelector('#df-1e3fbe31-3a34-477e-93da-ed5b5a3c2968 button.colab-df-convert');\n",
              "        buttonEl.style.display =\n",
              "          google.colab.kernel.accessAllowed ? 'block' : 'none';\n",
              "\n",
              "        async function convertToInteractive(key) {\n",
              "          const element = document.querySelector('#df-1e3fbe31-3a34-477e-93da-ed5b5a3c2968');\n",
              "          const dataTable =\n",
              "            await google.colab.kernel.invokeFunction('convertToInteractive',\n",
              "                                                     [key], {});\n",
              "          if (!dataTable) return;\n",
              "\n",
              "          const docLinkHtml = 'Like what you see? Visit the ' +\n",
              "            '<a target=\"_blank\" href=https://colab.research.google.com/notebooks/data_table.ipynb>data table notebook</a>'\n",
              "            + ' to learn more about interactive tables.';\n",
              "          element.innerHTML = '';\n",
              "          dataTable['output_type'] = 'display_data';\n",
              "          await google.colab.output.renderOutput(dataTable, element);\n",
              "          const docLink = document.createElement('div');\n",
              "          docLink.innerHTML = docLinkHtml;\n",
              "          element.appendChild(docLink);\n",
              "        }\n",
              "      </script>\n",
              "    </div>\n",
              "  </div>\n"
            ]
          },
          "metadata": {}
        },
        {
          "output_type": "stream",
          "name": "stdout",
          "text": [
            "<class 'pandas.core.frame.DataFrame'>\n",
            "RangeIndex: 354369 entries, 0 to 354368\n",
            "Data columns (total 16 columns):\n",
            " #   Column             Non-Null Count   Dtype \n",
            "---  ------             --------------   ----- \n",
            " 0   DateCrawled        354369 non-null  object\n",
            " 1   Price              354369 non-null  int64 \n",
            " 2   VehicleType        316879 non-null  object\n",
            " 3   RegistrationYear   354369 non-null  int64 \n",
            " 4   Gearbox            334536 non-null  object\n",
            " 5   Power              354369 non-null  int64 \n",
            " 6   Model              334664 non-null  object\n",
            " 7   Kilometer          354369 non-null  int64 \n",
            " 8   RegistrationMonth  354369 non-null  int64 \n",
            " 9   FuelType           321474 non-null  object\n",
            " 10  Brand              354369 non-null  object\n",
            " 11  Repaired           283215 non-null  object\n",
            " 12  DateCreated        354369 non-null  object\n",
            " 13  NumberOfPictures   354369 non-null  int64 \n",
            " 14  PostalCode         354369 non-null  int64 \n",
            " 15  LastSeen           354369 non-null  object\n",
            "dtypes: int64(7), object(9)\n",
            "memory usage: 43.3+ MB\n",
            "None \n",
            "\n",
            "Duplicates: \n",
            " 4 \n",
            "\n",
            "Missing values: \n",
            " DateCrawled              0\n",
            "Price                    0\n",
            "VehicleType          37490\n",
            "RegistrationYear         0\n",
            "Gearbox              19833\n",
            "Power                    0\n",
            "Model                19705\n",
            "Kilometer                0\n",
            "RegistrationMonth        0\n",
            "FuelType             32895\n",
            "Brand                    0\n",
            "Repaired             71154\n",
            "DateCreated              0\n",
            "NumberOfPictures         0\n",
            "PostalCode               0\n",
            "LastSeen                 0\n",
            "dtype: int64 \n",
            "\n"
          ]
        }
      ],
      "source": [
        "df = df_read('https://code.s3.yandex.net/datasets/autos.csv')"
      ]
    },
    {
      "cell_type": "markdown",
      "metadata": {
        "id": "gQqtw3HEmhuM"
      },
      "source": [
        "We see a lot of missing values, a few duplicates and inappropriate variable types. Let's put it all in order, starting with the type of variables that represent dates."
      ]
    },
    {
      "cell_type": "code",
      "execution_count": 5,
      "metadata": {
        "id": "28WXWI67mhuM"
      },
      "outputs": [],
      "source": [
        "df['DateCreated'] = pd.to_datetime(df['DateCreated'])\n",
        "df['LastSeen'] = pd.to_datetime(df['LastSeen'])"
      ]
    },
    {
      "cell_type": "markdown",
      "metadata": {
        "id": "VkeRV9KcmhuN"
      },
      "source": [
        "Now we remove duplicates and look at the top-level descriptions for each variable."
      ]
    },
    {
      "cell_type": "code",
      "execution_count": 6,
      "metadata": {
        "colab": {
          "base_uri": "https://localhost:8080/",
          "height": 580
        },
        "id": "ut-q_lc2mhuN",
        "outputId": "78778224-d06f-465b-80e1-a48493f0dc35"
      },
      "outputs": [
        {
          "output_type": "execute_result",
          "data": {
            "text/plain": [
              "                DateCrawled          Price VehicleType  RegistrationYear  \\\n",
              "count                354365  354365.000000      316875     354365.000000   \n",
              "unique               271174            NaN           8               NaN   \n",
              "top     2016-03-24 14:49:47            NaN       sedan               NaN   \n",
              "freq                      7            NaN       91457               NaN   \n",
              "mean                    NaN    4416.679830         NaN       2004.234481   \n",
              "min                     NaN       0.000000         NaN       1000.000000   \n",
              "25%                     NaN    1050.000000         NaN       1999.000000   \n",
              "50%                     NaN    2700.000000         NaN       2003.000000   \n",
              "75%                     NaN    6400.000000         NaN       2008.000000   \n",
              "max                     NaN   20000.000000         NaN       9999.000000   \n",
              "std                     NaN    4514.176349         NaN         90.228466   \n",
              "\n",
              "       Gearbox          Power   Model      Kilometer  RegistrationMonth  \\\n",
              "count   334532  354365.000000  334660  354365.000000      354365.000000   \n",
              "unique       2            NaN     250            NaN                NaN   \n",
              "top     manual            NaN    golf            NaN                NaN   \n",
              "freq    268249            NaN   29232            NaN                NaN   \n",
              "mean       NaN     110.093816     NaN  128211.363989           5.714650   \n",
              "min        NaN       0.000000     NaN    5000.000000           0.000000   \n",
              "25%        NaN      69.000000     NaN  125000.000000           3.000000   \n",
              "50%        NaN     105.000000     NaN  150000.000000           6.000000   \n",
              "75%        NaN     143.000000     NaN  150000.000000           9.000000   \n",
              "max        NaN   20000.000000     NaN  150000.000000          12.000000   \n",
              "std        NaN     189.851330     NaN   37905.083858           3.726432   \n",
              "\n",
              "       FuelType       Brand Repaired                    DateCreated  \\\n",
              "count    321470      354365   283211                         354365   \n",
              "unique        7          40        2                            NaN   \n",
              "top      petrol  volkswagen       no                            NaN   \n",
              "freq     216349       77012   247158                            NaN   \n",
              "mean        NaN         NaN      NaN  2016-03-20 19:12:06.583042560   \n",
              "min         NaN         NaN      NaN            2014-03-10 00:00:00   \n",
              "25%         NaN         NaN      NaN            2016-03-13 00:00:00   \n",
              "50%         NaN         NaN      NaN            2016-03-21 00:00:00   \n",
              "75%         NaN         NaN      NaN            2016-03-29 00:00:00   \n",
              "max         NaN         NaN      NaN            2016-04-07 00:00:00   \n",
              "std         NaN         NaN      NaN                            NaN   \n",
              "\n",
              "        NumberOfPictures     PostalCode                       LastSeen  \n",
              "count           354365.0  354365.000000                         354365  \n",
              "unique               NaN            NaN                            NaN  \n",
              "top                  NaN            NaN                            NaN  \n",
              "freq                 NaN            NaN                            NaN  \n",
              "mean                 0.0   50508.503800  2016-03-29 23:51:06.766184960  \n",
              "min                  0.0    1067.000000            2016-03-05 14:15:08  \n",
              "25%                  0.0   30165.000000            2016-03-23 02:50:03  \n",
              "50%                  0.0   49413.000000            2016-04-03 15:15:52  \n",
              "75%                  0.0   71083.000000            2016-04-06 10:15:19  \n",
              "max                  0.0   99998.000000            2016-04-07 14:58:51  \n",
              "std                  0.0   25783.100078                            NaN  "
            ],
            "text/html": [
              "\n",
              "\n",
              "  <div id=\"df-8c8c3773-ee66-47ee-8ff6-74d1a7d16c37\">\n",
              "    <div class=\"colab-df-container\">\n",
              "      <div>\n",
              "<style scoped>\n",
              "    .dataframe tbody tr th:only-of-type {\n",
              "        vertical-align: middle;\n",
              "    }\n",
              "\n",
              "    .dataframe tbody tr th {\n",
              "        vertical-align: top;\n",
              "    }\n",
              "\n",
              "    .dataframe thead th {\n",
              "        text-align: right;\n",
              "    }\n",
              "</style>\n",
              "<table border=\"1\" class=\"dataframe\">\n",
              "  <thead>\n",
              "    <tr style=\"text-align: right;\">\n",
              "      <th></th>\n",
              "      <th>DateCrawled</th>\n",
              "      <th>Price</th>\n",
              "      <th>VehicleType</th>\n",
              "      <th>RegistrationYear</th>\n",
              "      <th>Gearbox</th>\n",
              "      <th>Power</th>\n",
              "      <th>Model</th>\n",
              "      <th>Kilometer</th>\n",
              "      <th>RegistrationMonth</th>\n",
              "      <th>FuelType</th>\n",
              "      <th>Brand</th>\n",
              "      <th>Repaired</th>\n",
              "      <th>DateCreated</th>\n",
              "      <th>NumberOfPictures</th>\n",
              "      <th>PostalCode</th>\n",
              "      <th>LastSeen</th>\n",
              "    </tr>\n",
              "  </thead>\n",
              "  <tbody>\n",
              "    <tr>\n",
              "      <th>count</th>\n",
              "      <td>354365</td>\n",
              "      <td>354365.000000</td>\n",
              "      <td>316875</td>\n",
              "      <td>354365.000000</td>\n",
              "      <td>334532</td>\n",
              "      <td>354365.000000</td>\n",
              "      <td>334660</td>\n",
              "      <td>354365.000000</td>\n",
              "      <td>354365.000000</td>\n",
              "      <td>321470</td>\n",
              "      <td>354365</td>\n",
              "      <td>283211</td>\n",
              "      <td>354365</td>\n",
              "      <td>354365.0</td>\n",
              "      <td>354365.000000</td>\n",
              "      <td>354365</td>\n",
              "    </tr>\n",
              "    <tr>\n",
              "      <th>unique</th>\n",
              "      <td>271174</td>\n",
              "      <td>NaN</td>\n",
              "      <td>8</td>\n",
              "      <td>NaN</td>\n",
              "      <td>2</td>\n",
              "      <td>NaN</td>\n",
              "      <td>250</td>\n",
              "      <td>NaN</td>\n",
              "      <td>NaN</td>\n",
              "      <td>7</td>\n",
              "      <td>40</td>\n",
              "      <td>2</td>\n",
              "      <td>NaN</td>\n",
              "      <td>NaN</td>\n",
              "      <td>NaN</td>\n",
              "      <td>NaN</td>\n",
              "    </tr>\n",
              "    <tr>\n",
              "      <th>top</th>\n",
              "      <td>2016-03-24 14:49:47</td>\n",
              "      <td>NaN</td>\n",
              "      <td>sedan</td>\n",
              "      <td>NaN</td>\n",
              "      <td>manual</td>\n",
              "      <td>NaN</td>\n",
              "      <td>golf</td>\n",
              "      <td>NaN</td>\n",
              "      <td>NaN</td>\n",
              "      <td>petrol</td>\n",
              "      <td>volkswagen</td>\n",
              "      <td>no</td>\n",
              "      <td>NaN</td>\n",
              "      <td>NaN</td>\n",
              "      <td>NaN</td>\n",
              "      <td>NaN</td>\n",
              "    </tr>\n",
              "    <tr>\n",
              "      <th>freq</th>\n",
              "      <td>7</td>\n",
              "      <td>NaN</td>\n",
              "      <td>91457</td>\n",
              "      <td>NaN</td>\n",
              "      <td>268249</td>\n",
              "      <td>NaN</td>\n",
              "      <td>29232</td>\n",
              "      <td>NaN</td>\n",
              "      <td>NaN</td>\n",
              "      <td>216349</td>\n",
              "      <td>77012</td>\n",
              "      <td>247158</td>\n",
              "      <td>NaN</td>\n",
              "      <td>NaN</td>\n",
              "      <td>NaN</td>\n",
              "      <td>NaN</td>\n",
              "    </tr>\n",
              "    <tr>\n",
              "      <th>mean</th>\n",
              "      <td>NaN</td>\n",
              "      <td>4416.679830</td>\n",
              "      <td>NaN</td>\n",
              "      <td>2004.234481</td>\n",
              "      <td>NaN</td>\n",
              "      <td>110.093816</td>\n",
              "      <td>NaN</td>\n",
              "      <td>128211.363989</td>\n",
              "      <td>5.714650</td>\n",
              "      <td>NaN</td>\n",
              "      <td>NaN</td>\n",
              "      <td>NaN</td>\n",
              "      <td>2016-03-20 19:12:06.583042560</td>\n",
              "      <td>0.0</td>\n",
              "      <td>50508.503800</td>\n",
              "      <td>2016-03-29 23:51:06.766184960</td>\n",
              "    </tr>\n",
              "    <tr>\n",
              "      <th>min</th>\n",
              "      <td>NaN</td>\n",
              "      <td>0.000000</td>\n",
              "      <td>NaN</td>\n",
              "      <td>1000.000000</td>\n",
              "      <td>NaN</td>\n",
              "      <td>0.000000</td>\n",
              "      <td>NaN</td>\n",
              "      <td>5000.000000</td>\n",
              "      <td>0.000000</td>\n",
              "      <td>NaN</td>\n",
              "      <td>NaN</td>\n",
              "      <td>NaN</td>\n",
              "      <td>2014-03-10 00:00:00</td>\n",
              "      <td>0.0</td>\n",
              "      <td>1067.000000</td>\n",
              "      <td>2016-03-05 14:15:08</td>\n",
              "    </tr>\n",
              "    <tr>\n",
              "      <th>25%</th>\n",
              "      <td>NaN</td>\n",
              "      <td>1050.000000</td>\n",
              "      <td>NaN</td>\n",
              "      <td>1999.000000</td>\n",
              "      <td>NaN</td>\n",
              "      <td>69.000000</td>\n",
              "      <td>NaN</td>\n",
              "      <td>125000.000000</td>\n",
              "      <td>3.000000</td>\n",
              "      <td>NaN</td>\n",
              "      <td>NaN</td>\n",
              "      <td>NaN</td>\n",
              "      <td>2016-03-13 00:00:00</td>\n",
              "      <td>0.0</td>\n",
              "      <td>30165.000000</td>\n",
              "      <td>2016-03-23 02:50:03</td>\n",
              "    </tr>\n",
              "    <tr>\n",
              "      <th>50%</th>\n",
              "      <td>NaN</td>\n",
              "      <td>2700.000000</td>\n",
              "      <td>NaN</td>\n",
              "      <td>2003.000000</td>\n",
              "      <td>NaN</td>\n",
              "      <td>105.000000</td>\n",
              "      <td>NaN</td>\n",
              "      <td>150000.000000</td>\n",
              "      <td>6.000000</td>\n",
              "      <td>NaN</td>\n",
              "      <td>NaN</td>\n",
              "      <td>NaN</td>\n",
              "      <td>2016-03-21 00:00:00</td>\n",
              "      <td>0.0</td>\n",
              "      <td>49413.000000</td>\n",
              "      <td>2016-04-03 15:15:52</td>\n",
              "    </tr>\n",
              "    <tr>\n",
              "      <th>75%</th>\n",
              "      <td>NaN</td>\n",
              "      <td>6400.000000</td>\n",
              "      <td>NaN</td>\n",
              "      <td>2008.000000</td>\n",
              "      <td>NaN</td>\n",
              "      <td>143.000000</td>\n",
              "      <td>NaN</td>\n",
              "      <td>150000.000000</td>\n",
              "      <td>9.000000</td>\n",
              "      <td>NaN</td>\n",
              "      <td>NaN</td>\n",
              "      <td>NaN</td>\n",
              "      <td>2016-03-29 00:00:00</td>\n",
              "      <td>0.0</td>\n",
              "      <td>71083.000000</td>\n",
              "      <td>2016-04-06 10:15:19</td>\n",
              "    </tr>\n",
              "    <tr>\n",
              "      <th>max</th>\n",
              "      <td>NaN</td>\n",
              "      <td>20000.000000</td>\n",
              "      <td>NaN</td>\n",
              "      <td>9999.000000</td>\n",
              "      <td>NaN</td>\n",
              "      <td>20000.000000</td>\n",
              "      <td>NaN</td>\n",
              "      <td>150000.000000</td>\n",
              "      <td>12.000000</td>\n",
              "      <td>NaN</td>\n",
              "      <td>NaN</td>\n",
              "      <td>NaN</td>\n",
              "      <td>2016-04-07 00:00:00</td>\n",
              "      <td>0.0</td>\n",
              "      <td>99998.000000</td>\n",
              "      <td>2016-04-07 14:58:51</td>\n",
              "    </tr>\n",
              "    <tr>\n",
              "      <th>std</th>\n",
              "      <td>NaN</td>\n",
              "      <td>4514.176349</td>\n",
              "      <td>NaN</td>\n",
              "      <td>90.228466</td>\n",
              "      <td>NaN</td>\n",
              "      <td>189.851330</td>\n",
              "      <td>NaN</td>\n",
              "      <td>37905.083858</td>\n",
              "      <td>3.726432</td>\n",
              "      <td>NaN</td>\n",
              "      <td>NaN</td>\n",
              "      <td>NaN</td>\n",
              "      <td>NaN</td>\n",
              "      <td>0.0</td>\n",
              "      <td>25783.100078</td>\n",
              "      <td>NaN</td>\n",
              "    </tr>\n",
              "  </tbody>\n",
              "</table>\n",
              "</div>\n",
              "      <button class=\"colab-df-convert\" onclick=\"convertToInteractive('df-8c8c3773-ee66-47ee-8ff6-74d1a7d16c37')\"\n",
              "              title=\"Convert this dataframe to an interactive table.\"\n",
              "              style=\"display:none;\">\n",
              "\n",
              "  <svg xmlns=\"http://www.w3.org/2000/svg\" height=\"24px\"viewBox=\"0 0 24 24\"\n",
              "       width=\"24px\">\n",
              "    <path d=\"M0 0h24v24H0V0z\" fill=\"none\"/>\n",
              "    <path d=\"M18.56 5.44l.94 2.06.94-2.06 2.06-.94-2.06-.94-.94-2.06-.94 2.06-2.06.94zm-11 1L8.5 8.5l.94-2.06 2.06-.94-2.06-.94L8.5 2.5l-.94 2.06-2.06.94zm10 10l.94 2.06.94-2.06 2.06-.94-2.06-.94-.94-2.06-.94 2.06-2.06.94z\"/><path d=\"M17.41 7.96l-1.37-1.37c-.4-.4-.92-.59-1.43-.59-.52 0-1.04.2-1.43.59L10.3 9.45l-7.72 7.72c-.78.78-.78 2.05 0 2.83L4 21.41c.39.39.9.59 1.41.59.51 0 1.02-.2 1.41-.59l7.78-7.78 2.81-2.81c.8-.78.8-2.07 0-2.86zM5.41 20L4 18.59l7.72-7.72 1.47 1.35L5.41 20z\"/>\n",
              "  </svg>\n",
              "      </button>\n",
              "\n",
              "\n",
              "\n",
              "    <div id=\"df-78503885-1829-4dd8-bc59-4de948640899\">\n",
              "      <button class=\"colab-df-quickchart\" onclick=\"quickchart('df-78503885-1829-4dd8-bc59-4de948640899')\"\n",
              "              title=\"Suggest charts.\"\n",
              "              style=\"display:none;\">\n",
              "\n",
              "<svg xmlns=\"http://www.w3.org/2000/svg\" height=\"24px\"viewBox=\"0 0 24 24\"\n",
              "     width=\"24px\">\n",
              "    <g>\n",
              "        <path d=\"M19 3H5c-1.1 0-2 .9-2 2v14c0 1.1.9 2 2 2h14c1.1 0 2-.9 2-2V5c0-1.1-.9-2-2-2zM9 17H7v-7h2v7zm4 0h-2V7h2v10zm4 0h-2v-4h2v4z\"/>\n",
              "    </g>\n",
              "</svg>\n",
              "      </button>\n",
              "    </div>\n",
              "\n",
              "<style>\n",
              "  .colab-df-quickchart {\n",
              "    background-color: #E8F0FE;\n",
              "    border: none;\n",
              "    border-radius: 50%;\n",
              "    cursor: pointer;\n",
              "    display: none;\n",
              "    fill: #1967D2;\n",
              "    height: 32px;\n",
              "    padding: 0 0 0 0;\n",
              "    width: 32px;\n",
              "  }\n",
              "\n",
              "  .colab-df-quickchart:hover {\n",
              "    background-color: #E2EBFA;\n",
              "    box-shadow: 0px 1px 2px rgba(60, 64, 67, 0.3), 0px 1px 3px 1px rgba(60, 64, 67, 0.15);\n",
              "    fill: #174EA6;\n",
              "  }\n",
              "\n",
              "  [theme=dark] .colab-df-quickchart {\n",
              "    background-color: #3B4455;\n",
              "    fill: #D2E3FC;\n",
              "  }\n",
              "\n",
              "  [theme=dark] .colab-df-quickchart:hover {\n",
              "    background-color: #434B5C;\n",
              "    box-shadow: 0px 1px 3px 1px rgba(0, 0, 0, 0.15);\n",
              "    filter: drop-shadow(0px 1px 2px rgba(0, 0, 0, 0.3));\n",
              "    fill: #FFFFFF;\n",
              "  }\n",
              "</style>\n",
              "\n",
              "    <script>\n",
              "      async function quickchart(key) {\n",
              "        const containerElement = document.querySelector('#' + key);\n",
              "        const charts = await google.colab.kernel.invokeFunction(\n",
              "            'suggestCharts', [key], {});\n",
              "      }\n",
              "    </script>\n",
              "\n",
              "      <script>\n",
              "\n",
              "function displayQuickchartButton(domScope) {\n",
              "  let quickchartButtonEl =\n",
              "    domScope.querySelector('#df-78503885-1829-4dd8-bc59-4de948640899 button.colab-df-quickchart');\n",
              "  quickchartButtonEl.style.display =\n",
              "    google.colab.kernel.accessAllowed ? 'block' : 'none';\n",
              "}\n",
              "\n",
              "        displayQuickchartButton(document);\n",
              "      </script>\n",
              "      <style>\n",
              "    .colab-df-container {\n",
              "      display:flex;\n",
              "      flex-wrap:wrap;\n",
              "      gap: 12px;\n",
              "    }\n",
              "\n",
              "    .colab-df-convert {\n",
              "      background-color: #E8F0FE;\n",
              "      border: none;\n",
              "      border-radius: 50%;\n",
              "      cursor: pointer;\n",
              "      display: none;\n",
              "      fill: #1967D2;\n",
              "      height: 32px;\n",
              "      padding: 0 0 0 0;\n",
              "      width: 32px;\n",
              "    }\n",
              "\n",
              "    .colab-df-convert:hover {\n",
              "      background-color: #E2EBFA;\n",
              "      box-shadow: 0px 1px 2px rgba(60, 64, 67, 0.3), 0px 1px 3px 1px rgba(60, 64, 67, 0.15);\n",
              "      fill: #174EA6;\n",
              "    }\n",
              "\n",
              "    [theme=dark] .colab-df-convert {\n",
              "      background-color: #3B4455;\n",
              "      fill: #D2E3FC;\n",
              "    }\n",
              "\n",
              "    [theme=dark] .colab-df-convert:hover {\n",
              "      background-color: #434B5C;\n",
              "      box-shadow: 0px 1px 3px 1px rgba(0, 0, 0, 0.15);\n",
              "      filter: drop-shadow(0px 1px 2px rgba(0, 0, 0, 0.3));\n",
              "      fill: #FFFFFF;\n",
              "    }\n",
              "  </style>\n",
              "\n",
              "      <script>\n",
              "        const buttonEl =\n",
              "          document.querySelector('#df-8c8c3773-ee66-47ee-8ff6-74d1a7d16c37 button.colab-df-convert');\n",
              "        buttonEl.style.display =\n",
              "          google.colab.kernel.accessAllowed ? 'block' : 'none';\n",
              "\n",
              "        async function convertToInteractive(key) {\n",
              "          const element = document.querySelector('#df-8c8c3773-ee66-47ee-8ff6-74d1a7d16c37');\n",
              "          const dataTable =\n",
              "            await google.colab.kernel.invokeFunction('convertToInteractive',\n",
              "                                                     [key], {});\n",
              "          if (!dataTable) return;\n",
              "\n",
              "          const docLinkHtml = 'Like what you see? Visit the ' +\n",
              "            '<a target=\"_blank\" href=https://colab.research.google.com/notebooks/data_table.ipynb>data table notebook</a>'\n",
              "            + ' to learn more about interactive tables.';\n",
              "          element.innerHTML = '';\n",
              "          dataTable['output_type'] = 'display_data';\n",
              "          await google.colab.output.renderOutput(dataTable, element);\n",
              "          const docLink = document.createElement('div');\n",
              "          docLink.innerHTML = docLinkHtml;\n",
              "          element.appendChild(docLink);\n",
              "        }\n",
              "      </script>\n",
              "    </div>\n",
              "  </div>\n"
            ]
          },
          "metadata": {},
          "execution_count": 6
        }
      ],
      "source": [
        "df = df.drop_duplicates().reset_index(drop=True)\n",
        "df.describe(include='all', datetime_is_numeric=True)"
      ]
    },
    {
      "cell_type": "markdown",
      "metadata": {
        "id": "LtD5h61amhuN"
      },
      "source": [
        "We see that the ``NumberOfPictures`` variable contains only zeros - we definitely won't need it. Also, when solving the problem, we definitely won’t need the nominal variable ``PostalCode`` (postal code) and the variable ``DateCrawled``, which practically duplicates the ``DateCreated`` variable, only adding unnecessary precision to it.\n",
        "\n",
        "Let's delete them."
      ]
    },
    {
      "cell_type": "code",
      "execution_count": 7,
      "metadata": {
        "id": "J0u51hO4mhum"
      },
      "outputs": [],
      "source": [
        "df = df.drop(columns=['DateCrawled', 'NumberOfPictures', 'PostalCode'])"
      ]
    },
    {
      "cell_type": "markdown",
      "metadata": {
        "id": "LcB9dVuTmhum"
      },
      "source": [
        "Now let's take a look at the passes. We certainly cannot fill in the gaps in the ``Model`` and ``Repaired`` variables. In the first case, we will throw out these passes, since there are relatively few of them (19,705).\n",
        "\n",
        "But in the case of the ``Repaired`` variable, there are more than 71,000 of them. Therefore, we will replace the unknown values with the value **unknown**."
      ]
    },
    {
      "cell_type": "code",
      "execution_count": 8,
      "metadata": {
        "id": "6R_49nkimhum"
      },
      "outputs": [],
      "source": [
        "df = df.dropna(subset=['Model'])"
      ]
    },
    {
      "cell_type": "code",
      "execution_count": null,
      "metadata": {
        "id": "T9X5arKWmhum"
      },
      "outputs": [],
      "source": [
        "df['Repaired'] = df['Repaired'].fillna('unknown')"
      ]
    },
    {
      "cell_type": "markdown",
      "metadata": {
        "id": "cnTSu2dLmhum"
      },
      "source": [
        "Let's look at the omissions now."
      ]
    },
    {
      "cell_type": "code",
      "execution_count": 10,
      "metadata": {
        "colab": {
          "base_uri": "https://localhost:8080/"
        },
        "id": "kNq_9Uj6mhum",
        "outputId": "61634787-7176-4014-c3b8-8ef4258d0cb7"
      },
      "outputs": [
        {
          "output_type": "execute_result",
          "data": {
            "text/plain": [
              "Price                    0\n",
              "VehicleType          30662\n",
              "RegistrationYear         0\n",
              "Gearbox              15702\n",
              "Power                    0\n",
              "Model                    0\n",
              "Kilometer                0\n",
              "RegistrationMonth        0\n",
              "FuelType             25732\n",
              "Brand                    0\n",
              "Repaired                 0\n",
              "DateCreated              0\n",
              "LastSeen                 0\n",
              "dtype: int64"
            ]
          },
          "metadata": {},
          "execution_count": 10
        }
      ],
      "source": [
        "df.isna().sum()"
      ]
    },
    {
      "cell_type": "markdown",
      "metadata": {
        "id": "VVcuAjvcmhun"
      },
      "source": [
        "Missed values remain in three nominal variables, reflecting the vehicle type, its gearbox and the fuel used.\n",
        "\n",
        "We can fill in these gaps by grouping the data by car model and filling it in based on the most common values for those models - after all, the same models probably have the same vehicle types, gearboxes and fuels.\n",
        "\n",
        "But first, let's look at what kind of numerical data we are dealing with, on histograms."
      ]
    },
    {
      "cell_type": "code",
      "execution_count": 13,
      "metadata": {
        "colab": {
          "base_uri": "https://localhost:8080/",
          "height": 690
        },
        "id": "zkGuHF5Qmhun",
        "outputId": "87edd06b-8382-4e2d-9d0a-0bbaeae12983"
      },
      "outputs": [
        {
          "output_type": "display_data",
          "data": {
            "text/plain": [
              "<Figure size 2000x1000 with 9 Axes>"
            ],
            "image/png": "[encoded data removed]"
          },
          "metadata": {}
        }
      ],
      "source": [
        "df.hist(bins=50, figsize=(20,10));"
      ]
    },
    {
      "cell_type": "markdown",
      "metadata": {
        "id": "fwUqJ8Bsmhun"
      },
      "source": [
        "With variables that are related to dates in one way or another, everything is clear, with the exception of the ``RegistrationYear`` variable - in the table above, we saw obvious outliers in its minimum and maximum values. The distributions of the ``Price``, ``Power``, and ``Kilometer`` variables we need will also be examined in more detail."
      ]
    },
    {
      "cell_type": "markdown",
      "metadata": {
        "id": "d1CJFITsmhun"
      },
      "source": [
        "Let's start with the year of registration."
      ]
    },
    {
      "cell_type": "code",
      "execution_count": 14,
      "metadata": {
        "colab": {
          "base_uri": "https://localhost:8080/",
          "height": 599
        },
        "id": "Jfp6Fw9pmhun",
        "outputId": "e0196fad-ccdc-4669-9189-887f36671101"
      },
      "outputs": [
        {
          "output_type": "display_data",
          "data": {
            "text/plain": [
              "<Figure size 700x700 with 1 Axes>"
            ],
            "image/png": "[encoded data removed]"
          },
          "metadata": {}
        }
      ],
      "source": [
        "plt.figure(figsize=(7,7))\n",
        "\n",
        "plt.boxplot(df['RegistrationYear'], labels=' ');"
      ]
    },
    {
      "cell_type": "markdown",
      "metadata": {
        "id": "fT8mzxCImhun"
      },
      "source": [
        "We see a large number of outliers - especially unrealistic registration year values after 2016 (the maximum year in the ``DateCreated`` variable, for example). Let's leave for ourselves only the range from 1900 (maybe the antique cars are also presented on the platform...) to 2016. First, let's replace the outliers with NaNs."
      ]
    },
    {
      "cell_type": "code",
      "execution_count": 15,
      "metadata": {
        "id": "qSjdhHQjmhun"
      },
      "outputs": [],
      "source": [
        "df.loc[((df['RegistrationYear'] > 2016) | (df['RegistrationYear'] < 1900)), 'RegistrationYear'] = np.NaN"
      ]
    },
    {
      "cell_type": "markdown",
      "metadata": {
        "id": "qMU_Hk5Dmhuo"
      },
      "source": [
        "Let's calculate how many missed values we have now."
      ]
    },
    {
      "cell_type": "code",
      "execution_count": 16,
      "metadata": {
        "colab": {
          "base_uri": "https://localhost:8080/"
        },
        "id": "9DYIJBJ4mhuo",
        "outputId": "e1423f5d-da55-4ea9-e5a1-fc9afb272fa4"
      },
      "outputs": [
        {
          "output_type": "execute_result",
          "data": {
            "text/plain": [
              "12516"
            ]
          },
          "metadata": {},
          "execution_count": 16
        }
      ],
      "source": [
        "df['RegistrationYear'].isna().sum()"
      ]
    },
    {
      "cell_type": "markdown",
      "metadata": {
        "id": "OWdAY23imhuy"
      },
      "source": [
        "Let's fill in these missed values based on the most frequent registration year values for certain car models."
      ]
    },
    {
      "cell_type": "code",
      "execution_count": 17,
      "metadata": {
        "id": "FSTMJ8JPmhuy"
      },
      "outputs": [],
      "source": [
        "df['RegistrationYear'] = df['RegistrationYear'].fillna(df.groupby('Model')['RegistrationYear']\\\n",
        "                                             .transform(lambda x: x.value_counts().idxmax()))"
      ]
    },
    {
      "cell_type": "markdown",
      "metadata": {
        "id": "LSci3OZPmhuy"
      },
      "source": [
        "Let's see what the distribution of the variable looks like now."
      ]
    },
    {
      "cell_type": "code",
      "execution_count": 18,
      "metadata": {
        "colab": {
          "base_uri": "https://localhost:8080/",
          "height": 669
        },
        "id": "XS3pnMV_mhuy",
        "outputId": "82480131-9cd8-4422-8e4e-feae04370853"
      },
      "outputs": [
        {
          "output_type": "display_data",
          "data": {
            "text/plain": [
              "<Figure size 1400x700 with 2 Axes>"
            ],
            "image/png": "[encoded data removed]"
          },
          "metadata": {}
        }
      ],
      "source": [
        "fig, ax = plt.subplots(1, 2, figsize=(14,7));\n",
        "\n",
        "fig.suptitle('Distribution by years of vehicle registration', fontsize=15)\n",
        "\n",
        "ax[0].boxplot(df['RegistrationYear'], labels=' ');\n",
        "\n",
        "ax[1].hist(df['RegistrationYear'], bins=50, edgecolor='black');"
      ]
    },
    {
      "cell_type": "markdown",
      "metadata": {
        "id": "Jhj3ICVZmhuy"
      },
      "source": [
        "Much better! We can work with that.  "
      ]
    },
    {
      "cell_type": "markdown",
      "metadata": {
        "id": "R2g2FX8qmhuz"
      },
      "source": [
        "Now let's take a look at the box plots of our target trait and its (rather important) potential predictors."
      ]
    },
    {
      "cell_type": "code",
      "execution_count": 19,
      "metadata": {
        "scrolled": false,
        "colab": {
          "base_uri": "https://localhost:8080/",
          "height": 608
        },
        "id": "Kg2MijyEmhuz",
        "outputId": "76962652-ae10-4abc-ff45-594a52995d6a"
      },
      "outputs": [
        {
          "output_type": "display_data",
          "data": {
            "text/plain": [
              "<Figure size 1500x600 with 3 Axes>"
            ],
            "image/png": "[encoded data removed]"
          },
          "metadata": {}
        }
      ],
      "source": [
        "fig, ax = plt.subplots(1, 3, figsize=(15,6));\n",
        "\n",
        "fig.suptitle('Price, power and mileage distribution charts', fontsize=15)\n",
        "\n",
        "ax[0].boxplot(df['Price'], labels=' ');\n",
        "ax[0].set_xlabel('Price', fontsize=15);\n",
        "\n",
        "ax[1].boxplot(df['Power'], labels=' ');\n",
        "ax[1].set_xlabel('Power', fontsize=15);\n",
        "\n",
        "ax[2].boxplot(df['Kilometer'], labels=' ');\n",
        "ax[2].set_xlabel('Mileage', fontsize=15);\n"
      ]
    },
    {
      "cell_type": "markdown",
      "metadata": {
        "id": "rMyoF9Smmhuz"
      },
      "source": [
        "We definitely need to remove the zero value of the price. But outliers within reasonable limits are generally acceptable here.\n",
        "\n",
        "The same cannot be said about power - anything above 1000 horsepower is completely unrealistic. We will also replace them with NaNs.\n",
        "\n",
        "We see a strange cutoff along the median for the mileage variable. This is probably the maximum allowable mileage that can be set on the site, so there is a significant bias in its direction. There are also outliers approaching zero. Among them, we can substitute too low (<15 km) values with NaNs."
      ]
    },
    {
      "cell_type": "code",
      "execution_count": 20,
      "metadata": {
        "id": "hjMxKIjZmhuz"
      },
      "outputs": [],
      "source": [
        "df.loc[(df['Price'] == 0), 'Price'] = np.NaN\n",
        "df.loc[((df['Power'] == 0) | (df['Power'] > 1000)), 'Power'] = np.NaN\n",
        "df.loc[(df['Kilometer'] < 15), 'Kilometer'] = np.NaN"
      ]
    },
    {
      "cell_type": "markdown",
      "metadata": {
        "id": "6eh8lSw3mhuz"
      },
      "source": [
        "Let's see how many NaNs we have now."
      ]
    },
    {
      "cell_type": "code",
      "execution_count": 21,
      "metadata": {
        "colab": {
          "base_uri": "https://localhost:8080/"
        },
        "id": "7x_AGoXvmhuz",
        "outputId": "c8f5f87c-fffe-438a-bf7b-f34ddcff00c7"
      },
      "outputs": [
        {
          "output_type": "stream",
          "name": "stdout",
          "text": [
            "8588\n",
            "34196\n",
            "0\n"
          ]
        }
      ],
      "source": [
        "print(df['Price'].isna().sum())\n",
        "print(df['Power'].isna().sum())\n",
        "print(df['Kilometer'].isna().sum())"
      ]
    },
    {
      "cell_type": "markdown",
      "metadata": {
        "id": "PZFw32dhmhu0"
      },
      "source": [
        "Quite a lot in the price variable, even more in the power variable, and zero in the mileage variable. Well, then we will continue to work with the first two.\n",
        "\n",
        "Let's fill in the NaNs based on the median values of price and power for certain car models."
      ]
    },
    {
      "cell_type": "code",
      "execution_count": 22,
      "metadata": {
        "id": "AYZXOBHnmhu0"
      },
      "outputs": [],
      "source": [
        "df['Price'] = df['Price'].fillna(df.groupby('Model')['Price'].transform('median'))\n",
        "df['Power'] = df['Power'].fillna(df.groupby('Model')['Power'].transform('median'))"
      ]
    },
    {
      "cell_type": "code",
      "execution_count": 23,
      "metadata": {
        "colab": {
          "base_uri": "https://localhost:8080/"
        },
        "id": "bG2izExCmhu0",
        "outputId": "eb9db9dd-1ad7-49cd-ad9e-9c5ec5142730"
      },
      "outputs": [
        {
          "output_type": "stream",
          "name": "stdout",
          "text": [
            "0\n",
            "2\n"
          ]
        }
      ],
      "source": [
        "print(df['Price'].isna().sum())\n",
        "print(df['Power'].isna().sum())"
      ]
    },
    {
      "cell_type": "markdown",
      "metadata": {
        "id": "iphOGmcmmhu0"
      },
      "source": [
        "For some reason, two gaps in the variable power were not filled. Let's look at them."
      ]
    },
    {
      "cell_type": "code",
      "execution_count": 24,
      "metadata": {
        "colab": {
          "base_uri": "https://localhost:8080/",
          "height": 156
        },
        "id": "no6iEnoZmhu0",
        "outputId": "8da1003e-9735-40f7-c88f-9ce14b8201a9"
      },
      "outputs": [
        {
          "output_type": "execute_result",
          "data": {
            "text/plain": [
              "         Price VehicleType  RegistrationYear Gearbox  Power    Model  \\\n",
              "234294  3800.0       wagon            1978.0  manual    NaN  serie_1   \n",
              "280213  3800.0         NaN            1970.0     NaN    NaN  serie_1   \n",
              "\n",
              "        Kilometer  RegistrationMonth  FuelType       Brand Repaired  \\\n",
              "234294    30000.0                  0  gasoline  land_rover  unknown   \n",
              "280213   100000.0                  0    petrol  land_rover  unknown   \n",
              "\n",
              "       DateCreated            LastSeen  \n",
              "234294  2016-03-30 2016-03-30 11:39:08  \n",
              "280213  2016-04-02 2016-04-06 09:16:22  "
            ],
            "text/html": [
              "\n",
              "\n",
              "  <div id=\"df-44ef40a5-3ba6-496f-b29a-7a545bfdaf04\">\n",
              "    <div class=\"colab-df-container\">\n",
              "      <div>\n",
              "<style scoped>\n",
              "    .dataframe tbody tr th:only-of-type {\n",
              "        vertical-align: middle;\n",
              "    }\n",
              "\n",
              "    .dataframe tbody tr th {\n",
              "        vertical-align: top;\n",
              "    }\n",
              "\n",
              "    .dataframe thead th {\n",
              "        text-align: right;\n",
              "    }\n",
              "</style>\n",
              "<table border=\"1\" class=\"dataframe\">\n",
              "  <thead>\n",
              "    <tr style=\"text-align: right;\">\n",
              "      <th></th>\n",
              "      <th>Price</th>\n",
              "      <th>VehicleType</th>\n",
              "      <th>RegistrationYear</th>\n",
              "      <th>Gearbox</th>\n",
              "      <th>Power</th>\n",
              "      <th>Model</th>\n",
              "      <th>Kilometer</th>\n",
              "      <th>RegistrationMonth</th>\n",
              "      <th>FuelType</th>\n",
              "      <th>Brand</th>\n",
              "      <th>Repaired</th>\n",
              "      <th>DateCreated</th>\n",
              "      <th>LastSeen</th>\n",
              "    </tr>\n",
              "  </thead>\n",
              "  <tbody>\n",
              "    <tr>\n",
              "      <th>234294</th>\n",
              "      <td>3800.0</td>\n",
              "      <td>wagon</td>\n",
              "      <td>1978.0</td>\n",
              "      <td>manual</td>\n",
              "      <td>NaN</td>\n",
              "      <td>serie_1</td>\n",
              "      <td>30000.0</td>\n",
              "      <td>0</td>\n",
              "      <td>gasoline</td>\n",
              "      <td>land_rover</td>\n",
              "      <td>unknown</td>\n",
              "      <td>2016-03-30</td>\n",
              "      <td>2016-03-30 11:39:08</td>\n",
              "    </tr>\n",
              "    <tr>\n",
              "      <th>280213</th>\n",
              "      <td>3800.0</td>\n",
              "      <td>NaN</td>\n",
              "      <td>1970.0</td>\n",
              "      <td>NaN</td>\n",
              "      <td>NaN</td>\n",
              "      <td>serie_1</td>\n",
              "      <td>100000.0</td>\n",
              "      <td>0</td>\n",
              "      <td>petrol</td>\n",
              "      <td>land_rover</td>\n",
              "      <td>unknown</td>\n",
              "      <td>2016-04-02</td>\n",
              "      <td>2016-04-06 09:16:22</td>\n",
              "    </tr>\n",
              "  </tbody>\n",
              "</table>\n",
              "</div>\n",
              "      <button class=\"colab-df-convert\" onclick=\"convertToInteractive('df-44ef40a5-3ba6-496f-b29a-7a545bfdaf04')\"\n",
              "              title=\"Convert this dataframe to an interactive table.\"\n",
              "              style=\"display:none;\">\n",
              "\n",
              "  <svg xmlns=\"http://www.w3.org/2000/svg\" height=\"24px\"viewBox=\"0 0 24 24\"\n",
              "       width=\"24px\">\n",
              "    <path d=\"M0 0h24v24H0V0z\" fill=\"none\"/>\n",
              "    <path d=\"M18.56 5.44l.94 2.06.94-2.06 2.06-.94-2.06-.94-.94-2.06-.94 2.06-2.06.94zm-11 1L8.5 8.5l.94-2.06 2.06-.94-2.06-.94L8.5 2.5l-.94 2.06-2.06.94zm10 10l.94 2.06.94-2.06 2.06-.94-2.06-.94-.94-2.06-.94 2.06-2.06.94z\"/><path d=\"M17.41 7.96l-1.37-1.37c-.4-.4-.92-.59-1.43-.59-.52 0-1.04.2-1.43.59L10.3 9.45l-7.72 7.72c-.78.78-.78 2.05 0 2.83L4 21.41c.39.39.9.59 1.41.59.51 0 1.02-.2 1.41-.59l7.78-7.78 2.81-2.81c.8-.78.8-2.07 0-2.86zM5.41 20L4 18.59l7.72-7.72 1.47 1.35L5.41 20z\"/>\n",
              "  </svg>\n",
              "      </button>\n",
              "\n",
              "\n",
              "\n",
              "    <div id=\"df-78644d8a-ee7e-4380-b39a-73c91148dba5\">\n",
              "      <button class=\"colab-df-quickchart\" onclick=\"quickchart('df-78644d8a-ee7e-4380-b39a-73c91148dba5')\"\n",
              "              title=\"Suggest charts.\"\n",
              "              style=\"display:none;\">\n",
              "\n",
              "<svg xmlns=\"http://www.w3.org/2000/svg\" height=\"24px\"viewBox=\"0 0 24 24\"\n",
              "     width=\"24px\">\n",
              "    <g>\n",
              "        <path d=\"M19 3H5c-1.1 0-2 .9-2 2v14c0 1.1.9 2 2 2h14c1.1 0 2-.9 2-2V5c0-1.1-.9-2-2-2zM9 17H7v-7h2v7zm4 0h-2V7h2v10zm4 0h-2v-4h2v4z\"/>\n",
              "    </g>\n",
              "</svg>\n",
              "      </button>\n",
              "    </div>\n",
              "\n",
              "<style>\n",
              "  .colab-df-quickchart {\n",
              "    background-color: #E8F0FE;\n",
              "    border: none;\n",
              "    border-radius: 50%;\n",
              "    cursor: pointer;\n",
              "    display: none;\n",
              "    fill: #1967D2;\n",
              "    height: 32px;\n",
              "    padding: 0 0 0 0;\n",
              "    width: 32px;\n",
              "  }\n",
              "\n",
              "  .colab-df-quickchart:hover {\n",
              "    background-color: #E2EBFA;\n",
              "    box-shadow: 0px 1px 2px rgba(60, 64, 67, 0.3), 0px 1px 3px 1px rgba(60, 64, 67, 0.15);\n",
              "    fill: #174EA6;\n",
              "  }\n",
              "\n",
              "  [theme=dark] .colab-df-quickchart {\n",
              "    background-color: #3B4455;\n",
              "    fill: #D2E3FC;\n",
              "  }\n",
              "\n",
              "  [theme=dark] .colab-df-quickchart:hover {\n",
              "    background-color: #434B5C;\n",
              "    box-shadow: 0px 1px 3px 1px rgba(0, 0, 0, 0.15);\n",
              "    filter: drop-shadow(0px 1px 2px rgba(0, 0, 0, 0.3));\n",
              "    fill: #FFFFFF;\n",
              "  }\n",
              "</style>\n",
              "\n",
              "    <script>\n",
              "      async function quickchart(key) {\n",
              "        const containerElement = document.querySelector('#' + key);\n",
              "        const charts = await google.colab.kernel.invokeFunction(\n",
              "            'suggestCharts', [key], {});\n",
              "      }\n",
              "    </script>\n",
              "\n",
              "      <script>\n",
              "\n",
              "function displayQuickchartButton(domScope) {\n",
              "  let quickchartButtonEl =\n",
              "    domScope.querySelector('#df-78644d8a-ee7e-4380-b39a-73c91148dba5 button.colab-df-quickchart');\n",
              "  quickchartButtonEl.style.display =\n",
              "    google.colab.kernel.accessAllowed ? 'block' : 'none';\n",
              "}\n",
              "\n",
              "        displayQuickchartButton(document);\n",
              "      </script>\n",
              "      <style>\n",
              "    .colab-df-container {\n",
              "      display:flex;\n",
              "      flex-wrap:wrap;\n",
              "      gap: 12px;\n",
              "    }\n",
              "\n",
              "    .colab-df-convert {\n",
              "      background-color: #E8F0FE;\n",
              "      border: none;\n",
              "      border-radius: 50%;\n",
              "      cursor: pointer;\n",
              "      display: none;\n",
              "      fill: #1967D2;\n",
              "      height: 32px;\n",
              "      padding: 0 0 0 0;\n",
              "      width: 32px;\n",
              "    }\n",
              "\n",
              "    .colab-df-convert:hover {\n",
              "      background-color: #E2EBFA;\n",
              "      box-shadow: 0px 1px 2px rgba(60, 64, 67, 0.3), 0px 1px 3px 1px rgba(60, 64, 67, 0.15);\n",
              "      fill: #174EA6;\n",
              "    }\n",
              "\n",
              "    [theme=dark] .colab-df-convert {\n",
              "      background-color: #3B4455;\n",
              "      fill: #D2E3FC;\n",
              "    }\n",
              "\n",
              "    [theme=dark] .colab-df-convert:hover {\n",
              "      background-color: #434B5C;\n",
              "      box-shadow: 0px 1px 3px 1px rgba(0, 0, 0, 0.15);\n",
              "      filter: drop-shadow(0px 1px 2px rgba(0, 0, 0, 0.3));\n",
              "      fill: #FFFFFF;\n",
              "    }\n",
              "  </style>\n",
              "\n",
              "      <script>\n",
              "        const buttonEl =\n",
              "          document.querySelector('#df-44ef40a5-3ba6-496f-b29a-7a545bfdaf04 button.colab-df-convert');\n",
              "        buttonEl.style.display =\n",
              "          google.colab.kernel.accessAllowed ? 'block' : 'none';\n",
              "\n",
              "        async function convertToInteractive(key) {\n",
              "          const element = document.querySelector('#df-44ef40a5-3ba6-496f-b29a-7a545bfdaf04');\n",
              "          const dataTable =\n",
              "            await google.colab.kernel.invokeFunction('convertToInteractive',\n",
              "                                                     [key], {});\n",
              "          if (!dataTable) return;\n",
              "\n",
              "          const docLinkHtml = 'Like what you see? Visit the ' +\n",
              "            '<a target=\"_blank\" href=https://colab.research.google.com/notebooks/data_table.ipynb>data table notebook</a>'\n",
              "            + ' to learn more about interactive tables.';\n",
              "          element.innerHTML = '';\n",
              "          dataTable['output_type'] = 'display_data';\n",
              "          await google.colab.output.renderOutput(dataTable, element);\n",
              "          const docLink = document.createElement('div');\n",
              "          docLink.innerHTML = docLinkHtml;\n",
              "          element.appendChild(docLink);\n",
              "        }\n",
              "      </script>\n",
              "    </div>\n",
              "  </div>\n"
            ]
          },
          "metadata": {},
          "execution_count": 24
        }
      ],
      "source": [
        "df.loc[df['Power'].isna()]"
      ]
    },
    {
      "cell_type": "markdown",
      "metadata": {
        "id": "VLed4U97mhu1"
      },
      "source": [
        "Let's try to remove it again."
      ]
    },
    {
      "cell_type": "code",
      "execution_count": 25,
      "metadata": {
        "id": "KPz1Mjonmhu1"
      },
      "outputs": [],
      "source": [
        "df['Power'] = df['Power'].dropna()"
      ]
    },
    {
      "cell_type": "code",
      "execution_count": 26,
      "metadata": {
        "colab": {
          "base_uri": "https://localhost:8080/"
        },
        "id": "-0Uq9tKrmhu1",
        "outputId": "a8885f72-be81-49b1-a6bc-aa094275d88d"
      },
      "outputs": [
        {
          "output_type": "stream",
          "name": "stdout",
          "text": [
            "2\n"
          ]
        }
      ],
      "source": [
        "print(df['Power'].isna().sum())"
      ]
    },
    {
      "cell_type": "markdown",
      "metadata": {
        "id": "N9Id_aCcmhu1"
      },
      "source": [
        "Wow! Quite stubborn they are. But we will defeat them with the help of index filtering."
      ]
    },
    {
      "cell_type": "code",
      "execution_count": 27,
      "metadata": {
        "id": "sawVGB_rmhu1"
      },
      "outputs": [],
      "source": [
        "nanlist = df.loc[df['Power'].isna()].index.tolist()"
      ]
    },
    {
      "cell_type": "code",
      "execution_count": 28,
      "metadata": {
        "id": "z77-bodzmhu1"
      },
      "outputs": [],
      "source": [
        "df = df.drop(nanlist, axis=0)"
      ]
    },
    {
      "cell_type": "code",
      "execution_count": 29,
      "metadata": {
        "colab": {
          "base_uri": "https://localhost:8080/"
        },
        "id": "LsTETk9Bmhu1",
        "outputId": "b06746ba-f4d4-4320-90cc-cd7fbc001798"
      },
      "outputs": [
        {
          "output_type": "stream",
          "name": "stdout",
          "text": [
            "0\n"
          ]
        }
      ],
      "source": [
        "print(df['Power'].isna().sum())"
      ]
    },
    {
      "cell_type": "markdown",
      "metadata": {
        "id": "ozTATA9rmhu2"
      },
      "source": [
        "It worked! Now let's take a look at the diagrams after processing the anomalies."
      ]
    },
    {
      "cell_type": "code",
      "execution_count": 30,
      "metadata": {
        "colab": {
          "base_uri": "https://localhost:8080/",
          "height": 608
        },
        "id": "xIqmELnsmhu2",
        "outputId": "e31a49a8-a976-4f2a-de12-d30542239950"
      },
      "outputs": [
        {
          "output_type": "display_data",
          "data": {
            "text/plain": [
              "<Figure size 1500x600 with 2 Axes>"
            ],
            "image/png": "[encoded data removed]"
          },
          "metadata": {}
        }
      ],
      "source": [
        "fig, ax = plt.subplots(1, 2, figsize=(15,6));\n",
        "\n",
        "fig.suptitle('Price, power and mileage distribution charts', fontsize=15)\n",
        "\n",
        "ax[0].boxplot(df['Price'], labels=' ');\n",
        "ax[0].set_xlabel('Price', fontsize=15);\n",
        "\n",
        "ax[1].boxplot(df['Power'], labels=' ');\n",
        "ax[1].set_xlabel('Power', fontsize=15);"
      ]
    },
    {
      "cell_type": "markdown",
      "metadata": {
        "id": "MjN524HRmhu2"
      },
      "source": [
        "It looks like something realistic. That's what we'll be working with."
      ]
    },
    {
      "cell_type": "markdown",
      "metadata": {
        "id": "9Ena4Qolmhu2"
      },
      "source": [
        "Now, as mentioned earlier, we will replace the NaNs in the nominal variables on the basis of the most frequent values."
      ]
    },
    {
      "cell_type": "code",
      "execution_count": 31,
      "metadata": {
        "id": "LfJ-TDASmhu2"
      },
      "outputs": [],
      "source": [
        "df['VehicleType'] = df['VehicleType'].fillna(df.groupby('Model')['VehicleType']\\\n",
        "                                             .transform(lambda x: x.value_counts().idxmax()))\n",
        "df['Gearbox'] = df['Gearbox'].fillna(df.groupby('Model')['Gearbox']\\\n",
        "                                     .transform(lambda x: x.value_counts().idxmax()))\n",
        "df['FuelType'] = df['FuelType'].fillna(df.groupby('Model')['FuelType']\\\n",
        "                                       .transform(lambda x: x.value_counts().idxmax()))"
      ]
    },
    {
      "cell_type": "markdown",
      "metadata": {
        "id": "3tZAGBPkmhu2"
      },
      "source": [
        "Now let's process our remaining date variables ``DateCreated`` and ``LastSeen`` so they can be used in the model.\n",
        "\n",
        "We'll  take the base date (the minimum value of the ``DateCreated`` variable) and count the number of days since."
      ]
    },
    {
      "cell_type": "code",
      "execution_count": 32,
      "metadata": {
        "colab": {
          "base_uri": "https://localhost:8080/"
        },
        "id": "6BkchbQ8mhu3",
        "outputId": "c822de31-8ecd-4670-c28f-842f2a8cf9f4"
      },
      "outputs": [
        {
          "output_type": "execute_result",
          "data": {
            "text/plain": [
              "Timestamp('2014-03-10 00:00:00')"
            ]
          },
          "metadata": {},
          "execution_count": 32
        }
      ],
      "source": [
        "min(df['DateCreated'])"
      ]
    },
    {
      "cell_type": "code",
      "execution_count": 33,
      "metadata": {
        "id": "-EePXXQlmhu3"
      },
      "outputs": [],
      "source": [
        "base_date = pd.Timestamp('2014-03-10 00:00:00')\n",
        "df['DateCreated'] = df['DateCreated'].transform(lambda x: (pd.Timestamp(x) - base_date).days)\n",
        "df['LastSeen'] = df['LastSeen'].transform(lambda x: (pd.Timestamp(x) - base_date).days)"
      ]
    },
    {
      "cell_type": "markdown",
      "metadata": {
        "id": "O2m7SHaqmhu3"
      },
      "source": [
        "Now, in order to reduce the dimensionality, let's combine the ``Brand`` and ``Model`` variables into one, since this will not distort the data in any way, but it will help us simplify the encoding."
      ]
    },
    {
      "cell_type": "code",
      "execution_count": 34,
      "metadata": {
        "colab": {
          "base_uri": "https://localhost:8080/",
          "height": 250
        },
        "id": "p15kvePVmhu3",
        "outputId": "b6df09bb-5328-4f5b-8e81-05baa5c3cc04"
      },
      "outputs": [
        {
          "output_type": "execute_result",
          "data": {
            "text/plain": [
              "    Price VehicleType  RegistrationYear Gearbox  Power  Model  Kilometer  \\\n",
              "0   480.0       sedan            1993.0  manual  101.0   golf   150000.0   \n",
              "2  9800.0         suv            2004.0    auto  163.0  grand   125000.0   \n",
              "3  1500.0       small            2001.0  manual   75.0   golf   150000.0   \n",
              "4  3600.0       small            2008.0  manual   69.0  fabia    90000.0   \n",
              "5   650.0       sedan            1995.0  manual  102.0    3er   150000.0   \n",
              "\n",
              "   RegistrationMonth  FuelType       Brand Repaired  DateCreated  LastSeen  \\\n",
              "0                  0    petrol  volkswagen  unknown          745       759   \n",
              "2                  8  gasoline        jeep  unknown          735       757   \n",
              "3                  6    petrol  volkswagen       no          738       738   \n",
              "4                  7  gasoline       skoda       no          752       758   \n",
              "5                 10    petrol         bmw      yes          756       758   \n",
              "\n",
              "       brand_model  \n",
              "0  volkswagen golf  \n",
              "2       jeep grand  \n",
              "3  volkswagen golf  \n",
              "4      skoda fabia  \n",
              "5          bmw 3er  "
            ],
            "text/html": [
              "\n",
              "\n",
              "  <div id=\"df-3385f2c1-6550-4bd4-8c9e-5db23f1df78f\">\n",
              "    <div class=\"colab-df-container\">\n",
              "      <div>\n",
              "<style scoped>\n",
              "    .dataframe tbody tr th:only-of-type {\n",
              "        vertical-align: middle;\n",
              "    }\n",
              "\n",
              "    .dataframe tbody tr th {\n",
              "        vertical-align: top;\n",
              "    }\n",
              "\n",
              "    .dataframe thead th {\n",
              "        text-align: right;\n",
              "    }\n",
              "</style>\n",
              "<table border=\"1\" class=\"dataframe\">\n",
              "  <thead>\n",
              "    <tr style=\"text-align: right;\">\n",
              "      <th></th>\n",
              "      <th>Price</th>\n",
              "      <th>VehicleType</th>\n",
              "      <th>RegistrationYear</th>\n",
              "      <th>Gearbox</th>\n",
              "      <th>Power</th>\n",
              "      <th>Model</th>\n",
              "      <th>Kilometer</th>\n",
              "      <th>RegistrationMonth</th>\n",
              "      <th>FuelType</th>\n",
              "      <th>Brand</th>\n",
              "      <th>Repaired</th>\n",
              "      <th>DateCreated</th>\n",
              "      <th>LastSeen</th>\n",
              "      <th>brand_model</th>\n",
              "    </tr>\n",
              "  </thead>\n",
              "  <tbody>\n",
              "    <tr>\n",
              "      <th>0</th>\n",
              "      <td>480.0</td>\n",
              "      <td>sedan</td>\n",
              "      <td>1993.0</td>\n",
              "      <td>manual</td>\n",
              "      <td>101.0</td>\n",
              "      <td>golf</td>\n",
              "      <td>150000.0</td>\n",
              "      <td>0</td>\n",
              "      <td>petrol</td>\n",
              "      <td>volkswagen</td>\n",
              "      <td>unknown</td>\n",
              "      <td>745</td>\n",
              "      <td>759</td>\n",
              "      <td>volkswagen golf</td>\n",
              "    </tr>\n",
              "    <tr>\n",
              "      <th>2</th>\n",
              "      <td>9800.0</td>\n",
              "      <td>suv</td>\n",
              "      <td>2004.0</td>\n",
              "      <td>auto</td>\n",
              "      <td>163.0</td>\n",
              "      <td>grand</td>\n",
              "      <td>125000.0</td>\n",
              "      <td>8</td>\n",
              "      <td>gasoline</td>\n",
              "      <td>jeep</td>\n",
              "      <td>unknown</td>\n",
              "      <td>735</td>\n",
              "      <td>757</td>\n",
              "      <td>jeep grand</td>\n",
              "    </tr>\n",
              "    <tr>\n",
              "      <th>3</th>\n",
              "      <td>1500.0</td>\n",
              "      <td>small</td>\n",
              "      <td>2001.0</td>\n",
              "      <td>manual</td>\n",
              "      <td>75.0</td>\n",
              "      <td>golf</td>\n",
              "      <td>150000.0</td>\n",
              "      <td>6</td>\n",
              "      <td>petrol</td>\n",
              "      <td>volkswagen</td>\n",
              "      <td>no</td>\n",
              "      <td>738</td>\n",
              "      <td>738</td>\n",
              "      <td>volkswagen golf</td>\n",
              "    </tr>\n",
              "    <tr>\n",
              "      <th>4</th>\n",
              "      <td>3600.0</td>\n",
              "      <td>small</td>\n",
              "      <td>2008.0</td>\n",
              "      <td>manual</td>\n",
              "      <td>69.0</td>\n",
              "      <td>fabia</td>\n",
              "      <td>90000.0</td>\n",
              "      <td>7</td>\n",
              "      <td>gasoline</td>\n",
              "      <td>skoda</td>\n",
              "      <td>no</td>\n",
              "      <td>752</td>\n",
              "      <td>758</td>\n",
              "      <td>skoda fabia</td>\n",
              "    </tr>\n",
              "    <tr>\n",
              "      <th>5</th>\n",
              "      <td>650.0</td>\n",
              "      <td>sedan</td>\n",
              "      <td>1995.0</td>\n",
              "      <td>manual</td>\n",
              "      <td>102.0</td>\n",
              "      <td>3er</td>\n",
              "      <td>150000.0</td>\n",
              "      <td>10</td>\n",
              "      <td>petrol</td>\n",
              "      <td>bmw</td>\n",
              "      <td>yes</td>\n",
              "      <td>756</td>\n",
              "      <td>758</td>\n",
              "      <td>bmw 3er</td>\n",
              "    </tr>\n",
              "  </tbody>\n",
              "</table>\n",
              "</div>\n",
              "      <button class=\"colab-df-convert\" onclick=\"convertToInteractive('df-3385f2c1-6550-4bd4-8c9e-5db23f1df78f')\"\n",
              "              title=\"Convert this dataframe to an interactive table.\"\n",
              "              style=\"display:none;\">\n",
              "\n",
              "  <svg xmlns=\"http://www.w3.org/2000/svg\" height=\"24px\"viewBox=\"0 0 24 24\"\n",
              "       width=\"24px\">\n",
              "    <path d=\"M0 0h24v24H0V0z\" fill=\"none\"/>\n",
              "    <path d=\"M18.56 5.44l.94 2.06.94-2.06 2.06-.94-2.06-.94-.94-2.06-.94 2.06-2.06.94zm-11 1L8.5 8.5l.94-2.06 2.06-.94-2.06-.94L8.5 2.5l-.94 2.06-2.06.94zm10 10l.94 2.06.94-2.06 2.06-.94-2.06-.94-.94-2.06-.94 2.06-2.06.94z\"/><path d=\"M17.41 7.96l-1.37-1.37c-.4-.4-.92-.59-1.43-.59-.52 0-1.04.2-1.43.59L10.3 9.45l-7.72 7.72c-.78.78-.78 2.05 0 2.83L4 21.41c.39.39.9.59 1.41.59.51 0 1.02-.2 1.41-.59l7.78-7.78 2.81-2.81c.8-.78.8-2.07 0-2.86zM5.41 20L4 18.59l7.72-7.72 1.47 1.35L5.41 20z\"/>\n",
              "  </svg>\n",
              "      </button>\n",
              "\n",
              "\n",
              "\n",
              "    <div id=\"df-5811be6d-f98c-459a-a7af-48b030bc993e\">\n",
              "      <button class=\"colab-df-quickchart\" onclick=\"quickchart('df-5811be6d-f98c-459a-a7af-48b030bc993e')\"\n",
              "              title=\"Suggest charts.\"\n",
              "              style=\"display:none;\">\n",
              "\n",
              "<svg xmlns=\"http://www.w3.org/2000/svg\" height=\"24px\"viewBox=\"0 0 24 24\"\n",
              "     width=\"24px\">\n",
              "    <g>\n",
              "        <path d=\"M19 3H5c-1.1 0-2 .9-2 2v14c0 1.1.9 2 2 2h14c1.1 0 2-.9 2-2V5c0-1.1-.9-2-2-2zM9 17H7v-7h2v7zm4 0h-2V7h2v10zm4 0h-2v-4h2v4z\"/>\n",
              "    </g>\n",
              "</svg>\n",
              "      </button>\n",
              "    </div>\n",
              "\n",
              "<style>\n",
              "  .colab-df-quickchart {\n",
              "    background-color: #E8F0FE;\n",
              "    border: none;\n",
              "    border-radius: 50%;\n",
              "    cursor: pointer;\n",
              "    display: none;\n",
              "    fill: #1967D2;\n",
              "    height: 32px;\n",
              "    padding: 0 0 0 0;\n",
              "    width: 32px;\n",
              "  }\n",
              "\n",
              "  .colab-df-quickchart:hover {\n",
              "    background-color: #E2EBFA;\n",
              "    box-shadow: 0px 1px 2px rgba(60, 64, 67, 0.3), 0px 1px 3px 1px rgba(60, 64, 67, 0.15);\n",
              "    fill: #174EA6;\n",
              "  }\n",
              "\n",
              "  [theme=dark] .colab-df-quickchart {\n",
              "    background-color: #3B4455;\n",
              "    fill: #D2E3FC;\n",
              "  }\n",
              "\n",
              "  [theme=dark] .colab-df-quickchart:hover {\n",
              "    background-color: #434B5C;\n",
              "    box-shadow: 0px 1px 3px 1px rgba(0, 0, 0, 0.15);\n",
              "    filter: drop-shadow(0px 1px 2px rgba(0, 0, 0, 0.3));\n",
              "    fill: #FFFFFF;\n",
              "  }\n",
              "</style>\n",
              "\n",
              "    <script>\n",
              "      async function quickchart(key) {\n",
              "        const containerElement = document.querySelector('#' + key);\n",
              "        const charts = await google.colab.kernel.invokeFunction(\n",
              "            'suggestCharts', [key], {});\n",
              "      }\n",
              "    </script>\n",
              "\n",
              "      <script>\n",
              "\n",
              "function displayQuickchartButton(domScope) {\n",
              "  let quickchartButtonEl =\n",
              "    domScope.querySelector('#df-5811be6d-f98c-459a-a7af-48b030bc993e button.colab-df-quickchart');\n",
              "  quickchartButtonEl.style.display =\n",
              "    google.colab.kernel.accessAllowed ? 'block' : 'none';\n",
              "}\n",
              "\n",
              "        displayQuickchartButton(document);\n",
              "      </script>\n",
              "      <style>\n",
              "    .colab-df-container {\n",
              "      display:flex;\n",
              "      flex-wrap:wrap;\n",
              "      gap: 12px;\n",
              "    }\n",
              "\n",
              "    .colab-df-convert {\n",
              "      background-color: #E8F0FE;\n",
              "      border: none;\n",
              "      border-radius: 50%;\n",
              "      cursor: pointer;\n",
              "      display: none;\n",
              "      fill: #1967D2;\n",
              "      height: 32px;\n",
              "      padding: 0 0 0 0;\n",
              "      width: 32px;\n",
              "    }\n",
              "\n",
              "    .colab-df-convert:hover {\n",
              "      background-color: #E2EBFA;\n",
              "      box-shadow: 0px 1px 2px rgba(60, 64, 67, 0.3), 0px 1px 3px 1px rgba(60, 64, 67, 0.15);\n",
              "      fill: #174EA6;\n",
              "    }\n",
              "\n",
              "    [theme=dark] .colab-df-convert {\n",
              "      background-color: #3B4455;\n",
              "      fill: #D2E3FC;\n",
              "    }\n",
              "\n",
              "    [theme=dark] .colab-df-convert:hover {\n",
              "      background-color: #434B5C;\n",
              "      box-shadow: 0px 1px 3px 1px rgba(0, 0, 0, 0.15);\n",
              "      filter: drop-shadow(0px 1px 2px rgba(0, 0, 0, 0.3));\n",
              "      fill: #FFFFFF;\n",
              "    }\n",
              "  </style>\n",
              "\n",
              "      <script>\n",
              "        const buttonEl =\n",
              "          document.querySelector('#df-3385f2c1-6550-4bd4-8c9e-5db23f1df78f button.colab-df-convert');\n",
              "        buttonEl.style.display =\n",
              "          google.colab.kernel.accessAllowed ? 'block' : 'none';\n",
              "\n",
              "        async function convertToInteractive(key) {\n",
              "          const element = document.querySelector('#df-3385f2c1-6550-4bd4-8c9e-5db23f1df78f');\n",
              "          const dataTable =\n",
              "            await google.colab.kernel.invokeFunction('convertToInteractive',\n",
              "                                                     [key], {});\n",
              "          if (!dataTable) return;\n",
              "\n",
              "          const docLinkHtml = 'Like what you see? Visit the ' +\n",
              "            '<a target=\"_blank\" href=https://colab.research.google.com/notebooks/data_table.ipynb>data table notebook</a>'\n",
              "            + ' to learn more about interactive tables.';\n",
              "          element.innerHTML = '';\n",
              "          dataTable['output_type'] = 'display_data';\n",
              "          await google.colab.output.renderOutput(dataTable, element);\n",
              "          const docLink = document.createElement('div');\n",
              "          docLink.innerHTML = docLinkHtml;\n",
              "          element.appendChild(docLink);\n",
              "        }\n",
              "      </script>\n",
              "    </div>\n",
              "  </div>\n"
            ]
          },
          "metadata": {},
          "execution_count": 34
        }
      ],
      "source": [
        "df['brand_model'] = df['Brand'] + ' ' + df['Model']\n",
        "df.head()"
      ]
    },
    {
      "cell_type": "code",
      "execution_count": 35,
      "metadata": {
        "id": "rv3pzWybmhu3"
      },
      "outputs": [],
      "source": [
        "df = df.drop(columns=['Brand', 'Model'])"
      ]
    },
    {
      "cell_type": "markdown",
      "metadata": {
        "id": "KHLbDHh1mhu3"
      },
      "source": [
        "And finally, after we have processed all the columns and removed the excess, we will make the names in the snake case :)"
      ]
    },
    {
      "cell_type": "code",
      "execution_count": 37,
      "metadata": {
        "colab": {
          "base_uri": "https://localhost:8080/",
          "height": 206
        },
        "id": "zSTFfLHjmhu4",
        "outputId": "c26d8071-76d1-4bd9-c9e9-f548c5086187"
      },
      "outputs": [
        {
          "output_type": "execute_result",
          "data": {
            "text/plain": [
              "    price vehicletype  registrationyear gearbox  power  kilometer  \\\n",
              "0   480.0       sedan            1993.0  manual  101.0   150000.0   \n",
              "2  9800.0         suv            2004.0    auto  163.0   125000.0   \n",
              "3  1500.0       small            2001.0  manual   75.0   150000.0   \n",
              "4  3600.0       small            2008.0  manual   69.0    90000.0   \n",
              "5   650.0       sedan            1995.0  manual  102.0   150000.0   \n",
              "\n",
              "   registrationmonth  fueltype repaired  datecreated  lastseen  \\\n",
              "0                  0    petrol  unknown          745       759   \n",
              "2                  8  gasoline  unknown          735       757   \n",
              "3                  6    petrol       no          738       738   \n",
              "4                  7  gasoline       no          752       758   \n",
              "5                 10    petrol      yes          756       758   \n",
              "\n",
              "       brand_model  \n",
              "0  volkswagen golf  \n",
              "2       jeep grand  \n",
              "3  volkswagen golf  \n",
              "4      skoda fabia  \n",
              "5          bmw 3er  "
            ],
            "text/html": [
              "\n",
              "\n",
              "  <div id=\"df-41d18585-4d00-4ed3-a962-9bde7e91c07b\">\n",
              "    <div class=\"colab-df-container\">\n",
              "      <div>\n",
              "<style scoped>\n",
              "    .dataframe tbody tr th:only-of-type {\n",
              "        vertical-align: middle;\n",
              "    }\n",
              "\n",
              "    .dataframe tbody tr th {\n",
              "        vertical-align: top;\n",
              "    }\n",
              "\n",
              "    .dataframe thead th {\n",
              "        text-align: right;\n",
              "    }\n",
              "</style>\n",
              "<table border=\"1\" class=\"dataframe\">\n",
              "  <thead>\n",
              "    <tr style=\"text-align: right;\">\n",
              "      <th></th>\n",
              "      <th>price</th>\n",
              "      <th>vehicletype</th>\n",
              "      <th>registrationyear</th>\n",
              "      <th>gearbox</th>\n",
              "      <th>power</th>\n",
              "      <th>kilometer</th>\n",
              "      <th>registrationmonth</th>\n",
              "      <th>fueltype</th>\n",
              "      <th>repaired</th>\n",
              "      <th>datecreated</th>\n",
              "      <th>lastseen</th>\n",
              "      <th>brand_model</th>\n",
              "    </tr>\n",
              "  </thead>\n",
              "  <tbody>\n",
              "    <tr>\n",
              "      <th>0</th>\n",
              "      <td>480.0</td>\n",
              "      <td>sedan</td>\n",
              "      <td>1993.0</td>\n",
              "      <td>manual</td>\n",
              "      <td>101.0</td>\n",
              "      <td>150000.0</td>\n",
              "      <td>0</td>\n",
              "      <td>petrol</td>\n",
              "      <td>unknown</td>\n",
              "      <td>745</td>\n",
              "      <td>759</td>\n",
              "      <td>volkswagen golf</td>\n",
              "    </tr>\n",
              "    <tr>\n",
              "      <th>2</th>\n",
              "      <td>9800.0</td>\n",
              "      <td>suv</td>\n",
              "      <td>2004.0</td>\n",
              "      <td>auto</td>\n",
              "      <td>163.0</td>\n",
              "      <td>125000.0</td>\n",
              "      <td>8</td>\n",
              "      <td>gasoline</td>\n",
              "      <td>unknown</td>\n",
              "      <td>735</td>\n",
              "      <td>757</td>\n",
              "      <td>jeep grand</td>\n",
              "    </tr>\n",
              "    <tr>\n",
              "      <th>3</th>\n",
              "      <td>1500.0</td>\n",
              "      <td>small</td>\n",
              "      <td>2001.0</td>\n",
              "      <td>manual</td>\n",
              "      <td>75.0</td>\n",
              "      <td>150000.0</td>\n",
              "      <td>6</td>\n",
              "      <td>petrol</td>\n",
              "      <td>no</td>\n",
              "      <td>738</td>\n",
              "      <td>738</td>\n",
              "      <td>volkswagen golf</td>\n",
              "    </tr>\n",
              "    <tr>\n",
              "      <th>4</th>\n",
              "      <td>3600.0</td>\n",
              "      <td>small</td>\n",
              "      <td>2008.0</td>\n",
              "      <td>manual</td>\n",
              "      <td>69.0</td>\n",
              "      <td>90000.0</td>\n",
              "      <td>7</td>\n",
              "      <td>gasoline</td>\n",
              "      <td>no</td>\n",
              "      <td>752</td>\n",
              "      <td>758</td>\n",
              "      <td>skoda fabia</td>\n",
              "    </tr>\n",
              "    <tr>\n",
              "      <th>5</th>\n",
              "      <td>650.0</td>\n",
              "      <td>sedan</td>\n",
              "      <td>1995.0</td>\n",
              "      <td>manual</td>\n",
              "      <td>102.0</td>\n",
              "      <td>150000.0</td>\n",
              "      <td>10</td>\n",
              "      <td>petrol</td>\n",
              "      <td>yes</td>\n",
              "      <td>756</td>\n",
              "      <td>758</td>\n",
              "      <td>bmw 3er</td>\n",
              "    </tr>\n",
              "  </tbody>\n",
              "</table>\n",
              "</div>\n",
              "      <button class=\"colab-df-convert\" onclick=\"convertToInteractive('df-41d18585-4d00-4ed3-a962-9bde7e91c07b')\"\n",
              "              title=\"Convert this dataframe to an interactive table.\"\n",
              "              style=\"display:none;\">\n",
              "\n",
              "  <svg xmlns=\"http://www.w3.org/2000/svg\" height=\"24px\"viewBox=\"0 0 24 24\"\n",
              "       width=\"24px\">\n",
              "    <path d=\"M0 0h24v24H0V0z\" fill=\"none\"/>\n",
              "    <path d=\"M18.56 5.44l.94 2.06.94-2.06 2.06-.94-2.06-.94-.94-2.06-.94 2.06-2.06.94zm-11 1L8.5 8.5l.94-2.06 2.06-.94-2.06-.94L8.5 2.5l-.94 2.06-2.06.94zm10 10l.94 2.06.94-2.06 2.06-.94-2.06-.94-.94-2.06-.94 2.06-2.06.94z\"/><path d=\"M17.41 7.96l-1.37-1.37c-.4-.4-.92-.59-1.43-.59-.52 0-1.04.2-1.43.59L10.3 9.45l-7.72 7.72c-.78.78-.78 2.05 0 2.83L4 21.41c.39.39.9.59 1.41.59.51 0 1.02-.2 1.41-.59l7.78-7.78 2.81-2.81c.8-.78.8-2.07 0-2.86zM5.41 20L4 18.59l7.72-7.72 1.47 1.35L5.41 20z\"/>\n",
              "  </svg>\n",
              "      </button>\n",
              "\n",
              "\n",
              "\n",
              "    <div id=\"df-750ec9a4-b3e1-4cf0-92fd-7a736d8882d2\">\n",
              "      <button class=\"colab-df-quickchart\" onclick=\"quickchart('df-750ec9a4-b3e1-4cf0-92fd-7a736d8882d2')\"\n",
              "              title=\"Suggest charts.\"\n",
              "              style=\"display:none;\">\n",
              "\n",
              "<svg xmlns=\"http://www.w3.org/2000/svg\" height=\"24px\"viewBox=\"0 0 24 24\"\n",
              "     width=\"24px\">\n",
              "    <g>\n",
              "        <path d=\"M19 3H5c-1.1 0-2 .9-2 2v14c0 1.1.9 2 2 2h14c1.1 0 2-.9 2-2V5c0-1.1-.9-2-2-2zM9 17H7v-7h2v7zm4 0h-2V7h2v10zm4 0h-2v-4h2v4z\"/>\n",
              "    </g>\n",
              "</svg>\n",
              "      </button>\n",
              "    </div>\n",
              "\n",
              "<style>\n",
              "  .colab-df-quickchart {\n",
              "    background-color: #E8F0FE;\n",
              "    border: none;\n",
              "    border-radius: 50%;\n",
              "    cursor: pointer;\n",
              "    display: none;\n",
              "    fill: #1967D2;\n",
              "    height: 32px;\n",
              "    padding: 0 0 0 0;\n",
              "    width: 32px;\n",
              "  }\n",
              "\n",
              "  .colab-df-quickchart:hover {\n",
              "    background-color: #E2EBFA;\n",
              "    box-shadow: 0px 1px 2px rgba(60, 64, 67, 0.3), 0px 1px 3px 1px rgba(60, 64, 67, 0.15);\n",
              "    fill: #174EA6;\n",
              "  }\n",
              "\n",
              "  [theme=dark] .colab-df-quickchart {\n",
              "    background-color: #3B4455;\n",
              "    fill: #D2E3FC;\n",
              "  }\n",
              "\n",
              "  [theme=dark] .colab-df-quickchart:hover {\n",
              "    background-color: #434B5C;\n",
              "    box-shadow: 0px 1px 3px 1px rgba(0, 0, 0, 0.15);\n",
              "    filter: drop-shadow(0px 1px 2px rgba(0, 0, 0, 0.3));\n",
              "    fill: #FFFFFF;\n",
              "  }\n",
              "</style>\n",
              "\n",
              "    <script>\n",
              "      async function quickchart(key) {\n",
              "        const containerElement = document.querySelector('#' + key);\n",
              "        const charts = await google.colab.kernel.invokeFunction(\n",
              "            'suggestCharts', [key], {});\n",
              "      }\n",
              "    </script>\n",
              "\n",
              "      <script>\n",
              "\n",
              "function displayQuickchartButton(domScope) {\n",
              "  let quickchartButtonEl =\n",
              "    domScope.querySelector('#df-750ec9a4-b3e1-4cf0-92fd-7a736d8882d2 button.colab-df-quickchart');\n",
              "  quickchartButtonEl.style.display =\n",
              "    google.colab.kernel.accessAllowed ? 'block' : 'none';\n",
              "}\n",
              "\n",
              "        displayQuickchartButton(document);\n",
              "      </script>\n",
              "      <style>\n",
              "    .colab-df-container {\n",
              "      display:flex;\n",
              "      flex-wrap:wrap;\n",
              "      gap: 12px;\n",
              "    }\n",
              "\n",
              "    .colab-df-convert {\n",
              "      background-color: #E8F0FE;\n",
              "      border: none;\n",
              "      border-radius: 50%;\n",
              "      cursor: pointer;\n",
              "      display: none;\n",
              "      fill: #1967D2;\n",
              "      height: 32px;\n",
              "      padding: 0 0 0 0;\n",
              "      width: 32px;\n",
              "    }\n",
              "\n",
              "    .colab-df-convert:hover {\n",
              "      background-color: #E2EBFA;\n",
              "      box-shadow: 0px 1px 2px rgba(60, 64, 67, 0.3), 0px 1px 3px 1px rgba(60, 64, 67, 0.15);\n",
              "      fill: #174EA6;\n",
              "    }\n",
              "\n",
              "    [theme=dark] .colab-df-convert {\n",
              "      background-color: #3B4455;\n",
              "      fill: #D2E3FC;\n",
              "    }\n",
              "\n",
              "    [theme=dark] .colab-df-convert:hover {\n",
              "      background-color: #434B5C;\n",
              "      box-shadow: 0px 1px 3px 1px rgba(0, 0, 0, 0.15);\n",
              "      filter: drop-shadow(0px 1px 2px rgba(0, 0, 0, 0.3));\n",
              "      fill: #FFFFFF;\n",
              "    }\n",
              "  </style>\n",
              "\n",
              "      <script>\n",
              "        const buttonEl =\n",
              "          document.querySelector('#df-41d18585-4d00-4ed3-a962-9bde7e91c07b button.colab-df-convert');\n",
              "        buttonEl.style.display =\n",
              "          google.colab.kernel.accessAllowed ? 'block' : 'none';\n",
              "\n",
              "        async function convertToInteractive(key) {\n",
              "          const element = document.querySelector('#df-41d18585-4d00-4ed3-a962-9bde7e91c07b');\n",
              "          const dataTable =\n",
              "            await google.colab.kernel.invokeFunction('convertToInteractive',\n",
              "                                                     [key], {});\n",
              "          if (!dataTable) return;\n",
              "\n",
              "          const docLinkHtml = 'Like what you see? Visit the ' +\n",
              "            '<a target=\"_blank\" href=https://colab.research.google.com/notebooks/data_table.ipynb>data table notebook</a>'\n",
              "            + ' to learn more about interactive tables.';\n",
              "          element.innerHTML = '';\n",
              "          dataTable['output_type'] = 'display_data';\n",
              "          await google.colab.output.renderOutput(dataTable, element);\n",
              "          const docLink = document.createElement('div');\n",
              "          docLink.innerHTML = docLinkHtml;\n",
              "          element.appendChild(docLink);\n",
              "        }\n",
              "      </script>\n",
              "    </div>\n",
              "  </div>\n"
            ]
          },
          "metadata": {},
          "execution_count": 37
        }
      ],
      "source": [
        "df.columns = df.columns.str.lower()\n",
        "df.head()"
      ]
    },
    {
      "cell_type": "code",
      "execution_count": 38,
      "metadata": {
        "id": "KWzwNyGtmhu4"
      },
      "outputs": [],
      "source": [
        "df = df.rename(columns = {'vehicletype' : 'vehicle_type',\n",
        "               'registrationyear' : 'registration_year',\n",
        "               'registrationmonth' : 'registration_month',\n",
        "               'fueltype' : 'fuel_type',\n",
        "               'datecreated' : 'date_created',\n",
        "               'lastseen' : 'last_seen'})"
      ]
    },
    {
      "cell_type": "code",
      "execution_count": 39,
      "metadata": {
        "scrolled": true,
        "colab": {
          "base_uri": "https://localhost:8080/",
          "height": 206
        },
        "id": "ZLD-YwVFmhu4",
        "outputId": "458ad74b-44b4-4cbb-bcc5-cba216cc0262"
      },
      "outputs": [
        {
          "output_type": "execute_result",
          "data": {
            "text/plain": [
              "    price vehicle_type  registration_year gearbox  power  kilometer  \\\n",
              "0   480.0        sedan             1993.0  manual  101.0   150000.0   \n",
              "2  9800.0          suv             2004.0    auto  163.0   125000.0   \n",
              "3  1500.0        small             2001.0  manual   75.0   150000.0   \n",
              "4  3600.0        small             2008.0  manual   69.0    90000.0   \n",
              "5   650.0        sedan             1995.0  manual  102.0   150000.0   \n",
              "\n",
              "   registration_month fuel_type repaired  date_created  last_seen  \\\n",
              "0                   0    petrol  unknown           745        759   \n",
              "2                   8  gasoline  unknown           735        757   \n",
              "3                   6    petrol       no           738        738   \n",
              "4                   7  gasoline       no           752        758   \n",
              "5                  10    petrol      yes           756        758   \n",
              "\n",
              "       brand_model  \n",
              "0  volkswagen golf  \n",
              "2       jeep grand  \n",
              "3  volkswagen golf  \n",
              "4      skoda fabia  \n",
              "5          bmw 3er  "
            ],
            "text/html": [
              "\n",
              "\n",
              "  <div id=\"df-595b6240-a568-4f53-9b11-0348f1fc4053\">\n",
              "    <div class=\"colab-df-container\">\n",
              "      <div>\n",
              "<style scoped>\n",
              "    .dataframe tbody tr th:only-of-type {\n",
              "        vertical-align: middle;\n",
              "    }\n",
              "\n",
              "    .dataframe tbody tr th {\n",
              "        vertical-align: top;\n",
              "    }\n",
              "\n",
              "    .dataframe thead th {\n",
              "        text-align: right;\n",
              "    }\n",
              "</style>\n",
              "<table border=\"1\" class=\"dataframe\">\n",
              "  <thead>\n",
              "    <tr style=\"text-align: right;\">\n",
              "      <th></th>\n",
              "      <th>price</th>\n",
              "      <th>vehicle_type</th>\n",
              "      <th>registration_year</th>\n",
              "      <th>gearbox</th>\n",
              "      <th>power</th>\n",
              "      <th>kilometer</th>\n",
              "      <th>registration_month</th>\n",
              "      <th>fuel_type</th>\n",
              "      <th>repaired</th>\n",
              "      <th>date_created</th>\n",
              "      <th>last_seen</th>\n",
              "      <th>brand_model</th>\n",
              "    </tr>\n",
              "  </thead>\n",
              "  <tbody>\n",
              "    <tr>\n",
              "      <th>0</th>\n",
              "      <td>480.0</td>\n",
              "      <td>sedan</td>\n",
              "      <td>1993.0</td>\n",
              "      <td>manual</td>\n",
              "      <td>101.0</td>\n",
              "      <td>150000.0</td>\n",
              "      <td>0</td>\n",
              "      <td>petrol</td>\n",
              "      <td>unknown</td>\n",
              "      <td>745</td>\n",
              "      <td>759</td>\n",
              "      <td>volkswagen golf</td>\n",
              "    </tr>\n",
              "    <tr>\n",
              "      <th>2</th>\n",
              "      <td>9800.0</td>\n",
              "      <td>suv</td>\n",
              "      <td>2004.0</td>\n",
              "      <td>auto</td>\n",
              "      <td>163.0</td>\n",
              "      <td>125000.0</td>\n",
              "      <td>8</td>\n",
              "      <td>gasoline</td>\n",
              "      <td>unknown</td>\n",
              "      <td>735</td>\n",
              "      <td>757</td>\n",
              "      <td>jeep grand</td>\n",
              "    </tr>\n",
              "    <tr>\n",
              "      <th>3</th>\n",
              "      <td>1500.0</td>\n",
              "      <td>small</td>\n",
              "      <td>2001.0</td>\n",
              "      <td>manual</td>\n",
              "      <td>75.0</td>\n",
              "      <td>150000.0</td>\n",
              "      <td>6</td>\n",
              "      <td>petrol</td>\n",
              "      <td>no</td>\n",
              "      <td>738</td>\n",
              "      <td>738</td>\n",
              "      <td>volkswagen golf</td>\n",
              "    </tr>\n",
              "    <tr>\n",
              "      <th>4</th>\n",
              "      <td>3600.0</td>\n",
              "      <td>small</td>\n",
              "      <td>2008.0</td>\n",
              "      <td>manual</td>\n",
              "      <td>69.0</td>\n",
              "      <td>90000.0</td>\n",
              "      <td>7</td>\n",
              "      <td>gasoline</td>\n",
              "      <td>no</td>\n",
              "      <td>752</td>\n",
              "      <td>758</td>\n",
              "      <td>skoda fabia</td>\n",
              "    </tr>\n",
              "    <tr>\n",
              "      <th>5</th>\n",
              "      <td>650.0</td>\n",
              "      <td>sedan</td>\n",
              "      <td>1995.0</td>\n",
              "      <td>manual</td>\n",
              "      <td>102.0</td>\n",
              "      <td>150000.0</td>\n",
              "      <td>10</td>\n",
              "      <td>petrol</td>\n",
              "      <td>yes</td>\n",
              "      <td>756</td>\n",
              "      <td>758</td>\n",
              "      <td>bmw 3er</td>\n",
              "    </tr>\n",
              "  </tbody>\n",
              "</table>\n",
              "</div>\n",
              "      <button class=\"colab-df-convert\" onclick=\"convertToInteractive('df-595b6240-a568-4f53-9b11-0348f1fc4053')\"\n",
              "              title=\"Convert this dataframe to an interactive table.\"\n",
              "              style=\"display:none;\">\n",
              "\n",
              "  <svg xmlns=\"http://www.w3.org/2000/svg\" height=\"24px\"viewBox=\"0 0 24 24\"\n",
              "       width=\"24px\">\n",
              "    <path d=\"M0 0h24v24H0V0z\" fill=\"none\"/>\n",
              "    <path d=\"M18.56 5.44l.94 2.06.94-2.06 2.06-.94-2.06-.94-.94-2.06-.94 2.06-2.06.94zm-11 1L8.5 8.5l.94-2.06 2.06-.94-2.06-.94L8.5 2.5l-.94 2.06-2.06.94zm10 10l.94 2.06.94-2.06 2.06-.94-2.06-.94-.94-2.06-.94 2.06-2.06.94z\"/><path d=\"M17.41 7.96l-1.37-1.37c-.4-.4-.92-.59-1.43-.59-.52 0-1.04.2-1.43.59L10.3 9.45l-7.72 7.72c-.78.78-.78 2.05 0 2.83L4 21.41c.39.39.9.59 1.41.59.51 0 1.02-.2 1.41-.59l7.78-7.78 2.81-2.81c.8-.78.8-2.07 0-2.86zM5.41 20L4 18.59l7.72-7.72 1.47 1.35L5.41 20z\"/>\n",
              "  </svg>\n",
              "      </button>\n",
              "\n",
              "\n",
              "\n",
              "    <div id=\"df-ad5bb368-e45b-4b49-916f-9d56d25b36c5\">\n",
              "      <button class=\"colab-df-quickchart\" onclick=\"quickchart('df-ad5bb368-e45b-4b49-916f-9d56d25b36c5')\"\n",
              "              title=\"Suggest charts.\"\n",
              "              style=\"display:none;\">\n",
              "\n",
              "<svg xmlns=\"http://www.w3.org/2000/svg\" height=\"24px\"viewBox=\"0 0 24 24\"\n",
              "     width=\"24px\">\n",
              "    <g>\n",
              "        <path d=\"M19 3H5c-1.1 0-2 .9-2 2v14c0 1.1.9 2 2 2h14c1.1 0 2-.9 2-2V5c0-1.1-.9-2-2-2zM9 17H7v-7h2v7zm4 0h-2V7h2v10zm4 0h-2v-4h2v4z\"/>\n",
              "    </g>\n",
              "</svg>\n",
              "      </button>\n",
              "    </div>\n",
              "\n",
              "<style>\n",
              "  .colab-df-quickchart {\n",
              "    background-color: #E8F0FE;\n",
              "    border: none;\n",
              "    border-radius: 50%;\n",
              "    cursor: pointer;\n",
              "    display: none;\n",
              "    fill: #1967D2;\n",
              "    height: 32px;\n",
              "    padding: 0 0 0 0;\n",
              "    width: 32px;\n",
              "  }\n",
              "\n",
              "  .colab-df-quickchart:hover {\n",
              "    background-color: #E2EBFA;\n",
              "    box-shadow: 0px 1px 2px rgba(60, 64, 67, 0.3), 0px 1px 3px 1px rgba(60, 64, 67, 0.15);\n",
              "    fill: #174EA6;\n",
              "  }\n",
              "\n",
              "  [theme=dark] .colab-df-quickchart {\n",
              "    background-color: #3B4455;\n",
              "    fill: #D2E3FC;\n",
              "  }\n",
              "\n",
              "  [theme=dark] .colab-df-quickchart:hover {\n",
              "    background-color: #434B5C;\n",
              "    box-shadow: 0px 1px 3px 1px rgba(0, 0, 0, 0.15);\n",
              "    filter: drop-shadow(0px 1px 2px rgba(0, 0, 0, 0.3));\n",
              "    fill: #FFFFFF;\n",
              "  }\n",
              "</style>\n",
              "\n",
              "    <script>\n",
              "      async function quickchart(key) {\n",
              "        const containerElement = document.querySelector('#' + key);\n",
              "        const charts = await google.colab.kernel.invokeFunction(\n",
              "            'suggestCharts', [key], {});\n",
              "      }\n",
              "    </script>\n",
              "\n",
              "      <script>\n",
              "\n",
              "function displayQuickchartButton(domScope) {\n",
              "  let quickchartButtonEl =\n",
              "    domScope.querySelector('#df-ad5bb368-e45b-4b49-916f-9d56d25b36c5 button.colab-df-quickchart');\n",
              "  quickchartButtonEl.style.display =\n",
              "    google.colab.kernel.accessAllowed ? 'block' : 'none';\n",
              "}\n",
              "\n",
              "        displayQuickchartButton(document);\n",
              "      </script>\n",
              "      <style>\n",
              "    .colab-df-container {\n",
              "      display:flex;\n",
              "      flex-wrap:wrap;\n",
              "      gap: 12px;\n",
              "    }\n",
              "\n",
              "    .colab-df-convert {\n",
              "      background-color: #E8F0FE;\n",
              "      border: none;\n",
              "      border-radius: 50%;\n",
              "      cursor: pointer;\n",
              "      display: none;\n",
              "      fill: #1967D2;\n",
              "      height: 32px;\n",
              "      padding: 0 0 0 0;\n",
              "      width: 32px;\n",
              "    }\n",
              "\n",
              "    .colab-df-convert:hover {\n",
              "      background-color: #E2EBFA;\n",
              "      box-shadow: 0px 1px 2px rgba(60, 64, 67, 0.3), 0px 1px 3px 1px rgba(60, 64, 67, 0.15);\n",
              "      fill: #174EA6;\n",
              "    }\n",
              "\n",
              "    [theme=dark] .colab-df-convert {\n",
              "      background-color: #3B4455;\n",
              "      fill: #D2E3FC;\n",
              "    }\n",
              "\n",
              "    [theme=dark] .colab-df-convert:hover {\n",
              "      background-color: #434B5C;\n",
              "      box-shadow: 0px 1px 3px 1px rgba(0, 0, 0, 0.15);\n",
              "      filter: drop-shadow(0px 1px 2px rgba(0, 0, 0, 0.3));\n",
              "      fill: #FFFFFF;\n",
              "    }\n",
              "  </style>\n",
              "\n",
              "      <script>\n",
              "        const buttonEl =\n",
              "          document.querySelector('#df-595b6240-a568-4f53-9b11-0348f1fc4053 button.colab-df-convert');\n",
              "        buttonEl.style.display =\n",
              "          google.colab.kernel.accessAllowed ? 'block' : 'none';\n",
              "\n",
              "        async function convertToInteractive(key) {\n",
              "          const element = document.querySelector('#df-595b6240-a568-4f53-9b11-0348f1fc4053');\n",
              "          const dataTable =\n",
              "            await google.colab.kernel.invokeFunction('convertToInteractive',\n",
              "                                                     [key], {});\n",
              "          if (!dataTable) return;\n",
              "\n",
              "          const docLinkHtml = 'Like what you see? Visit the ' +\n",
              "            '<a target=\"_blank\" href=https://colab.research.google.com/notebooks/data_table.ipynb>data table notebook</a>'\n",
              "            + ' to learn more about interactive tables.';\n",
              "          element.innerHTML = '';\n",
              "          dataTable['output_type'] = 'display_data';\n",
              "          await google.colab.output.renderOutput(dataTable, element);\n",
              "          const docLink = document.createElement('div');\n",
              "          docLink.innerHTML = docLinkHtml;\n",
              "          element.appendChild(docLink);\n",
              "        }\n",
              "      </script>\n",
              "    </div>\n",
              "  </div>\n"
            ]
          },
          "metadata": {},
          "execution_count": 39
        }
      ],
      "source": [
        "df.head()"
      ]
    },
    {
      "cell_type": "markdown",
      "metadata": {
        "id": "kNdbziSnmhu4"
      },
      "source": [
        "### Data encoding, sampling, and scaling"
      ]
    },
    {
      "cell_type": "markdown",
      "metadata": {
        "id": "OusppAkQmhu5"
      },
      "source": [
        "Let's extract the target feature, split the data into training and test samples. Then, before training the models, we need to transform the nominal variables using the One-Hot Encoding, and after that, scale the numeric variables using the StandardScaler."
      ]
    },
    {
      "cell_type": "code",
      "execution_count": 40,
      "metadata": {
        "id": "dxBWiLAQmhu5"
      },
      "outputs": [],
      "source": [
        "target = df['price']\n",
        "features = df.drop(columns='price')"
      ]
    },
    {
      "cell_type": "markdown",
      "metadata": {
        "id": "emKmFSacmhu5"
      },
      "source": [
        "Now let's split the data in a 3:1 ratio, where 3/4 is the training sample, and 1/4 is the test sample."
      ]
    },
    {
      "cell_type": "code",
      "execution_count": 41,
      "metadata": {
        "id": "UZg8zK8_mhu5"
      },
      "outputs": [],
      "source": [
        "RANDOM_STATE = 11235"
      ]
    },
    {
      "cell_type": "code",
      "execution_count": 42,
      "metadata": {
        "id": "I8k5tH2lmhu5"
      },
      "outputs": [],
      "source": [
        "features_train, features_test, target_train, target_test = train_test_split(features,\n",
        "                                                                           target,\n",
        "                                                                           test_size=0.25,\n",
        "                                                                           random_state=RANDOM_STATE)"
      ]
    },
    {
      "cell_type": "code",
      "execution_count": 43,
      "metadata": {
        "colab": {
          "base_uri": "https://localhost:8080/"
        },
        "id": "9emC1oTzmhu5",
        "outputId": "3ace0b72-708a-4aea-aa59-bc2a0081283d"
      },
      "outputs": [
        {
          "output_type": "stream",
          "name": "stdout",
          "text": [
            "(250993, 11)\n",
            "(83665, 11)\n",
            "(250993,)\n",
            "(83665,)\n"
          ]
        }
      ],
      "source": [
        "print(features_train.shape)\n",
        "print(features_test.shape)\n",
        "print(target_train.shape)\n",
        "print(target_test.shape)"
      ]
    },
    {
      "cell_type": "markdown",
      "source": [
        "Now it's OHE time."
      ],
      "metadata": {
        "id": "09zpjK8Qr6Eo"
      }
    },
    {
      "cell_type": "code",
      "execution_count": 44,
      "metadata": {
        "id": "0JxDOGepmhu6"
      },
      "outputs": [],
      "source": [
        "features_train = pd.get_dummies(features_train, drop_first=True)\n",
        "features_test = pd.get_dummies(features_test, drop_first=True)"
      ]
    },
    {
      "cell_type": "markdown",
      "metadata": {
        "id": "2IjcEs1vmhu6"
      },
      "source": [
        "We make sure that the samples have the same features."
      ]
    },
    {
      "cell_type": "code",
      "execution_count": 45,
      "metadata": {
        "id": "DFxYWrPxmhu6"
      },
      "outputs": [],
      "source": [
        "common_columns = set(features_train.columns)\\\n",
        "& set(features_test.columns)\n",
        "\n",
        "features_train = features_train[list(common_columns)]\n",
        "features_test = features_test[list(common_columns)]"
      ]
    },
    {
      "cell_type": "code",
      "execution_count": null,
      "metadata": {
        "id": "XNdGWRm1mhu6",
        "outputId": "5dd5ef13-e2a2-4b56-876a-08284cd66b5f"
      },
      "outputs": [
        {
          "name": "stdout",
          "output_type": "stream",
          "text": [
            "True\n"
          ]
        }
      ],
      "source": [
        "print(len(features_train.columns) == len(features_test.columns))"
      ]
    },
    {
      "cell_type": "markdown",
      "metadata": {
        "id": "XK5Gpm5pmhu7"
      },
      "source": [
        "Great, we can move on to scaling."
      ]
    },
    {
      "cell_type": "code",
      "execution_count": 46,
      "metadata": {
        "id": "pK2GxCsYmhu8"
      },
      "outputs": [],
      "source": [
        "pd.options.mode.chained_assignment = None\n",
        "\n",
        "numeric = ['registration_year',\n",
        "          'power',\n",
        "          'kilometer',\n",
        "          'registration_month',\n",
        "          'date_created',\n",
        "          'last_seen']"
      ]
    },
    {
      "cell_type": "code",
      "execution_count": 47,
      "metadata": {
        "id": "cUMnCJLAmhu8"
      },
      "outputs": [],
      "source": [
        "scaler = StandardScaler()\n",
        "scaler.fit(features_train[numeric])\n",
        "\n",
        "features_train[numeric] = scaler.transform(features_train[numeric])\n",
        "features_test[numeric] =  scaler.transform(features_test[numeric])"
      ]
    },
    {
      "cell_type": "markdown",
      "metadata": {
        "id": "Nx-EKHQWmhu8"
      },
      "source": [
        "The features are scaled, let's start training the models."
      ]
    },
    {
      "cell_type": "markdown",
      "metadata": {
        "id": "vAI8fcSEmhu8"
      },
      "source": [
        "## Training the models"
      ]
    },
    {
      "cell_type": "markdown",
      "metadata": {
        "id": "vSiGs6numhu8"
      },
      "source": [
        "We start training models with a dummy model that makes predictions based on the mean. This will make it easier for us to compare results."
      ]
    },
    {
      "cell_type": "code",
      "execution_count": 48,
      "metadata": {
        "colab": {
          "base_uri": "https://localhost:8080/"
        },
        "id": "F3iD2hEWmhu8",
        "outputId": "5b5f89dd-37c4-451a-b23d-61ace892fd0d"
      },
      "outputs": [
        {
          "output_type": "stream",
          "name": "stdout",
          "text": [
            "RMSE of dummy model based on mean is: 4492.810\n",
            "CPU times: user 6.76 ms, sys: 0 ns, total: 6.76 ms\n",
            "Wall time: 11.9 ms\n"
          ]
        }
      ],
      "source": [
        "%%time\n",
        "\n",
        "dummy_predictions = pd.Series(target_train.mean(), index=target_test.index)\n",
        "dummy_rmse = mean_squared_error(target_test, dummy_predictions, squared = False)\n",
        "print(f'RMSE of dummy model based on mean is: {dummy_rmse:.3f}')"
      ]
    },
    {
      "cell_type": "markdown",
      "metadata": {
        "id": "2rb-zXt7mhu9"
      },
      "source": [
        "Got that. Now let's look at linear regression."
      ]
    },
    {
      "cell_type": "markdown",
      "metadata": {
        "id": "Lyfd-eHLmhu9"
      },
      "source": [
        "### Linear regression"
      ]
    },
    {
      "cell_type": "markdown",
      "metadata": {
        "id": "OMW0P4hemhu9"
      },
      "source": [
        "We will get the RMSE of linear regression during cross-validation on 5 blocks. At the same time, we measure the training time."
      ]
    },
    {
      "cell_type": "code",
      "execution_count": 49,
      "metadata": {
        "colab": {
          "base_uri": "https://localhost:8080/"
        },
        "id": "EzBMtH-Rmhu9",
        "outputId": "44f70f24-4c57-4606-915b-7138e8953606"
      },
      "outputs": [
        {
          "output_type": "stream",
          "name": "stdout",
          "text": [
            "RMSE for Linear regression: 2643.462\n",
            "CPU times: user 1min 47s, sys: 20 s, total: 2min 7s\n",
            "Wall time: 1min 45s\n"
          ]
        }
      ],
      "source": [
        "%%time\n",
        "\n",
        "lr_model = LinearRegression()\n",
        "lr_model.fit(features_train, target_train)\n",
        "\n",
        "lr_rmse = cross_val_score(lr_model,\n",
        "                          features_train,\n",
        "                          target_train,\n",
        "                          cv=5,\n",
        "                          scoring='neg_root_mean_squared_error')\n",
        "print(f'RMSE for Linear regression: {-lr_rmse.mean():.3f}')"
      ]
    },
    {
      "cell_type": "markdown",
      "metadata": {
        "id": "tIZq0XORmhu9"
      },
      "source": [
        "We improved RMSE by almost 2 times! At the same time, cross-validation on 5 blocks took 1 minute and 45 seconds.\n",
        "\n",
        "Let's check how long pure predictions take."
      ]
    },
    {
      "cell_type": "code",
      "execution_count": 51,
      "metadata": {
        "colab": {
          "base_uri": "https://localhost:8080/"
        },
        "id": "_DlZ_b9Qmhu9",
        "outputId": "d8f973d2-9f15-4bdc-f531-b57cfb8d2a18"
      },
      "outputs": [
        {
          "output_type": "stream",
          "name": "stdout",
          "text": [
            "CPU times: user 286 ms, sys: 226 ms, total: 513 ms\n",
            "Wall time: 446 ms\n"
          ]
        }
      ],
      "source": [
        "%%time\n",
        "\n",
        "lr_predictions = lr_model.predict(features_train)"
      ]
    },
    {
      "cell_type": "markdown",
      "metadata": {
        "id": "1-_onDJJmhu-"
      },
      "source": [
        "Now let's check LightGBM."
      ]
    },
    {
      "cell_type": "markdown",
      "metadata": {
        "id": "SBxSRuEXmhu-"
      },
      "source": [
        "### LightGBM"
      ]
    },
    {
      "cell_type": "markdown",
      "metadata": {
        "id": "mAv0vdu6mhu-"
      },
      "source": [
        "Let's extract categorical features for LightGBM."
      ]
    },
    {
      "cell_type": "code",
      "execution_count": 52,
      "metadata": {
        "id": "uZyMQ8MImhu-"
      },
      "outputs": [],
      "source": [
        "categorical_train = [col for col in features_train if col not in numeric]"
      ]
    },
    {
      "cell_type": "markdown",
      "metadata": {
        "id": "umtRSqBfmhu-"
      },
      "source": [
        "Now let's prepare the datasets used by the model."
      ]
    },
    {
      "cell_type": "code",
      "execution_count": null,
      "metadata": {
        "id": "9ICgoTxymhu-",
        "outputId": "84b184e1-ed3d-405d-e086-6c8e03a75c1c"
      },
      "outputs": [
        {
          "name": "stdout",
          "output_type": "stream",
          "text": [
            "CPU times: user 18 µs, sys: 10 µs, total: 28 µs\n",
            "Wall time: 31 µs\n"
          ]
        }
      ],
      "source": [
        "%%time\n",
        "\n",
        "lgb_train = lgb.Dataset(features_train, target_train, categorical_feature = categorical_train)\n",
        "lgb_test = lgb.Dataset(features_test)"
      ]
    },
    {
      "cell_type": "markdown",
      "metadata": {
        "id": "qnm9mE9_mhu-"
      },
      "source": [
        "We use cross-validation using the RandomizedSearch method on 5 blocks with enumeration of the learning rate (from 0.1 to 0.5 with a step of 0.1) and the maximum depth of the tree (from 1 to 11 with a step of 2)."
      ]
    },
    {
      "cell_type": "code",
      "execution_count": null,
      "metadata": {
        "id": "LL5FJSrOmhu-"
      },
      "outputs": [],
      "source": [
        "%%time\n",
        "\n",
        "parameters_grid = {'learning_rate' : (np.arange(0.1, 0.6, 0.1)),\n",
        "                  'max_depth' : (np.arange(1, 12, 2))}\n",
        "\n",
        "lgb_model = LGBMRegressor(n_jobs=2)\n",
        "\n",
        "lgb_cv = RandomizedSearchCV(estimator=lgb_model,\n",
        "                    param_distributions=parameters_grid,\n",
        "                   cv=5,\n",
        "                    verbose=2,\n",
        "                   scoring='neg_root_mean_squared_error')\n",
        "\n",
        "lgb_cv.fit(features_train, target_train)"
      ]
    },
    {
      "cell_type": "markdown",
      "metadata": {
        "id": "cXEbnB0xmhu_"
      },
      "source": [
        "It took us 4 minutes 41 seconds to train the model with cross-validation and hyperparameter fitting. Let's see which model got the best results."
      ]
    },
    {
      "cell_type": "code",
      "execution_count": 59,
      "metadata": {
        "colab": {
          "base_uri": "https://localhost:8080/"
        },
        "id": "EFrzN2dlmhu_",
        "outputId": "25ff9947-9fc1-4e19-b1ef-76101fba0b81"
      },
      "outputs": [
        {
          "output_type": "stream",
          "name": "stdout",
          "text": [
            "RMSE of LightGBM: 1695.991 \n",
            "\n",
            "Best hyperparameters: {'max_depth': 11, 'learning_rate': 0.30000000000000004}\n"
          ]
        }
      ],
      "source": [
        "print(f'RMSE of LightGBM: {-lgb_cv.best_score_:.3f}', '\\n')\n",
        "print(f'Best hyperparameters: {lgb_cv.best_params_}')"
      ]
    },
    {
      "cell_type": "markdown",
      "metadata": {
        "id": "JlDc6ylMmhu_"
      },
      "source": [
        "We managed to improve the RMSE by almost 1000 euros. Let's estimate the time of predictions separately."
      ]
    },
    {
      "cell_type": "code",
      "execution_count": 60,
      "metadata": {
        "colab": {
          "base_uri": "https://localhost:8080/"
        },
        "id": "roaEIkP6mhu_",
        "outputId": "bef0802f-5169-47d3-ff29-b2fede20cd8f"
      },
      "outputs": [
        {
          "output_type": "stream",
          "name": "stdout",
          "text": [
            "CPU times: user 3.07 s, sys: 1.73 s, total: 4.79 s\n",
            "Wall time: 4.21 s\n"
          ]
        }
      ],
      "source": [
        "%%time\n",
        "\n",
        "lgb_predictions = lgb_cv.predict(features_train)"
      ]
    },
    {
      "cell_type": "markdown",
      "metadata": {
        "id": "J8sk9MeBmhu_"
      },
      "source": [
        "Slightly more than 2 secs."
      ]
    },
    {
      "cell_type": "markdown",
      "metadata": {
        "id": "KFAZBYRbmhu_"
      },
      "source": [
        "But in order to compare LightGBM not only with the dummy model and simple linear regression, let's evaluate another model with gradient boosting - CatBoost."
      ]
    },
    {
      "cell_type": "markdown",
      "metadata": {
        "id": "Ss-EqrDSmhvA"
      },
      "source": [
        "### CatBoost"
      ]
    },
    {
      "cell_type": "markdown",
      "metadata": {
        "id": "ll4cSl7gmhvA"
      },
      "source": [
        "Let's use the same technique to train and analyze the applicability of the CatBoost model."
      ]
    },
    {
      "cell_type": "code",
      "execution_count": null,
      "metadata": {
        "scrolled": true,
        "id": "HA7OVFu5mhvA"
      },
      "outputs": [],
      "source": [
        "%%time\n",
        "\n",
        "cb_model = CatBoostRegressor()\n",
        "\n",
        "cb_cv = RandomizedSearchCV(estimator=cb_model,\n",
        "                    param_distributions=parameters_grid,\n",
        "                   cv=5,\n",
        "                    verbose=2,\n",
        "                   scoring='neg_root_mean_squared_error')\n",
        "\n",
        "cb_cv.fit(features_train, target_train, cat_features=categorical_train)"
      ]
    },
    {
      "cell_type": "markdown",
      "metadata": {
        "id": "u3IU29-8mhvA"
      },
      "source": [
        "**The model has been training for 1 hour 3 minutes.**"
      ]
    },
    {
      "cell_type": "markdown",
      "metadata": {
        "id": "doBqIYQBmhvA"
      },
      "source": [
        "Let's measure the time of predictions."
      ]
    },
    {
      "cell_type": "code",
      "execution_count": 64,
      "metadata": {
        "colab": {
          "base_uri": "https://localhost:8080/"
        },
        "id": "LS6HHQdZmhvA",
        "outputId": "e6ebb939-1ff5-4141-a656-4003f21df3b5"
      },
      "outputs": [
        {
          "output_type": "stream",
          "name": "stdout",
          "text": [
            "CPU times: user 30 s, sys: 155 ms, total: 30.1 s\n",
            "Wall time: 35.1 s\n"
          ]
        },
        {
          "output_type": "execute_result",
          "data": {
            "text/plain": [
              "array([ 6523.55203197, 10799.31996792, 19081.49957256, ...,\n",
              "        1911.325471  ,  7826.89545258,  7622.58198517])"
            ]
          },
          "metadata": {},
          "execution_count": 64
        }
      ],
      "source": [
        "%%time\n",
        "\n",
        "cb_cv.predict(features_train)"
      ]
    },
    {
      "cell_type": "markdown",
      "metadata": {
        "id": "22w6_DqUmhvB"
      },
      "source": [
        "Well, let's see if the training of the model was worth it, and which hyperparameters bring the best result."
      ]
    },
    {
      "cell_type": "code",
      "execution_count": 67,
      "metadata": {
        "colab": {
          "base_uri": "https://localhost:8080/"
        },
        "id": "GHBEN7H0mhvB",
        "outputId": "b48636bc-f2db-4a1f-d886-07321173a58d"
      },
      "outputs": [
        {
          "output_type": "stream",
          "name": "stdout",
          "text": [
            "RMSE of CatBoost: 1583.977 \n",
            "\n",
            "The best hyperparameters: {'max_depth': 11, 'learning_rate': 0.2}\n",
            "CPU times: user 182 µs, sys: 4 µs, total: 186 µs\n",
            "Wall time: 190 µs\n"
          ]
        }
      ],
      "source": [
        "%%time\n",
        "\n",
        "print(f'RMSE of CatBoost: {-cb_cv.best_score_:.3f}', '\\n')\n",
        "print(f'The best hyperparameters: {cb_cv.best_params_}')"
      ]
    },
    {
      "cell_type": "markdown",
      "metadata": {
        "id": "4yj6-NMsmhvB"
      },
      "source": [
        "So, it turns out that we've spent 1 hour to get the 100-euro RMSE improvement. We'll consider that ineffective."
      ]
    },
    {
      "cell_type": "markdown",
      "metadata": {
        "id": "c69yYeoamhvC"
      },
      "source": [
        "## Comparing the models"
      ]
    },
    {
      "cell_type": "markdown",
      "metadata": {
        "id": "iimCFcoimhvC"
      },
      "source": [
        "Let's collect all the results obtained during the training of models."
      ]
    },
    {
      "cell_type": "code",
      "execution_count": 68,
      "metadata": {
        "colab": {
          "base_uri": "https://localhost:8080/",
          "height": 143
        },
        "id": "QGUxWJxUmhvC",
        "outputId": "b04e10fc-7425-4f13-fa9e-fc06b0ad8f31"
      },
      "outputs": [
        {
          "output_type": "display_data",
          "data": {
            "text/plain": [
              "                  Training (+CV) time Prediction time  RMSE\n",
              "Linear regression       1 min, 45 sec          446 ms  2643\n",
              "Light GBM               4 min, 41 sec           4 sec  1696\n",
              "CatBoost                1 hour, 3 min          35 sec  1584"
            ],
            "text/html": [
              "\n",
              "\n",
              "  <div id=\"df-5c04560a-12ea-4ec5-92c4-ff517e0364a2\">\n",
              "    <div class=\"colab-df-container\">\n",
              "      <div>\n",
              "<style scoped>\n",
              "    .dataframe tbody tr th:only-of-type {\n",
              "        vertical-align: middle;\n",
              "    }\n",
              "\n",
              "    .dataframe tbody tr th {\n",
              "        vertical-align: top;\n",
              "    }\n",
              "\n",
              "    .dataframe thead th {\n",
              "        text-align: right;\n",
              "    }\n",
              "</style>\n",
              "<table border=\"1\" class=\"dataframe\">\n",
              "  <thead>\n",
              "    <tr style=\"text-align: right;\">\n",
              "      <th></th>\n",
              "      <th>Training (+CV) time</th>\n",
              "      <th>Prediction time</th>\n",
              "      <th>RMSE</th>\n",
              "    </tr>\n",
              "  </thead>\n",
              "  <tbody>\n",
              "    <tr>\n",
              "      <th>Linear regression</th>\n",
              "      <td>1 min, 45 sec</td>\n",
              "      <td>446 ms</td>\n",
              "      <td>2643</td>\n",
              "    </tr>\n",
              "    <tr>\n",
              "      <th>Light GBM</th>\n",
              "      <td>4 min, 41 sec</td>\n",
              "      <td>4 sec</td>\n",
              "      <td>1696</td>\n",
              "    </tr>\n",
              "    <tr>\n",
              "      <th>CatBoost</th>\n",
              "      <td>1 hour, 3 min</td>\n",
              "      <td>35 sec</td>\n",
              "      <td>1584</td>\n",
              "    </tr>\n",
              "  </tbody>\n",
              "</table>\n",
              "</div>\n",
              "      <button class=\"colab-df-convert\" onclick=\"convertToInteractive('df-5c04560a-12ea-4ec5-92c4-ff517e0364a2')\"\n",
              "              title=\"Convert this dataframe to an interactive table.\"\n",
              "              style=\"display:none;\">\n",
              "\n",
              "  <svg xmlns=\"http://www.w3.org/2000/svg\" height=\"24px\"viewBox=\"0 0 24 24\"\n",
              "       width=\"24px\">\n",
              "    <path d=\"M0 0h24v24H0V0z\" fill=\"none\"/>\n",
              "    <path d=\"M18.56 5.44l.94 2.06.94-2.06 2.06-.94-2.06-.94-.94-2.06-.94 2.06-2.06.94zm-11 1L8.5 8.5l.94-2.06 2.06-.94-2.06-.94L8.5 2.5l-.94 2.06-2.06.94zm10 10l.94 2.06.94-2.06 2.06-.94-2.06-.94-.94-2.06-.94 2.06-2.06.94z\"/><path d=\"M17.41 7.96l-1.37-1.37c-.4-.4-.92-.59-1.43-.59-.52 0-1.04.2-1.43.59L10.3 9.45l-7.72 7.72c-.78.78-.78 2.05 0 2.83L4 21.41c.39.39.9.59 1.41.59.51 0 1.02-.2 1.41-.59l7.78-7.78 2.81-2.81c.8-.78.8-2.07 0-2.86zM5.41 20L4 18.59l7.72-7.72 1.47 1.35L5.41 20z\"/>\n",
              "  </svg>\n",
              "      </button>\n",
              "\n",
              "\n",
              "\n",
              "    <div id=\"df-d7dd7a66-e77e-4bea-afe2-55c2aa2612a3\">\n",
              "      <button class=\"colab-df-quickchart\" onclick=\"quickchart('df-d7dd7a66-e77e-4bea-afe2-55c2aa2612a3')\"\n",
              "              title=\"Suggest charts.\"\n",
              "              style=\"display:none;\">\n",
              "\n",
              "<svg xmlns=\"http://www.w3.org/2000/svg\" height=\"24px\"viewBox=\"0 0 24 24\"\n",
              "     width=\"24px\">\n",
              "    <g>\n",
              "        <path d=\"M19 3H5c-1.1 0-2 .9-2 2v14c0 1.1.9 2 2 2h14c1.1 0 2-.9 2-2V5c0-1.1-.9-2-2-2zM9 17H7v-7h2v7zm4 0h-2V7h2v10zm4 0h-2v-4h2v4z\"/>\n",
              "    </g>\n",
              "</svg>\n",
              "      </button>\n",
              "    </div>\n",
              "\n",
              "<style>\n",
              "  .colab-df-quickchart {\n",
              "    background-color: #E8F0FE;\n",
              "    border: none;\n",
              "    border-radius: 50%;\n",
              "    cursor: pointer;\n",
              "    display: none;\n",
              "    fill: #1967D2;\n",
              "    height: 32px;\n",
              "    padding: 0 0 0 0;\n",
              "    width: 32px;\n",
              "  }\n",
              "\n",
              "  .colab-df-quickchart:hover {\n",
              "    background-color: #E2EBFA;\n",
              "    box-shadow: 0px 1px 2px rgba(60, 64, 67, 0.3), 0px 1px 3px 1px rgba(60, 64, 67, 0.15);\n",
              "    fill: #174EA6;\n",
              "  }\n",
              "\n",
              "  [theme=dark] .colab-df-quickchart {\n",
              "    background-color: #3B4455;\n",
              "    fill: #D2E3FC;\n",
              "  }\n",
              "\n",
              "  [theme=dark] .colab-df-quickchart:hover {\n",
              "    background-color: #434B5C;\n",
              "    box-shadow: 0px 1px 3px 1px rgba(0, 0, 0, 0.15);\n",
              "    filter: drop-shadow(0px 1px 2px rgba(0, 0, 0, 0.3));\n",
              "    fill: #FFFFFF;\n",
              "  }\n",
              "</style>\n",
              "\n",
              "    <script>\n",
              "      async function quickchart(key) {\n",
              "        const containerElement = document.querySelector('#' + key);\n",
              "        const charts = await google.colab.kernel.invokeFunction(\n",
              "            'suggestCharts', [key], {});\n",
              "      }\n",
              "    </script>\n",
              "\n",
              "      <script>\n",
              "\n",
              "function displayQuickchartButton(domScope) {\n",
              "  let quickchartButtonEl =\n",
              "    domScope.querySelector('#df-d7dd7a66-e77e-4bea-afe2-55c2aa2612a3 button.colab-df-quickchart');\n",
              "  quickchartButtonEl.style.display =\n",
              "    google.colab.kernel.accessAllowed ? 'block' : 'none';\n",
              "}\n",
              "\n",
              "        displayQuickchartButton(document);\n",
              "      </script>\n",
              "      <style>\n",
              "    .colab-df-container {\n",
              "      display:flex;\n",
              "      flex-wrap:wrap;\n",
              "      gap: 12px;\n",
              "    }\n",
              "\n",
              "    .colab-df-convert {\n",
              "      background-color: #E8F0FE;\n",
              "      border: none;\n",
              "      border-radius: 50%;\n",
              "      cursor: pointer;\n",
              "      display: none;\n",
              "      fill: #1967D2;\n",
              "      height: 32px;\n",
              "      padding: 0 0 0 0;\n",
              "      width: 32px;\n",
              "    }\n",
              "\n",
              "    .colab-df-convert:hover {\n",
              "      background-color: #E2EBFA;\n",
              "      box-shadow: 0px 1px 2px rgba(60, 64, 67, 0.3), 0px 1px 3px 1px rgba(60, 64, 67, 0.15);\n",
              "      fill: #174EA6;\n",
              "    }\n",
              "\n",
              "    [theme=dark] .colab-df-convert {\n",
              "      background-color: #3B4455;\n",
              "      fill: #D2E3FC;\n",
              "    }\n",
              "\n",
              "    [theme=dark] .colab-df-convert:hover {\n",
              "      background-color: #434B5C;\n",
              "      box-shadow: 0px 1px 3px 1px rgba(0, 0, 0, 0.15);\n",
              "      filter: drop-shadow(0px 1px 2px rgba(0, 0, 0, 0.3));\n",
              "      fill: #FFFFFF;\n",
              "    }\n",
              "  </style>\n",
              "\n",
              "      <script>\n",
              "        const buttonEl =\n",
              "          document.querySelector('#df-5c04560a-12ea-4ec5-92c4-ff517e0364a2 button.colab-df-convert');\n",
              "        buttonEl.style.display =\n",
              "          google.colab.kernel.accessAllowed ? 'block' : 'none';\n",
              "\n",
              "        async function convertToInteractive(key) {\n",
              "          const element = document.querySelector('#df-5c04560a-12ea-4ec5-92c4-ff517e0364a2');\n",
              "          const dataTable =\n",
              "            await google.colab.kernel.invokeFunction('convertToInteractive',\n",
              "                                                     [key], {});\n",
              "          if (!dataTable) return;\n",
              "\n",
              "          const docLinkHtml = 'Like what you see? Visit the ' +\n",
              "            '<a target=\"_blank\" href=https://colab.research.google.com/notebooks/data_table.ipynb>data table notebook</a>'\n",
              "            + ' to learn more about interactive tables.';\n",
              "          element.innerHTML = '';\n",
              "          dataTable['output_type'] = 'display_data';\n",
              "          await google.colab.output.renderOutput(dataTable, element);\n",
              "          const docLink = document.createElement('div');\n",
              "          docLink.innerHTML = docLinkHtml;\n",
              "          element.appendChild(docLink);\n",
              "        }\n",
              "      </script>\n",
              "    </div>\n",
              "  </div>\n"
            ]
          },
          "metadata": {}
        }
      ],
      "source": [
        "res_index = ['Linear regression', 'Light GBM', 'CatBoost']\n",
        "res_columns = ['Training (+CV) time', 'Prediction time', 'RMSE']\n",
        "\n",
        "results = pd.DataFrame(index=res_index, columns=res_columns)\n",
        "\n",
        "results['Training (+CV) time'] = ['1 min, 45 sec', '4 min, 41 sec', '1 hour, 3 min']\n",
        "results['Prediction time'] = ['446 ms', '4 sec', '35 sec']\n",
        "results['RMSE'] = [2643, 1696, 1584]\n",
        "\n",
        "display(results)"
      ]
    },
    {
      "cell_type": "markdown",
      "metadata": {
        "id": "GKYHclOPmhvC"
      },
      "source": [
        "Our leaders based on RMSE are Light GBM and Catboost. But considering an extremely significant difference in training time (almost 1 hour) we can recommend Light GBM since our trade-off is only 112 euro."
      ]
    },
    {
      "cell_type": "markdown",
      "metadata": {
        "id": "uyt4YQfCmhvC"
      },
      "source": [
        "## Performance validation on the test data"
      ]
    },
    {
      "cell_type": "markdown",
      "metadata": {
        "id": "qiDza0OpmhvC"
      },
      "source": [
        "Now let's validate our Light GBM model on a test data."
      ]
    },
    {
      "cell_type": "code",
      "execution_count": 69,
      "metadata": {
        "colab": {
          "base_uri": "https://localhost:8080/"
        },
        "id": "4397a_9KmhvC",
        "outputId": "b422a4d6-af0f-4611-dde4-03e66b7f43b8"
      },
      "outputs": [
        {
          "output_type": "stream",
          "name": "stdout",
          "text": [
            "RMSE on the test data: 1686.629 \n",
            "\n"
          ]
        }
      ],
      "source": [
        "predictions = lgb_cv.predict(features_test)\n",
        "\n",
        "print(f'RMSE on the test data: {mean_squared_error(target_test, predictions, squared=False):.3f}', '\\n')"
      ]
    },
    {
      "cell_type": "markdown",
      "metadata": {
        "id": "BSV4z63vmhvC"
      },
      "source": [
        "**Our final RMSE is 1687 euro.** The model is performing even better than during training. And we've passed the threshold defined in our initial requirements (2500 euro)."
      ]
    },
    {
      "cell_type": "markdown",
      "source": [
        "A final sanity check:"
      ],
      "metadata": {
        "id": "oPbIWoJ3Kkcx"
      }
    },
    {
      "cell_type": "code",
      "source": [
        "dummy_predictions = pd.Series(\n",
        "    index=target_test.index,\n",
        "    data=np.mean(target_test)\n",
        "                              )\n",
        "\n",
        "print(f'RMSE for dummy predictions based on average: {mean_squared_error(target_test, dummy_predictions, squared=False):.3f}', '\\n')"
      ],
      "metadata": {
        "colab": {
          "base_uri": "https://localhost:8080/"
        },
        "id": "qRjAOBS_KiNC",
        "outputId": "94a42f35-fe3c-4b98-f954-485fd823ef21"
      },
      "execution_count": 72,
      "outputs": [
        {
          "output_type": "stream",
          "name": "stdout",
          "text": [
            "RMSE for dummy predictions based on average: 4492.800 \n",
            "\n"
          ]
        }
      ]
    },
    {
      "cell_type": "markdown",
      "source": [
        "Is also passed!"
      ],
      "metadata": {
        "id": "rLVSN8UgLDTd"
      }
    },
    {
      "cell_type": "markdown",
      "source": [
        "## Conclusions"
      ],
      "metadata": {
        "id": "JFwCCa37LFQB"
      }
    },
    {
      "cell_type": "markdown",
      "source": [
        "* For our predictions of used car prices we've compared 3 models: Linear Regression, Light GBM and Catboost. The initial threshold for passing the test was 2500 euro.\n",
        "\n",
        "* Based on RMSE, our top-2 models were Light GBM (RMSE: 1696) and Catboost (RMSE: 1584). However, Catboost took dramatically more time (+1 hour of training and +31 seconds of predicting) than Light GBM.\n",
        "\n",
        "* So we've decided to choose Light GBM with max depth of trees 11 and learning rate 0.3. Its final RMSE on the test data is 1686.6 euro. Just for comparison: RMSE of predictions based on average is 4492.8 euro.\n",
        "\n"
      ],
      "metadata": {
        "id": "cZdKz8PyLIsi"
      }
    },
    {
      "cell_type": "code",
      "execution_count": null,
      "metadata": {
        "id": "yYv8izULmhvE"
      },
      "outputs": [],
      "source": []
    }
  ],
  "metadata": {
    "ExecuteTimeLog": [
      {
        "duration": 446,
        "start_time": "2023-05-03T18:35:08.592Z"
      },
      {
        "duration": 5,
        "start_time": "2023-05-03T18:36:13.789Z"
      },
      {
        "duration": 1160,
        "start_time": "2023-05-03T18:36:33.398Z"
      },
      {
        "duration": 5,
        "start_time": "2023-05-03T18:36:46.465Z"
      },
      {
        "duration": 1723,
        "start_time": "2023-05-03T18:36:46.789Z"
      },
      {
        "duration": 928,
        "start_time": "2023-05-03T18:42:04.621Z"
      },
      {
        "duration": 70,
        "start_time": "2023-05-03T18:42:17.361Z"
      },
      {
        "duration": 359,
        "start_time": "2023-05-03T18:42:30.962Z"
      },
      {
        "duration": 34,
        "start_time": "2023-05-03T18:42:56.887Z"
      },
      {
        "duration": 19,
        "start_time": "2023-05-03T18:43:05.728Z"
      },
      {
        "duration": 37,
        "start_time": "2023-05-03T18:44:37.288Z"
      },
      {
        "duration": 1458,
        "start_time": "2023-05-03T18:44:45.354Z"
      },
      {
        "duration": 10,
        "start_time": "2023-05-03T18:44:51.549Z"
      },
      {
        "duration": 1470,
        "start_time": "2023-05-03T18:44:56.819Z"
      },
      {
        "duration": 4,
        "start_time": "2023-05-03T18:45:03.638Z"
      },
      {
        "duration": 802,
        "start_time": "2023-05-03T18:45:04.485Z"
      },
      {
        "duration": 4,
        "start_time": "2023-05-03T18:45:31.962Z"
      },
      {
        "duration": 754,
        "start_time": "2023-05-03T18:45:32.671Z"
      },
      {
        "duration": 4,
        "start_time": "2023-05-03T18:45:45.263Z"
      },
      {
        "duration": 1509,
        "start_time": "2023-05-03T18:45:46.173Z"
      },
      {
        "duration": 10,
        "start_time": "2023-05-03T18:45:52.287Z"
      },
      {
        "duration": 4,
        "start_time": "2023-05-03T18:46:00.970Z"
      },
      {
        "duration": 1405,
        "start_time": "2023-05-03T18:46:01.424Z"
      },
      {
        "duration": 3,
        "start_time": "2023-05-03T18:46:06.216Z"
      },
      {
        "duration": 3,
        "start_time": "2023-05-03T18:46:08.248Z"
      },
      {
        "duration": 1391,
        "start_time": "2023-05-03T18:46:14.450Z"
      },
      {
        "duration": 5,
        "start_time": "2023-05-03T18:46:30.187Z"
      },
      {
        "duration": 1395,
        "start_time": "2023-05-03T18:46:31.168Z"
      },
      {
        "duration": 89,
        "start_time": "2023-05-03T18:46:34.236Z"
      },
      {
        "duration": 23,
        "start_time": "2023-05-03T18:46:51.472Z"
      },
      {
        "duration": 894,
        "start_time": "2023-05-03T18:46:58.702Z"
      },
      {
        "duration": 1449,
        "start_time": "2023-05-03T18:47:30.711Z"
      },
      {
        "duration": 1253,
        "start_time": "2023-05-03T18:48:24.901Z"
      },
      {
        "duration": 41,
        "start_time": "2023-05-03T18:48:57.711Z"
      },
      {
        "duration": 995,
        "start_time": "2023-05-03T18:59:04.190Z"
      },
      {
        "duration": 1703,
        "start_time": "2023-05-03T18:59:15.573Z"
      },
      {
        "duration": 1528,
        "start_time": "2023-05-03T18:59:19.458Z"
      },
      {
        "duration": 1505,
        "start_time": "2023-05-03T18:59:25.599Z"
      },
      {
        "duration": 1368,
        "start_time": "2023-05-03T18:59:31.348Z"
      },
      {
        "duration": 1281,
        "start_time": "2023-05-03T18:59:36.412Z"
      },
      {
        "duration": 26,
        "start_time": "2023-05-03T19:00:52.433Z"
      },
      {
        "duration": 42,
        "start_time": "2023-05-03T19:02:35.556Z"
      },
      {
        "duration": 48,
        "start_time": "2023-05-03T19:02:41.420Z"
      },
      {
        "duration": 83,
        "start_time": "2023-05-03T19:05:33.428Z"
      },
      {
        "duration": 15,
        "start_time": "2023-05-03T19:05:45.748Z"
      },
      {
        "duration": 14,
        "start_time": "2023-05-03T19:05:53.539Z"
      },
      {
        "duration": 93,
        "start_time": "2023-05-03T19:05:57.231Z"
      },
      {
        "duration": 1048,
        "start_time": "2023-05-03T19:05:58.370Z"
      },
      {
        "duration": 15,
        "start_time": "2023-05-03T19:06:09.605Z"
      },
      {
        "duration": 96,
        "start_time": "2023-05-03T19:06:11.793Z"
      },
      {
        "duration": 76,
        "start_time": "2023-05-03T19:06:39.914Z"
      },
      {
        "duration": 83,
        "start_time": "2023-05-03T19:06:40.444Z"
      },
      {
        "duration": 13,
        "start_time": "2023-05-03T19:06:45.484Z"
      },
      {
        "duration": 647,
        "start_time": "2023-05-03T19:07:23.823Z"
      },
      {
        "duration": 638,
        "start_time": "2023-05-03T19:08:30.340Z"
      },
      {
        "duration": 6,
        "start_time": "2023-05-03T19:11:46.901Z"
      },
      {
        "duration": 12,
        "start_time": "2023-05-03T19:11:56.566Z"
      },
      {
        "duration": 53,
        "start_time": "2023-05-03T19:12:09.784Z"
      },
      {
        "duration": 45,
        "start_time": "2023-05-03T19:12:13.884Z"
      },
      {
        "duration": 57,
        "start_time": "2023-05-03T19:12:18.385Z"
      },
      {
        "duration": 16,
        "start_time": "2023-05-03T19:12:27.061Z"
      },
      {
        "duration": 3,
        "start_time": "2023-05-03T19:14:52.850Z"
      },
      {
        "duration": 9,
        "start_time": "2023-05-03T19:15:11.295Z"
      },
      {
        "duration": 11,
        "start_time": "2023-05-03T19:15:49.129Z"
      },
      {
        "duration": 23,
        "start_time": "2023-05-03T19:16:10.493Z"
      },
      {
        "duration": 9,
        "start_time": "2023-05-03T19:16:14.624Z"
      },
      {
        "duration": 9,
        "start_time": "2023-05-03T19:16:20.451Z"
      },
      {
        "duration": 2,
        "start_time": "2023-05-03T19:16:26.422Z"
      },
      {
        "duration": 3,
        "start_time": "2023-05-03T19:16:51.282Z"
      },
      {
        "duration": 1315,
        "start_time": "2023-05-03T19:16:51.460Z"
      },
      {
        "duration": 43,
        "start_time": "2023-05-03T19:16:52.777Z"
      },
      {
        "duration": 167,
        "start_time": "2023-05-03T19:16:52.822Z"
      },
      {
        "duration": 12,
        "start_time": "2023-05-03T19:16:52.991Z"
      },
      {
        "duration": 636,
        "start_time": "2023-05-03T19:16:53.005Z"
      },
      {
        "duration": 23,
        "start_time": "2023-05-03T19:16:53.643Z"
      },
      {
        "duration": 22,
        "start_time": "2023-05-03T19:17:03.018Z"
      },
      {
        "duration": 1619,
        "start_time": "2023-05-03T19:17:03.793Z"
      },
      {
        "duration": 8,
        "start_time": "2023-05-03T19:17:33.115Z"
      },
      {
        "duration": 18,
        "start_time": "2023-05-03T19:22:30.437Z"
      },
      {
        "duration": 298,
        "start_time": "2023-05-03T19:22:57.494Z"
      },
      {
        "duration": 160,
        "start_time": "2023-05-03T19:23:28.592Z"
      },
      {
        "duration": 138,
        "start_time": "2023-05-03T19:25:24.125Z"
      },
      {
        "duration": 3,
        "start_time": "2023-05-03T19:25:34.904Z"
      },
      {
        "duration": 149,
        "start_time": "2023-05-03T19:25:38.225Z"
      },
      {
        "duration": 140,
        "start_time": "2023-05-03T19:25:44.331Z"
      },
      {
        "duration": 144,
        "start_time": "2023-05-03T19:25:49.515Z"
      },
      {
        "duration": 189,
        "start_time": "2023-05-03T19:26:06.740Z"
      },
      {
        "duration": 1661,
        "start_time": "2023-05-04T16:52:45.855Z"
      },
      {
        "duration": 4,
        "start_time": "2023-05-04T16:52:48.575Z"
      },
      {
        "duration": 1970,
        "start_time": "2023-05-04T16:52:48.818Z"
      },
      {
        "duration": 52,
        "start_time": "2023-05-04T16:52:50.790Z"
      },
      {
        "duration": 234,
        "start_time": "2023-05-04T16:52:50.844Z"
      },
      {
        "duration": 14,
        "start_time": "2023-05-04T16:52:51.080Z"
      },
      {
        "duration": 782,
        "start_time": "2023-05-04T16:52:51.096Z"
      },
      {
        "duration": 23,
        "start_time": "2023-05-04T16:52:51.879Z"
      },
      {
        "duration": 1802,
        "start_time": "2023-05-04T16:52:51.903Z"
      },
      {
        "duration": 21,
        "start_time": "2023-05-04T16:52:53.707Z"
      },
      {
        "duration": 173,
        "start_time": "2023-05-04T16:52:53.730Z"
      },
      {
        "duration": 3,
        "start_time": "2023-05-04T17:09:41.816Z"
      },
      {
        "duration": 19,
        "start_time": "2023-05-04T17:09:41.821Z"
      },
      {
        "duration": 1318,
        "start_time": "2023-05-04T17:09:41.842Z"
      },
      {
        "duration": 179,
        "start_time": "2023-05-04T17:09:43.163Z"
      },
      {
        "duration": 17,
        "start_time": "2023-05-04T17:09:43.344Z"
      },
      {
        "duration": 20,
        "start_time": "2023-05-04T17:09:46.786Z"
      },
      {
        "duration": 1464,
        "start_time": "2023-05-04T17:09:49.444Z"
      },
      {
        "duration": 107,
        "start_time": "2023-05-04T17:12:10.486Z"
      },
      {
        "duration": 75,
        "start_time": "2023-05-04T17:12:10.881Z"
      },
      {
        "duration": 67,
        "start_time": "2023-05-04T17:12:15.874Z"
      },
      {
        "duration": 54,
        "start_time": "2023-05-04T17:12:22.530Z"
      },
      {
        "duration": 1448,
        "start_time": "2023-05-04T17:12:32.278Z"
      },
      {
        "duration": 178,
        "start_time": "2023-05-04T17:15:50.411Z"
      },
      {
        "duration": 187,
        "start_time": "2023-05-04T17:15:58.387Z"
      },
      {
        "duration": 179,
        "start_time": "2023-05-04T17:16:23.659Z"
      },
      {
        "duration": 139,
        "start_time": "2023-05-04T17:16:31.882Z"
      },
      {
        "duration": 146,
        "start_time": "2023-05-04T17:16:35.068Z"
      },
      {
        "duration": 3,
        "start_time": "2023-05-04T17:19:33.698Z"
      },
      {
        "duration": 1908,
        "start_time": "2023-05-04T17:19:40.841Z"
      },
      {
        "duration": 105,
        "start_time": "2023-05-04T17:19:50.168Z"
      },
      {
        "duration": 691,
        "start_time": "2023-05-04T17:19:57.873Z"
      },
      {
        "duration": 155,
        "start_time": "2023-05-04T17:20:09.923Z"
      },
      {
        "duration": 51,
        "start_time": "2023-05-04T17:20:50.956Z"
      },
      {
        "duration": 3,
        "start_time": "2023-05-04T17:21:06.930Z"
      },
      {
        "duration": 157,
        "start_time": "2023-05-04T17:21:07.325Z"
      },
      {
        "duration": 3,
        "start_time": "2023-05-04T17:24:22.660Z"
      },
      {
        "duration": 158,
        "start_time": "2023-05-04T17:24:23.145Z"
      },
      {
        "duration": 3,
        "start_time": "2023-05-04T17:24:27.055Z"
      },
      {
        "duration": 173,
        "start_time": "2023-05-04T17:24:27.429Z"
      },
      {
        "duration": 27,
        "start_time": "2023-05-04T17:30:03.170Z"
      },
      {
        "duration": 97,
        "start_time": "2023-05-04T17:30:06.670Z"
      },
      {
        "duration": 127,
        "start_time": "2023-05-04T17:30:16.498Z"
      },
      {
        "duration": 113,
        "start_time": "2023-05-04T17:30:21.260Z"
      },
      {
        "duration": 99,
        "start_time": "2023-05-04T17:30:23.439Z"
      },
      {
        "duration": 355,
        "start_time": "2023-05-04T17:30:27.694Z"
      },
      {
        "duration": 1101,
        "start_time": "2023-05-04T17:30:34.872Z"
      },
      {
        "duration": 227,
        "start_time": "2023-05-04T17:31:57.710Z"
      },
      {
        "duration": 253,
        "start_time": "2023-05-04T17:32:16.147Z"
      },
      {
        "duration": 233,
        "start_time": "2023-05-04T17:32:24.433Z"
      },
      {
        "duration": 271,
        "start_time": "2023-05-04T17:32:29.232Z"
      },
      {
        "duration": 256,
        "start_time": "2023-05-04T17:32:33.815Z"
      },
      {
        "duration": 269,
        "start_time": "2023-05-04T17:32:40.672Z"
      },
      {
        "duration": 280,
        "start_time": "2023-05-04T17:32:45.878Z"
      },
      {
        "duration": 311,
        "start_time": "2023-05-04T17:32:48.999Z"
      },
      {
        "duration": 523,
        "start_time": "2023-05-04T17:33:00.439Z"
      },
      {
        "duration": 357,
        "start_time": "2023-05-04T17:33:16.486Z"
      },
      {
        "duration": 282,
        "start_time": "2023-05-04T17:34:18.644Z"
      },
      {
        "duration": 310,
        "start_time": "2023-05-04T17:34:22.347Z"
      },
      {
        "duration": 379,
        "start_time": "2023-05-04T17:34:27.732Z"
      },
      {
        "duration": 299,
        "start_time": "2023-05-04T17:34:34.261Z"
      },
      {
        "duration": 326,
        "start_time": "2023-05-04T17:34:36.710Z"
      },
      {
        "duration": 335,
        "start_time": "2023-05-04T17:35:05.138Z"
      },
      {
        "duration": 49,
        "start_time": "2023-05-04T17:35:21.599Z"
      },
      {
        "duration": 322,
        "start_time": "2023-05-04T17:35:23.501Z"
      },
      {
        "duration": 48,
        "start_time": "2023-05-04T17:37:33.433Z"
      },
      {
        "duration": 3,
        "start_time": "2023-05-04T17:37:45.082Z"
      },
      {
        "duration": 9,
        "start_time": "2023-05-04T17:37:45.087Z"
      },
      {
        "duration": 1303,
        "start_time": "2023-05-04T17:37:45.098Z"
      },
      {
        "duration": 175,
        "start_time": "2023-05-04T17:37:46.403Z"
      },
      {
        "duration": 16,
        "start_time": "2023-05-04T17:37:46.580Z"
      },
      {
        "duration": 51,
        "start_time": "2023-05-04T17:39:02.182Z"
      },
      {
        "duration": 20,
        "start_time": "2023-05-04T17:39:06.042Z"
      },
      {
        "duration": 38,
        "start_time": "2023-05-04T17:39:07.063Z"
      },
      {
        "duration": 65,
        "start_time": "2023-05-04T17:39:08.083Z"
      },
      {
        "duration": 50,
        "start_time": "2023-05-04T17:42:15.224Z"
      },
      {
        "duration": 45,
        "start_time": "2023-05-04T17:42:18.050Z"
      },
      {
        "duration": 234,
        "start_time": "2023-05-04T17:42:34.216Z"
      },
      {
        "duration": 3,
        "start_time": "2023-05-04T17:42:47.185Z"
      },
      {
        "duration": 46,
        "start_time": "2023-05-04T17:42:48.979Z"
      },
      {
        "duration": 49,
        "start_time": "2023-05-04T17:43:07.082Z"
      },
      {
        "duration": 16,
        "start_time": "2023-05-04T17:43:15.194Z"
      },
      {
        "duration": 3,
        "start_time": "2023-05-04T17:43:19.937Z"
      },
      {
        "duration": 46,
        "start_time": "2023-05-04T17:43:23.995Z"
      },
      {
        "duration": 35,
        "start_time": "2023-05-04T17:44:06.705Z"
      },
      {
        "duration": 36,
        "start_time": "2023-05-04T17:44:08.728Z"
      },
      {
        "duration": 48,
        "start_time": "2023-05-04T17:45:18.825Z"
      },
      {
        "duration": 4,
        "start_time": "2023-05-04T17:45:40.008Z"
      },
      {
        "duration": 4,
        "start_time": "2023-05-04T17:45:42.201Z"
      },
      {
        "duration": 44,
        "start_time": "2023-05-04T17:45:57.530Z"
      },
      {
        "duration": 10,
        "start_time": "2023-05-04T17:47:18.447Z"
      },
      {
        "duration": 39,
        "start_time": "2023-05-04T17:58:58.897Z"
      },
      {
        "duration": 67,
        "start_time": "2023-05-04T17:59:04.552Z"
      },
      {
        "duration": 47,
        "start_time": "2023-05-04T17:59:16.532Z"
      },
      {
        "duration": 39,
        "start_time": "2023-05-04T17:59:24.916Z"
      },
      {
        "duration": 25,
        "start_time": "2023-05-04T17:59:50.545Z"
      },
      {
        "duration": 20,
        "start_time": "2023-05-04T18:00:20.754Z"
      },
      {
        "duration": 52,
        "start_time": "2023-05-04T18:00:29.452Z"
      },
      {
        "duration": 202,
        "start_time": "2023-05-04T18:00:49.467Z"
      },
      {
        "duration": 50,
        "start_time": "2023-05-04T18:01:00.150Z"
      },
      {
        "duration": 191,
        "start_time": "2023-05-04T18:01:04.285Z"
      },
      {
        "duration": 285,
        "start_time": "2023-05-04T18:01:17.841Z"
      },
      {
        "duration": 205,
        "start_time": "2023-05-04T18:02:00.206Z"
      },
      {
        "duration": 25,
        "start_time": "2023-05-04T18:02:23.908Z"
      },
      {
        "duration": 10,
        "start_time": "2023-05-04T18:02:55.772Z"
      },
      {
        "duration": 109,
        "start_time": "2023-05-04T18:03:33.996Z"
      },
      {
        "duration": 129,
        "start_time": "2023-05-04T18:04:25.867Z"
      },
      {
        "duration": 374,
        "start_time": "2023-05-04T18:06:25.217Z"
      },
      {
        "duration": 69,
        "start_time": "2023-05-04T18:06:30.362Z"
      },
      {
        "duration": 70,
        "start_time": "2023-05-04T18:06:37.207Z"
      },
      {
        "duration": 340,
        "start_time": "2023-05-04T18:06:40.301Z"
      },
      {
        "duration": 62,
        "start_time": "2023-05-04T18:06:40.652Z"
      },
      {
        "duration": 356,
        "start_time": "2023-05-04T18:06:52.177Z"
      },
      {
        "duration": 62,
        "start_time": "2023-05-04T18:06:53.072Z"
      },
      {
        "duration": 315,
        "start_time": "2023-05-04T18:07:35.601Z"
      },
      {
        "duration": 60,
        "start_time": "2023-05-04T18:07:36.938Z"
      },
      {
        "duration": 166,
        "start_time": "2023-05-04T18:07:46.234Z"
      },
      {
        "duration": 52,
        "start_time": "2023-05-04T18:07:49.547Z"
      },
      {
        "duration": 284,
        "start_time": "2023-05-04T18:07:59.787Z"
      },
      {
        "duration": 78,
        "start_time": "2023-05-04T18:08:00.663Z"
      },
      {
        "duration": 14,
        "start_time": "2023-05-04T18:08:05.645Z"
      },
      {
        "duration": 207,
        "start_time": "2023-05-04T18:08:14.449Z"
      },
      {
        "duration": 62,
        "start_time": "2023-05-04T18:08:28.959Z"
      },
      {
        "duration": 56,
        "start_time": "2023-05-04T18:09:16.110Z"
      },
      {
        "duration": 16,
        "start_time": "2023-05-04T18:09:30.350Z"
      },
      {
        "duration": 53,
        "start_time": "2023-05-04T18:09:41.520Z"
      },
      {
        "duration": 378,
        "start_time": "2023-05-04T18:10:14.138Z"
      },
      {
        "duration": 16,
        "start_time": "2023-05-04T18:10:17.058Z"
      },
      {
        "duration": 4,
        "start_time": "2023-05-04T18:10:22.298Z"
      },
      {
        "duration": 20,
        "start_time": "2023-05-04T18:10:22.304Z"
      },
      {
        "duration": 1380,
        "start_time": "2023-05-04T18:10:22.327Z"
      },
      {
        "duration": 172,
        "start_time": "2023-05-04T18:10:23.709Z"
      },
      {
        "duration": 24,
        "start_time": "2023-05-04T18:10:23.883Z"
      },
      {
        "duration": 755,
        "start_time": "2023-05-04T18:10:23.910Z"
      },
      {
        "duration": 22,
        "start_time": "2023-05-04T18:10:24.666Z"
      },
      {
        "duration": 20,
        "start_time": "2023-05-04T18:10:27.454Z"
      },
      {
        "duration": 40,
        "start_time": "2023-05-04T18:10:27.671Z"
      },
      {
        "duration": 345,
        "start_time": "2023-05-04T18:10:32.684Z"
      },
      {
        "duration": 386,
        "start_time": "2023-05-04T18:11:57.130Z"
      },
      {
        "duration": 357,
        "start_time": "2023-05-04T18:12:16.971Z"
      },
      {
        "duration": 18,
        "start_time": "2023-05-04T18:12:43.554Z"
      },
      {
        "duration": 347,
        "start_time": "2023-05-04T18:12:49.764Z"
      },
      {
        "duration": 12,
        "start_time": "2023-05-04T18:12:54.320Z"
      },
      {
        "duration": 505,
        "start_time": "2023-05-04T18:24:30.982Z"
      },
      {
        "duration": 393,
        "start_time": "2023-05-04T18:24:44.440Z"
      },
      {
        "duration": 47,
        "start_time": "2023-05-04T18:24:55.596Z"
      },
      {
        "duration": 548,
        "start_time": "2023-05-04T18:27:10.208Z"
      },
      {
        "duration": 595,
        "start_time": "2023-05-04T18:27:38.538Z"
      },
      {
        "duration": 12,
        "start_time": "2023-05-04T18:27:42.671Z"
      },
      {
        "duration": 783,
        "start_time": "2023-05-04T18:28:03.819Z"
      },
      {
        "duration": 15,
        "start_time": "2023-05-04T18:28:05.405Z"
      },
      {
        "duration": 57,
        "start_time": "2023-05-04T18:35:03.613Z"
      },
      {
        "duration": 80,
        "start_time": "2023-05-04T18:35:12.241Z"
      },
      {
        "duration": 17,
        "start_time": "2023-05-04T18:35:51.673Z"
      },
      {
        "duration": 64,
        "start_time": "2023-05-04T18:36:00.471Z"
      },
      {
        "duration": 1621,
        "start_time": "2023-05-05T16:38:44.090Z"
      },
      {
        "duration": 4,
        "start_time": "2023-05-05T16:38:45.714Z"
      },
      {
        "duration": 1851,
        "start_time": "2023-05-05T16:38:45.720Z"
      },
      {
        "duration": 219,
        "start_time": "2023-05-05T16:38:47.572Z"
      },
      {
        "duration": 14,
        "start_time": "2023-05-05T16:38:47.793Z"
      },
      {
        "duration": 884,
        "start_time": "2023-05-05T16:38:47.809Z"
      },
      {
        "duration": 24,
        "start_time": "2023-05-05T16:38:48.695Z"
      },
      {
        "duration": 73,
        "start_time": "2023-05-05T16:38:48.721Z"
      },
      {
        "duration": 119,
        "start_time": "2023-05-05T16:39:31.754Z"
      },
      {
        "duration": 3,
        "start_time": "2023-05-05T16:39:37.042Z"
      },
      {
        "duration": 8,
        "start_time": "2023-05-05T16:39:37.047Z"
      },
      {
        "duration": 1558,
        "start_time": "2023-05-05T16:39:37.056Z"
      },
      {
        "duration": 169,
        "start_time": "2023-05-05T16:39:38.616Z"
      },
      {
        "duration": 14,
        "start_time": "2023-05-05T16:39:38.787Z"
      },
      {
        "duration": 748,
        "start_time": "2023-05-05T16:39:44.714Z"
      },
      {
        "duration": 30,
        "start_time": "2023-05-05T16:39:45.464Z"
      },
      {
        "duration": 68,
        "start_time": "2023-05-05T16:40:05.924Z"
      },
      {
        "duration": 13,
        "start_time": "2023-05-05T16:40:06.556Z"
      },
      {
        "duration": 674,
        "start_time": "2023-05-05T16:40:11.289Z"
      },
      {
        "duration": 614,
        "start_time": "2023-05-05T16:40:37.445Z"
      },
      {
        "duration": 13,
        "start_time": "2023-05-05T16:40:38.583Z"
      },
      {
        "duration": 39,
        "start_time": "2023-05-05T16:40:38.886Z"
      },
      {
        "duration": 786,
        "start_time": "2023-05-05T16:40:40.026Z"
      },
      {
        "duration": 23,
        "start_time": "2023-05-05T16:40:40.814Z"
      },
      {
        "duration": 21,
        "start_time": "2023-05-05T16:40:57.567Z"
      },
      {
        "duration": 80,
        "start_time": "2023-05-05T16:40:58.096Z"
      },
      {
        "duration": 3,
        "start_time": "2023-05-05T16:41:03.435Z"
      },
      {
        "duration": 5,
        "start_time": "2023-05-05T16:41:03.440Z"
      },
      {
        "duration": 1483,
        "start_time": "2023-05-05T16:41:03.446Z"
      },
      {
        "duration": 158,
        "start_time": "2023-05-05T16:41:04.931Z"
      },
      {
        "duration": 15,
        "start_time": "2023-05-05T16:41:05.090Z"
      },
      {
        "duration": 1090,
        "start_time": "2023-05-05T16:41:05.107Z"
      },
      {
        "duration": 23,
        "start_time": "2023-05-05T16:41:06.199Z"
      },
      {
        "duration": 61,
        "start_time": "2023-05-05T16:41:06.224Z"
      },
      {
        "duration": 799,
        "start_time": "2023-05-05T16:41:12.109Z"
      },
      {
        "duration": 21,
        "start_time": "2023-05-05T16:41:13.688Z"
      },
      {
        "duration": 86,
        "start_time": "2023-05-05T16:41:14.620Z"
      },
      {
        "duration": 1591,
        "start_time": "2023-05-05T16:41:15.816Z"
      },
      {
        "duration": 10,
        "start_time": "2023-05-05T16:46:08.363Z"
      },
      {
        "duration": 98,
        "start_time": "2023-05-05T16:46:35.563Z"
      },
      {
        "duration": 99,
        "start_time": "2023-05-05T16:46:39.862Z"
      },
      {
        "duration": 197,
        "start_time": "2023-05-05T16:47:00.193Z"
      },
      {
        "duration": 97,
        "start_time": "2023-05-05T16:47:13.000Z"
      },
      {
        "duration": 100,
        "start_time": "2023-05-05T16:47:15.894Z"
      },
      {
        "duration": 104,
        "start_time": "2023-05-05T16:47:18.307Z"
      },
      {
        "duration": 11,
        "start_time": "2023-05-05T16:47:32.282Z"
      },
      {
        "duration": 122,
        "start_time": "2023-05-05T16:47:36.472Z"
      },
      {
        "duration": 10,
        "start_time": "2023-05-05T16:51:00.552Z"
      },
      {
        "duration": 8,
        "start_time": "2023-05-05T16:51:10.668Z"
      },
      {
        "duration": 10,
        "start_time": "2023-05-05T16:51:20.021Z"
      },
      {
        "duration": 9,
        "start_time": "2023-05-05T16:51:36.287Z"
      },
      {
        "duration": 10,
        "start_time": "2023-05-05T16:51:41.024Z"
      },
      {
        "duration": 4,
        "start_time": "2023-05-05T16:51:47.069Z"
      },
      {
        "duration": 62,
        "start_time": "2023-05-05T16:51:48.988Z"
      },
      {
        "duration": 10,
        "start_time": "2023-05-05T16:51:58.306Z"
      },
      {
        "duration": 60,
        "start_time": "2023-05-05T16:52:08.681Z"
      },
      {
        "duration": 3622,
        "start_time": "2023-05-05T16:52:16.601Z"
      },
      {
        "duration": 20,
        "start_time": "2023-05-05T16:53:07.280Z"
      },
      {
        "duration": 75,
        "start_time": "2023-05-05T16:53:56.314Z"
      },
      {
        "duration": 51,
        "start_time": "2023-05-05T16:53:59.150Z"
      },
      {
        "duration": 4,
        "start_time": "2023-05-05T16:54:12.712Z"
      },
      {
        "duration": 3,
        "start_time": "2023-05-05T16:54:14.310Z"
      },
      {
        "duration": 4,
        "start_time": "2023-05-05T16:54:17.059Z"
      },
      {
        "duration": 45,
        "start_time": "2023-05-05T16:54:20.930Z"
      },
      {
        "duration": 7,
        "start_time": "2023-05-05T16:54:22.509Z"
      },
      {
        "duration": 7,
        "start_time": "2023-05-05T16:54:25.328Z"
      },
      {
        "duration": 11,
        "start_time": "2023-05-05T16:54:32.814Z"
      },
      {
        "duration": 9,
        "start_time": "2023-05-05T16:54:36.286Z"
      },
      {
        "duration": 107,
        "start_time": "2023-05-05T16:55:04.626Z"
      },
      {
        "duration": 13,
        "start_time": "2023-05-05T16:55:17.645Z"
      },
      {
        "duration": 108,
        "start_time": "2023-05-05T16:55:36.642Z"
      },
      {
        "duration": 115,
        "start_time": "2023-05-05T16:55:46.177Z"
      },
      {
        "duration": 116,
        "start_time": "2023-05-05T16:55:50.454Z"
      },
      {
        "duration": 153,
        "start_time": "2023-05-05T16:55:55.629Z"
      },
      {
        "duration": 119,
        "start_time": "2023-05-05T16:56:28.289Z"
      },
      {
        "duration": 89,
        "start_time": "2023-05-05T16:56:34.900Z"
      },
      {
        "duration": 109,
        "start_time": "2023-05-05T16:56:39.000Z"
      },
      {
        "duration": 116,
        "start_time": "2023-05-05T16:56:40.922Z"
      },
      {
        "duration": 6,
        "start_time": "2023-05-05T16:56:43.981Z"
      },
      {
        "duration": 120,
        "start_time": "2023-05-05T16:56:44.207Z"
      },
      {
        "duration": 86,
        "start_time": "2023-05-05T16:56:53.844Z"
      },
      {
        "duration": 31,
        "start_time": "2023-05-05T16:57:24.314Z"
      },
      {
        "duration": 93,
        "start_time": "2023-05-05T16:57:24.952Z"
      },
      {
        "duration": 11,
        "start_time": "2023-05-05T16:57:36.051Z"
      },
      {
        "duration": 4,
        "start_time": "2023-05-05T16:57:40.196Z"
      },
      {
        "duration": 11,
        "start_time": "2023-05-05T16:57:40.202Z"
      },
      {
        "duration": 1562,
        "start_time": "2023-05-05T16:57:40.215Z"
      },
      {
        "duration": 158,
        "start_time": "2023-05-05T16:57:41.779Z"
      },
      {
        "duration": 14,
        "start_time": "2023-05-05T16:57:41.939Z"
      },
      {
        "duration": 1057,
        "start_time": "2023-05-05T16:57:41.955Z"
      },
      {
        "duration": 23,
        "start_time": "2023-05-05T16:57:43.014Z"
      },
      {
        "duration": 53,
        "start_time": "2023-05-05T16:57:43.039Z"
      },
      {
        "duration": 20,
        "start_time": "2023-05-05T16:57:43.094Z"
      },
      {
        "duration": 97,
        "start_time": "2023-05-05T16:57:43.116Z"
      },
      {
        "duration": 1563,
        "start_time": "2023-05-05T16:57:43.215Z"
      },
      {
        "duration": 125,
        "start_time": "2023-05-05T16:57:44.779Z"
      },
      {
        "duration": 12,
        "start_time": "2023-05-05T16:57:53.356Z"
      },
      {
        "duration": 36,
        "start_time": "2023-05-05T16:57:53.546Z"
      },
      {
        "duration": 19,
        "start_time": "2023-05-05T16:57:53.697Z"
      },
      {
        "duration": 79,
        "start_time": "2023-05-05T16:57:53.853Z"
      },
      {
        "duration": 1651,
        "start_time": "2023-05-05T16:57:54.181Z"
      },
      {
        "duration": 139,
        "start_time": "2023-05-05T16:57:55.834Z"
      },
      {
        "duration": 9,
        "start_time": "2023-05-05T16:58:16.405Z"
      },
      {
        "duration": 95,
        "start_time": "2023-05-05T16:58:17.131Z"
      },
      {
        "duration": 6,
        "start_time": "2023-05-05T16:58:39.938Z"
      },
      {
        "duration": 5,
        "start_time": "2023-05-05T16:58:43.141Z"
      },
      {
        "duration": 114,
        "start_time": "2023-05-05T16:58:43.272Z"
      },
      {
        "duration": 82,
        "start_time": "2023-05-05T16:58:47.118Z"
      },
      {
        "duration": 215,
        "start_time": "2023-05-05T17:00:00.628Z"
      },
      {
        "duration": 129,
        "start_time": "2023-05-05T17:00:03.723Z"
      },
      {
        "duration": 207,
        "start_time": "2023-05-05T17:00:49.511Z"
      },
      {
        "duration": 378,
        "start_time": "2023-05-05T17:00:53.899Z"
      },
      {
        "duration": 199,
        "start_time": "2023-05-05T17:00:57.903Z"
      },
      {
        "duration": 196,
        "start_time": "2023-05-05T17:01:01.476Z"
      },
      {
        "duration": 185,
        "start_time": "2023-05-05T17:01:05.969Z"
      },
      {
        "duration": 192,
        "start_time": "2023-05-05T17:01:09.189Z"
      },
      {
        "duration": 219,
        "start_time": "2023-05-05T17:01:12.552Z"
      },
      {
        "duration": 256,
        "start_time": "2023-05-05T17:01:15.829Z"
      },
      {
        "duration": 273,
        "start_time": "2023-05-05T17:01:27.957Z"
      },
      {
        "duration": 307,
        "start_time": "2023-05-05T17:02:12.875Z"
      },
      {
        "duration": 278,
        "start_time": "2023-05-05T17:02:17.295Z"
      },
      {
        "duration": 267,
        "start_time": "2023-05-05T17:02:21.834Z"
      },
      {
        "duration": 348,
        "start_time": "2023-05-05T17:02:27.031Z"
      },
      {
        "duration": 285,
        "start_time": "2023-05-05T17:02:30.085Z"
      },
      {
        "duration": 233,
        "start_time": "2023-05-05T17:02:57.032Z"
      },
      {
        "duration": 215,
        "start_time": "2023-05-05T17:03:04.360Z"
      },
      {
        "duration": 284,
        "start_time": "2023-05-05T17:03:07.476Z"
      },
      {
        "duration": 282,
        "start_time": "2023-05-05T17:03:15.256Z"
      },
      {
        "duration": 287,
        "start_time": "2023-05-05T17:03:18.970Z"
      },
      {
        "duration": 286,
        "start_time": "2023-05-05T17:03:22.022Z"
      },
      {
        "duration": 302,
        "start_time": "2023-05-05T17:03:33.850Z"
      },
      {
        "duration": 308,
        "start_time": "2023-05-05T17:03:46.487Z"
      },
      {
        "duration": 348,
        "start_time": "2023-05-05T17:04:13.054Z"
      },
      {
        "duration": 453,
        "start_time": "2023-05-05T17:04:34.943Z"
      },
      {
        "duration": 306,
        "start_time": "2023-05-05T17:04:39.783Z"
      },
      {
        "duration": 289,
        "start_time": "2023-05-05T17:04:46.306Z"
      },
      {
        "duration": 244,
        "start_time": "2023-05-05T17:05:29.924Z"
      },
      {
        "duration": 233,
        "start_time": "2023-05-05T17:07:04.258Z"
      },
      {
        "duration": 382,
        "start_time": "2023-05-05T17:07:07.508Z"
      },
      {
        "duration": 350,
        "start_time": "2023-05-05T17:07:13.836Z"
      },
      {
        "duration": 310,
        "start_time": "2023-05-05T17:07:27.591Z"
      },
      {
        "duration": 240,
        "start_time": "2023-05-05T17:07:34.849Z"
      },
      {
        "duration": 256,
        "start_time": "2023-05-05T17:07:37.661Z"
      },
      {
        "duration": 392,
        "start_time": "2023-05-05T17:07:45.272Z"
      },
      {
        "duration": 310,
        "start_time": "2023-05-05T17:07:51.404Z"
      },
      {
        "duration": 252,
        "start_time": "2023-05-05T17:07:55.733Z"
      },
      {
        "duration": 295,
        "start_time": "2023-05-05T17:07:58.714Z"
      },
      {
        "duration": 293,
        "start_time": "2023-05-05T17:08:07.119Z"
      },
      {
        "duration": 339,
        "start_time": "2023-05-05T17:08:12.254Z"
      },
      {
        "duration": 263,
        "start_time": "2023-05-05T17:08:15.885Z"
      },
      {
        "duration": 483,
        "start_time": "2023-05-05T17:08:41.353Z"
      },
      {
        "duration": 303,
        "start_time": "2023-05-05T17:08:45.672Z"
      },
      {
        "duration": 437,
        "start_time": "2023-05-05T17:08:50.251Z"
      },
      {
        "duration": 292,
        "start_time": "2023-05-05T17:09:21.751Z"
      },
      {
        "duration": 232,
        "start_time": "2023-05-05T17:09:24.653Z"
      },
      {
        "duration": 251,
        "start_time": "2023-05-05T17:09:27.905Z"
      },
      {
        "duration": 297,
        "start_time": "2023-05-05T17:09:35.308Z"
      },
      {
        "duration": 238,
        "start_time": "2023-05-05T17:09:39.104Z"
      },
      {
        "duration": 297,
        "start_time": "2023-05-05T17:10:27.465Z"
      },
      {
        "duration": 425,
        "start_time": "2023-05-05T17:10:32.507Z"
      },
      {
        "duration": 384,
        "start_time": "2023-05-05T17:11:14.749Z"
      },
      {
        "duration": 343,
        "start_time": "2023-05-05T17:11:22.514Z"
      },
      {
        "duration": 332,
        "start_time": "2023-05-05T17:11:30.078Z"
      },
      {
        "duration": 300,
        "start_time": "2023-05-05T17:11:34.728Z"
      },
      {
        "duration": 429,
        "start_time": "2023-05-05T17:11:44.951Z"
      },
      {
        "duration": 112,
        "start_time": "2023-05-05T17:12:00.289Z"
      },
      {
        "duration": 129,
        "start_time": "2023-05-05T17:12:09.166Z"
      },
      {
        "duration": 13,
        "start_time": "2023-05-05T17:12:11.117Z"
      },
      {
        "duration": 129,
        "start_time": "2023-05-05T17:12:13.113Z"
      },
      {
        "duration": 117,
        "start_time": "2023-05-05T17:12:16.431Z"
      },
      {
        "duration": 113,
        "start_time": "2023-05-05T17:12:25.272Z"
      },
      {
        "duration": 112,
        "start_time": "2023-05-05T17:12:27.674Z"
      },
      {
        "duration": 315,
        "start_time": "2023-05-05T17:12:39.396Z"
      },
      {
        "duration": 356,
        "start_time": "2023-05-05T17:12:58.714Z"
      },
      {
        "duration": 477,
        "start_time": "2023-05-05T17:13:29.703Z"
      },
      {
        "duration": 399,
        "start_time": "2023-05-05T17:13:36.902Z"
      },
      {
        "duration": 17,
        "start_time": "2023-05-05T17:37:38.636Z"
      },
      {
        "duration": 8,
        "start_time": "2023-05-05T17:38:19.037Z"
      },
      {
        "duration": 11,
        "start_time": "2023-05-05T17:38:46.345Z"
      },
      {
        "duration": 8,
        "start_time": "2023-05-05T17:38:46.825Z"
      },
      {
        "duration": 363,
        "start_time": "2023-05-05T17:39:52.266Z"
      },
      {
        "duration": 345,
        "start_time": "2023-05-05T17:40:02.502Z"
      },
      {
        "duration": 16,
        "start_time": "2023-05-05T17:40:36.565Z"
      },
      {
        "duration": 44,
        "start_time": "2023-05-05T17:40:41.667Z"
      },
      {
        "duration": 28,
        "start_time": "2023-05-05T17:40:48.505Z"
      },
      {
        "duration": 319,
        "start_time": "2023-05-05T17:42:12.622Z"
      },
      {
        "duration": 7,
        "start_time": "2023-05-05T17:42:25.837Z"
      },
      {
        "duration": 70,
        "start_time": "2023-05-05T17:43:24.479Z"
      },
      {
        "duration": 6,
        "start_time": "2023-05-05T17:43:25.140Z"
      },
      {
        "duration": 4,
        "start_time": "2023-05-05T17:43:30.202Z"
      },
      {
        "duration": 34,
        "start_time": "2023-05-05T17:43:30.209Z"
      },
      {
        "duration": 1651,
        "start_time": "2023-05-05T17:43:30.246Z"
      },
      {
        "duration": 164,
        "start_time": "2023-05-05T17:43:31.899Z"
      },
      {
        "duration": 22,
        "start_time": "2023-05-05T17:43:32.065Z"
      },
      {
        "duration": 1235,
        "start_time": "2023-05-05T17:43:32.088Z"
      },
      {
        "duration": 26,
        "start_time": "2023-05-05T17:43:33.325Z"
      },
      {
        "duration": 73,
        "start_time": "2023-05-05T17:43:33.353Z"
      },
      {
        "duration": 23,
        "start_time": "2023-05-05T17:43:33.428Z"
      },
      {
        "duration": 95,
        "start_time": "2023-05-05T17:43:33.453Z"
      },
      {
        "duration": 1776,
        "start_time": "2023-05-05T17:43:33.550Z"
      },
      {
        "duration": 171,
        "start_time": "2023-05-05T17:43:35.328Z"
      },
      {
        "duration": 10,
        "start_time": "2023-05-05T17:43:35.502Z"
      },
      {
        "duration": 9,
        "start_time": "2023-05-05T17:43:35.515Z"
      },
      {
        "duration": 228,
        "start_time": "2023-05-05T17:43:35.526Z"
      },
      {
        "duration": 495,
        "start_time": "2023-05-05T17:43:35.756Z"
      },
      {
        "duration": 414,
        "start_time": "2023-05-05T17:43:36.253Z"
      },
      {
        "duration": 22,
        "start_time": "2023-05-05T17:43:41.931Z"
      },
      {
        "duration": 10,
        "start_time": "2023-05-05T17:43:42.550Z"
      },
      {
        "duration": 112,
        "start_time": "2023-05-05T17:43:43.329Z"
      },
      {
        "duration": 7,
        "start_time": "2023-05-05T17:43:44.059Z"
      },
      {
        "duration": 104,
        "start_time": "2023-05-05T17:43:52.382Z"
      },
      {
        "duration": 6,
        "start_time": "2023-05-05T17:43:52.901Z"
      },
      {
        "duration": 6,
        "start_time": "2023-05-05T17:43:55.629Z"
      },
      {
        "duration": 15,
        "start_time": "2023-05-05T17:44:00.104Z"
      },
      {
        "duration": 7,
        "start_time": "2023-05-05T17:44:02.378Z"
      },
      {
        "duration": 21,
        "start_time": "2023-05-05T17:44:06.550Z"
      },
      {
        "duration": 20,
        "start_time": "2023-05-05T17:44:50.751Z"
      },
      {
        "duration": 18,
        "start_time": "2023-05-05T17:44:58.270Z"
      },
      {
        "duration": 5,
        "start_time": "2023-05-05T17:45:04.647Z"
      },
      {
        "duration": 77,
        "start_time": "2023-05-05T17:45:25.559Z"
      },
      {
        "duration": 21,
        "start_time": "2023-05-05T17:46:55.047Z"
      },
      {
        "duration": 6,
        "start_time": "2023-05-05T17:46:55.444Z"
      },
      {
        "duration": 47,
        "start_time": "2023-05-05T17:47:08.945Z"
      },
      {
        "duration": 41,
        "start_time": "2023-05-05T17:47:12.836Z"
      },
      {
        "duration": 2456,
        "start_time": "2023-05-05T17:47:25.766Z"
      },
      {
        "duration": 17,
        "start_time": "2023-05-05T17:47:28.224Z"
      },
      {
        "duration": 2545,
        "start_time": "2023-05-05T17:47:30.777Z"
      },
      {
        "duration": 15,
        "start_time": "2023-05-05T17:47:33.324Z"
      },
      {
        "duration": 47,
        "start_time": "2023-05-05T17:47:53.505Z"
      },
      {
        "duration": 15,
        "start_time": "2023-05-05T17:47:54.505Z"
      },
      {
        "duration": 37,
        "start_time": "2023-05-05T17:47:58.255Z"
      },
      {
        "duration": 5,
        "start_time": "2023-05-05T17:48:12.679Z"
      },
      {
        "duration": 5,
        "start_time": "2023-05-05T17:48:12.687Z"
      },
      {
        "duration": 1567,
        "start_time": "2023-05-05T17:48:12.694Z"
      },
      {
        "duration": 168,
        "start_time": "2023-05-05T17:48:14.263Z"
      },
      {
        "duration": 14,
        "start_time": "2023-05-05T17:48:14.434Z"
      },
      {
        "duration": 1171,
        "start_time": "2023-05-05T17:48:14.450Z"
      },
      {
        "duration": 39,
        "start_time": "2023-05-05T17:48:15.624Z"
      },
      {
        "duration": 88,
        "start_time": "2023-05-05T17:48:15.666Z"
      },
      {
        "duration": 28,
        "start_time": "2023-05-05T17:48:15.757Z"
      },
      {
        "duration": 101,
        "start_time": "2023-05-05T17:48:15.787Z"
      },
      {
        "duration": 1502,
        "start_time": "2023-05-05T17:48:15.889Z"
      },
      {
        "duration": 130,
        "start_time": "2023-05-05T17:48:17.392Z"
      },
      {
        "duration": 9,
        "start_time": "2023-05-05T17:48:17.524Z"
      },
      {
        "duration": 5,
        "start_time": "2023-05-05T17:48:17.536Z"
      },
      {
        "duration": 227,
        "start_time": "2023-05-05T17:48:17.542Z"
      },
      {
        "duration": 301,
        "start_time": "2023-05-05T17:48:17.770Z"
      },
      {
        "duration": 415,
        "start_time": "2023-05-05T17:48:18.072Z"
      },
      {
        "duration": 18,
        "start_time": "2023-05-05T17:48:18.488Z"
      },
      {
        "duration": 13,
        "start_time": "2023-05-05T17:48:18.508Z"
      },
      {
        "duration": 92,
        "start_time": "2023-05-05T17:48:18.523Z"
      },
      {
        "duration": 69,
        "start_time": "2023-05-05T17:48:24.205Z"
      },
      {
        "duration": 6,
        "start_time": "2023-05-05T17:48:24.798Z"
      },
      {
        "duration": 19,
        "start_time": "2023-05-05T17:48:26.099Z"
      },
      {
        "duration": 21,
        "start_time": "2023-05-05T17:48:32.364Z"
      },
      {
        "duration": 6,
        "start_time": "2023-05-05T17:48:32.995Z"
      },
      {
        "duration": 131,
        "start_time": "2023-05-05T17:48:51.908Z"
      },
      {
        "duration": 1373,
        "start_time": "2023-05-05T17:49:08.740Z"
      },
      {
        "duration": 4,
        "start_time": "2023-05-05T17:49:10.115Z"
      },
      {
        "duration": 1670,
        "start_time": "2023-05-05T17:49:10.121Z"
      },
      {
        "duration": 223,
        "start_time": "2023-05-05T17:49:11.792Z"
      },
      {
        "duration": 13,
        "start_time": "2023-05-05T17:49:12.018Z"
      },
      {
        "duration": 1175,
        "start_time": "2023-05-05T17:49:12.033Z"
      },
      {
        "duration": 28,
        "start_time": "2023-05-05T17:49:13.209Z"
      },
      {
        "duration": 78,
        "start_time": "2023-05-05T17:49:13.238Z"
      },
      {
        "duration": 22,
        "start_time": "2023-05-05T17:49:13.318Z"
      },
      {
        "duration": 87,
        "start_time": "2023-05-05T17:49:13.342Z"
      },
      {
        "duration": 1717,
        "start_time": "2023-05-05T17:49:13.430Z"
      },
      {
        "duration": 113,
        "start_time": "2023-05-05T17:49:15.149Z"
      },
      {
        "duration": 21,
        "start_time": "2023-05-05T17:49:15.264Z"
      },
      {
        "duration": 4,
        "start_time": "2023-05-05T17:49:15.288Z"
      },
      {
        "duration": 248,
        "start_time": "2023-05-05T17:49:15.294Z"
      },
      {
        "duration": 300,
        "start_time": "2023-05-05T17:49:15.544Z"
      },
      {
        "duration": 375,
        "start_time": "2023-05-05T17:49:15.845Z"
      },
      {
        "duration": 19,
        "start_time": "2023-05-05T17:49:16.221Z"
      },
      {
        "duration": 5,
        "start_time": "2023-05-05T17:49:20.122Z"
      },
      {
        "duration": 8,
        "start_time": "2023-05-05T17:49:21.681Z"
      },
      {
        "duration": 91,
        "start_time": "2023-05-05T17:49:23.761Z"
      },
      {
        "duration": 7,
        "start_time": "2023-05-05T17:49:24.464Z"
      },
      {
        "duration": 22,
        "start_time": "2023-05-05T17:49:25.632Z"
      },
      {
        "duration": 21,
        "start_time": "2023-05-05T17:49:28.395Z"
      },
      {
        "duration": 6,
        "start_time": "2023-05-05T17:49:29.061Z"
      },
      {
        "duration": 23,
        "start_time": "2023-05-05T17:50:01.802Z"
      },
      {
        "duration": 7,
        "start_time": "2023-05-05T17:50:02.279Z"
      },
      {
        "duration": 10,
        "start_time": "2023-05-05T17:50:07.369Z"
      },
      {
        "duration": 12,
        "start_time": "2023-05-05T17:50:07.592Z"
      },
      {
        "duration": 4,
        "start_time": "2023-05-05T17:50:20.193Z"
      },
      {
        "duration": 17,
        "start_time": "2023-05-05T17:50:20.199Z"
      },
      {
        "duration": 1527,
        "start_time": "2023-05-05T17:50:20.217Z"
      },
      {
        "duration": 162,
        "start_time": "2023-05-05T17:50:21.746Z"
      },
      {
        "duration": 14,
        "start_time": "2023-05-05T17:50:21.911Z"
      },
      {
        "duration": 1092,
        "start_time": "2023-05-05T17:50:21.927Z"
      },
      {
        "duration": 30,
        "start_time": "2023-05-05T17:50:23.021Z"
      },
      {
        "duration": 57,
        "start_time": "2023-05-05T17:50:23.054Z"
      },
      {
        "duration": 22,
        "start_time": "2023-05-05T17:50:23.112Z"
      },
      {
        "duration": 91,
        "start_time": "2023-05-05T17:50:23.135Z"
      },
      {
        "duration": 1744,
        "start_time": "2023-05-05T17:50:23.228Z"
      },
      {
        "duration": 117,
        "start_time": "2023-05-05T17:50:24.974Z"
      },
      {
        "duration": 13,
        "start_time": "2023-05-05T17:50:25.093Z"
      },
      {
        "duration": 7,
        "start_time": "2023-05-05T17:50:25.110Z"
      },
      {
        "duration": 227,
        "start_time": "2023-05-05T17:50:25.120Z"
      },
      {
        "duration": 314,
        "start_time": "2023-05-05T17:50:25.349Z"
      },
      {
        "duration": 527,
        "start_time": "2023-05-05T17:50:25.665Z"
      },
      {
        "duration": 19,
        "start_time": "2023-05-05T17:50:26.194Z"
      },
      {
        "duration": 8,
        "start_time": "2023-05-05T17:50:26.215Z"
      },
      {
        "duration": 98,
        "start_time": "2023-05-05T17:50:26.225Z"
      },
      {
        "duration": 70,
        "start_time": "2023-05-05T17:50:27.633Z"
      },
      {
        "duration": 6,
        "start_time": "2023-05-05T17:50:28.139Z"
      },
      {
        "duration": 21,
        "start_time": "2023-05-05T17:50:30.163Z"
      },
      {
        "duration": 9,
        "start_time": "2023-05-05T17:50:31.936Z"
      },
      {
        "duration": 11,
        "start_time": "2023-05-05T17:50:32.550Z"
      },
      {
        "duration": 86,
        "start_time": "2023-05-05T17:50:41.043Z"
      },
      {
        "duration": 3,
        "start_time": "2023-05-05T17:50:59.350Z"
      },
      {
        "duration": 5,
        "start_time": "2023-05-05T17:50:59.355Z"
      },
      {
        "duration": 1592,
        "start_time": "2023-05-05T17:50:59.362Z"
      },
      {
        "duration": 171,
        "start_time": "2023-05-05T17:51:00.957Z"
      },
      {
        "duration": 15,
        "start_time": "2023-05-05T17:51:01.130Z"
      },
      {
        "duration": 1147,
        "start_time": "2023-05-05T17:51:01.147Z"
      },
      {
        "duration": 24,
        "start_time": "2023-05-05T17:51:02.296Z"
      },
      {
        "duration": 63,
        "start_time": "2023-05-05T17:51:02.322Z"
      },
      {
        "duration": 27,
        "start_time": "2023-05-05T17:51:02.387Z"
      },
      {
        "duration": 108,
        "start_time": "2023-05-05T17:51:02.416Z"
      },
      {
        "duration": 1553,
        "start_time": "2023-05-05T17:51:02.526Z"
      },
      {
        "duration": 200,
        "start_time": "2023-05-05T17:51:04.082Z"
      },
      {
        "duration": 13,
        "start_time": "2023-05-05T17:51:04.286Z"
      },
      {
        "duration": 7,
        "start_time": "2023-05-05T17:51:04.301Z"
      },
      {
        "duration": 253,
        "start_time": "2023-05-05T17:51:04.310Z"
      },
      {
        "duration": 479,
        "start_time": "2023-05-05T17:51:04.565Z"
      },
      {
        "duration": 440,
        "start_time": "2023-05-05T17:51:05.046Z"
      },
      {
        "duration": 22,
        "start_time": "2023-05-05T17:51:05.488Z"
      },
      {
        "duration": 10,
        "start_time": "2023-05-05T17:51:05.512Z"
      },
      {
        "duration": 131,
        "start_time": "2023-05-05T17:51:05.524Z"
      },
      {
        "duration": 7,
        "start_time": "2023-05-05T17:51:08.478Z"
      },
      {
        "duration": 6,
        "start_time": "2023-05-05T17:51:10.722Z"
      },
      {
        "duration": 4,
        "start_time": "2023-05-05T17:51:16.121Z"
      },
      {
        "duration": 5,
        "start_time": "2023-05-05T17:51:16.128Z"
      },
      {
        "duration": 1485,
        "start_time": "2023-05-05T17:51:16.136Z"
      },
      {
        "duration": 157,
        "start_time": "2023-05-05T17:51:17.623Z"
      },
      {
        "duration": 14,
        "start_time": "2023-05-05T17:51:17.785Z"
      },
      {
        "duration": 1096,
        "start_time": "2023-05-05T17:51:17.801Z"
      },
      {
        "duration": 23,
        "start_time": "2023-05-05T17:51:18.898Z"
      },
      {
        "duration": 46,
        "start_time": "2023-05-05T17:51:18.923Z"
      },
      {
        "duration": 34,
        "start_time": "2023-05-05T17:51:18.971Z"
      },
      {
        "duration": 88,
        "start_time": "2023-05-05T17:51:19.007Z"
      },
      {
        "duration": 1472,
        "start_time": "2023-05-05T17:51:19.097Z"
      },
      {
        "duration": 225,
        "start_time": "2023-05-05T17:51:20.571Z"
      },
      {
        "duration": 10,
        "start_time": "2023-05-05T17:51:20.798Z"
      },
      {
        "duration": 5,
        "start_time": "2023-05-05T17:51:20.810Z"
      },
      {
        "duration": 224,
        "start_time": "2023-05-05T17:51:20.816Z"
      },
      {
        "duration": 289,
        "start_time": "2023-05-05T17:51:21.042Z"
      },
      {
        "duration": 383,
        "start_time": "2023-05-05T17:51:21.334Z"
      },
      {
        "duration": 17,
        "start_time": "2023-05-05T17:51:21.719Z"
      },
      {
        "duration": 11,
        "start_time": "2023-05-05T17:51:30.788Z"
      },
      {
        "duration": 8,
        "start_time": "2023-05-05T17:51:33.657Z"
      },
      {
        "duration": 72,
        "start_time": "2023-05-05T17:51:36.106Z"
      },
      {
        "duration": 7,
        "start_time": "2023-05-05T17:51:37.148Z"
      },
      {
        "duration": 402,
        "start_time": "2023-05-05T17:51:43.753Z"
      },
      {
        "duration": 16,
        "start_time": "2023-05-05T17:52:04.561Z"
      },
      {
        "duration": 61,
        "start_time": "2023-05-05T17:52:06.565Z"
      },
      {
        "duration": 7,
        "start_time": "2023-05-05T17:52:07.640Z"
      },
      {
        "duration": 39,
        "start_time": "2023-05-05T17:52:58.011Z"
      },
      {
        "duration": 36,
        "start_time": "2023-05-05T17:53:12.900Z"
      },
      {
        "duration": 36,
        "start_time": "2023-05-05T17:53:39.857Z"
      },
      {
        "duration": 5,
        "start_time": "2023-05-05T17:53:45.359Z"
      },
      {
        "duration": 710,
        "start_time": "2023-05-05T17:53:56.320Z"
      },
      {
        "duration": 724,
        "start_time": "2023-05-05T17:54:02.498Z"
      },
      {
        "duration": 4,
        "start_time": "2023-05-05T17:54:06.599Z"
      },
      {
        "duration": 7,
        "start_time": "2023-05-05T17:54:06.605Z"
      },
      {
        "duration": 1508,
        "start_time": "2023-05-05T17:54:06.614Z"
      },
      {
        "duration": 169,
        "start_time": "2023-05-05T17:54:08.124Z"
      },
      {
        "duration": 21,
        "start_time": "2023-05-05T17:54:08.298Z"
      },
      {
        "duration": 1116,
        "start_time": "2023-05-05T17:54:08.321Z"
      },
      {
        "duration": 29,
        "start_time": "2023-05-05T17:54:09.439Z"
      },
      {
        "duration": 59,
        "start_time": "2023-05-05T17:54:09.470Z"
      },
      {
        "duration": 24,
        "start_time": "2023-05-05T17:54:09.531Z"
      },
      {
        "duration": 115,
        "start_time": "2023-05-05T17:54:09.558Z"
      },
      {
        "duration": 1630,
        "start_time": "2023-05-05T17:54:09.675Z"
      },
      {
        "duration": 121,
        "start_time": "2023-05-05T17:54:11.307Z"
      },
      {
        "duration": 9,
        "start_time": "2023-05-05T17:54:11.430Z"
      },
      {
        "duration": 5,
        "start_time": "2023-05-05T17:54:11.443Z"
      },
      {
        "duration": 227,
        "start_time": "2023-05-05T17:54:11.451Z"
      },
      {
        "duration": 308,
        "start_time": "2023-05-05T17:54:11.680Z"
      },
      {
        "duration": 401,
        "start_time": "2023-05-05T17:54:11.990Z"
      },
      {
        "duration": 18,
        "start_time": "2023-05-05T17:54:12.393Z"
      },
      {
        "duration": 8,
        "start_time": "2023-05-05T17:54:12.413Z"
      },
      {
        "duration": 107,
        "start_time": "2023-05-05T17:54:12.424Z"
      },
      {
        "duration": 6,
        "start_time": "2023-05-05T17:54:12.533Z"
      },
      {
        "duration": 25,
        "start_time": "2023-05-05T17:54:12.541Z"
      },
      {
        "duration": 37,
        "start_time": "2023-05-05T17:54:12.568Z"
      },
      {
        "duration": 5,
        "start_time": "2023-05-05T17:54:12.607Z"
      },
      {
        "duration": 45,
        "start_time": "2023-05-05T17:54:15.594Z"
      },
      {
        "duration": 37,
        "start_time": "2023-05-05T17:54:24.875Z"
      },
      {
        "duration": 39,
        "start_time": "2023-05-05T17:54:36.566Z"
      },
      {
        "duration": 5,
        "start_time": "2023-05-05T17:54:40.499Z"
      },
      {
        "duration": 6,
        "start_time": "2023-05-05T17:55:32.046Z"
      },
      {
        "duration": 6,
        "start_time": "2023-05-05T17:55:45.596Z"
      },
      {
        "duration": 4,
        "start_time": "2023-05-05T17:56:02.940Z"
      },
      {
        "duration": 81,
        "start_time": "2023-05-05T17:56:07.674Z"
      },
      {
        "duration": 53,
        "start_time": "2023-05-05T17:57:34.844Z"
      },
      {
        "duration": 39,
        "start_time": "2023-05-05T17:57:39.052Z"
      },
      {
        "duration": 6,
        "start_time": "2023-05-05T17:57:42.155Z"
      },
      {
        "duration": 240,
        "start_time": "2023-05-05T17:58:03.628Z"
      },
      {
        "duration": 876,
        "start_time": "2023-05-05T17:58:23.605Z"
      },
      {
        "duration": 17,
        "start_time": "2023-05-05T18:01:10.317Z"
      },
      {
        "duration": 600,
        "start_time": "2023-05-05T18:02:10.641Z"
      },
      {
        "duration": 4032,
        "start_time": "2023-05-05T18:04:03.678Z"
      },
      {
        "duration": 4056,
        "start_time": "2023-05-05T18:04:23.782Z"
      },
      {
        "duration": 4442,
        "start_time": "2023-05-05T18:04:50.760Z"
      },
      {
        "duration": 7025,
        "start_time": "2023-05-05T18:05:23.559Z"
      },
      {
        "duration": 16,
        "start_time": "2023-05-05T18:05:34.313Z"
      },
      {
        "duration": 87,
        "start_time": "2023-05-05T18:05:53.342Z"
      },
      {
        "duration": 127,
        "start_time": "2023-05-05T18:06:33.910Z"
      },
      {
        "duration": 11,
        "start_time": "2023-05-05T18:07:05.615Z"
      },
      {
        "duration": 63,
        "start_time": "2023-05-05T18:07:12.697Z"
      },
      {
        "duration": 11,
        "start_time": "2023-05-05T18:07:18.659Z"
      },
      {
        "duration": 16,
        "start_time": "2023-05-05T18:07:20.230Z"
      },
      {
        "duration": 14,
        "start_time": "2023-05-05T18:08:23.343Z"
      },
      {
        "duration": 141,
        "start_time": "2023-05-05T18:09:49.709Z"
      },
      {
        "duration": 22,
        "start_time": "2023-05-05T18:09:53.701Z"
      },
      {
        "duration": 172,
        "start_time": "2023-05-05T18:09:55.864Z"
      },
      {
        "duration": 17,
        "start_time": "2023-05-05T18:09:56.730Z"
      },
      {
        "duration": 41,
        "start_time": "2023-05-05T18:10:31.399Z"
      },
      {
        "duration": 15,
        "start_time": "2023-05-05T18:10:31.936Z"
      },
      {
        "duration": 79,
        "start_time": "2023-05-05T18:11:06.523Z"
      },
      {
        "duration": 3,
        "start_time": "2023-05-05T18:15:35.299Z"
      },
      {
        "duration": 4,
        "start_time": "2023-05-05T18:15:58.968Z"
      },
      {
        "duration": 1132,
        "start_time": "2023-05-05T18:17:03.994Z"
      },
      {
        "duration": 26,
        "start_time": "2023-05-05T18:17:38.809Z"
      },
      {
        "duration": 1136,
        "start_time": "2023-05-05T18:17:43.554Z"
      },
      {
        "duration": 51,
        "start_time": "2023-05-05T18:17:44.692Z"
      },
      {
        "duration": 216,
        "start_time": "2023-05-05T18:18:50.559Z"
      },
      {
        "duration": 11,
        "start_time": "2023-05-05T18:19:16.578Z"
      },
      {
        "duration": 4,
        "start_time": "2023-05-05T18:19:40.087Z"
      },
      {
        "duration": 13,
        "start_time": "2023-05-05T18:21:03.642Z"
      },
      {
        "duration": 3,
        "start_time": "2023-05-05T18:21:06.251Z"
      },
      {
        "duration": 24,
        "start_time": "2023-05-05T18:21:06.614Z"
      },
      {
        "duration": 434,
        "start_time": "2023-05-05T18:21:17.958Z"
      },
      {
        "duration": 14,
        "start_time": "2023-05-05T18:21:48.094Z"
      },
      {
        "duration": 44,
        "start_time": "2023-05-05T18:21:51.835Z"
      },
      {
        "duration": 7,
        "start_time": "2023-05-05T18:21:54.429Z"
      },
      {
        "duration": 6,
        "start_time": "2023-05-05T18:22:01.333Z"
      },
      {
        "duration": 2550,
        "start_time": "2023-05-05T18:22:54.135Z"
      },
      {
        "duration": 48,
        "start_time": "2023-05-05T18:30:03.928Z"
      },
      {
        "duration": 3502,
        "start_time": "2023-05-05T18:30:10.806Z"
      },
      {
        "duration": 50,
        "start_time": "2023-05-05T18:30:15.060Z"
      },
      {
        "duration": 15,
        "start_time": "2023-05-05T18:30:38.846Z"
      },
      {
        "duration": 3668,
        "start_time": "2023-05-05T18:30:38.919Z"
      },
      {
        "duration": 78,
        "start_time": "2023-05-05T18:30:44.707Z"
      },
      {
        "duration": 18,
        "start_time": "2023-05-05T18:30:59.475Z"
      },
      {
        "duration": 77,
        "start_time": "2023-05-05T18:31:08.076Z"
      },
      {
        "duration": 21,
        "start_time": "2023-05-05T18:31:59.150Z"
      },
      {
        "duration": 20,
        "start_time": "2023-05-05T18:32:17.545Z"
      },
      {
        "duration": 21,
        "start_time": "2023-05-05T18:32:18.002Z"
      },
      {
        "duration": 3,
        "start_time": "2023-05-05T18:32:18.195Z"
      },
      {
        "duration": 1110,
        "start_time": "2023-05-05T18:32:18.378Z"
      },
      {
        "duration": 63,
        "start_time": "2023-05-05T18:32:19.490Z"
      },
      {
        "duration": 233,
        "start_time": "2023-05-05T18:32:19.555Z"
      },
      {
        "duration": 7,
        "start_time": "2023-05-05T18:32:19.792Z"
      },
      {
        "duration": 411,
        "start_time": "2023-05-05T18:32:19.802Z"
      },
      {
        "duration": 5,
        "start_time": "2023-05-05T18:32:20.215Z"
      },
      {
        "duration": 24,
        "start_time": "2023-05-05T18:32:20.221Z"
      },
      {
        "duration": 15,
        "start_time": "2023-05-05T18:32:20.737Z"
      },
      {
        "duration": 28,
        "start_time": "2023-05-05T18:32:27.586Z"
      },
      {
        "duration": 5,
        "start_time": "2023-05-05T18:32:42.452Z"
      },
      {
        "duration": 7,
        "start_time": "2023-05-05T18:32:42.459Z"
      },
      {
        "duration": 1741,
        "start_time": "2023-05-05T18:32:42.468Z"
      },
      {
        "duration": 189,
        "start_time": "2023-05-05T18:32:44.211Z"
      },
      {
        "duration": 15,
        "start_time": "2023-05-05T18:32:44.403Z"
      },
      {
        "duration": 1286,
        "start_time": "2023-05-05T18:32:44.420Z"
      },
      {
        "duration": 26,
        "start_time": "2023-05-05T18:32:45.708Z"
      },
      {
        "duration": 73,
        "start_time": "2023-05-05T18:32:45.736Z"
      },
      {
        "duration": 24,
        "start_time": "2023-05-05T18:32:45.811Z"
      },
      {
        "duration": 108,
        "start_time": "2023-05-05T18:32:45.838Z"
      },
      {
        "duration": 1761,
        "start_time": "2023-05-05T18:32:45.949Z"
      },
      {
        "duration": 153,
        "start_time": "2023-05-05T18:32:47.713Z"
      },
      {
        "duration": 20,
        "start_time": "2023-05-05T18:32:47.869Z"
      },
      {
        "duration": 6,
        "start_time": "2023-05-05T18:32:47.894Z"
      },
      {
        "duration": 232,
        "start_time": "2023-05-05T18:32:47.903Z"
      },
      {
        "duration": 379,
        "start_time": "2023-05-05T18:32:48.137Z"
      },
      {
        "duration": 545,
        "start_time": "2023-05-05T18:32:48.519Z"
      },
      {
        "duration": 28,
        "start_time": "2023-05-05T18:32:49.066Z"
      },
      {
        "duration": 9,
        "start_time": "2023-05-05T18:32:49.096Z"
      },
      {
        "duration": 93,
        "start_time": "2023-05-05T18:32:49.107Z"
      },
      {
        "duration": 6,
        "start_time": "2023-05-05T18:32:49.202Z"
      },
      {
        "duration": 32,
        "start_time": "2023-05-05T18:32:49.211Z"
      },
      {
        "duration": 49,
        "start_time": "2023-05-05T18:32:49.245Z"
      },
      {
        "duration": 5,
        "start_time": "2023-05-05T18:32:49.297Z"
      },
      {
        "duration": 8,
        "start_time": "2023-05-05T18:32:49.304Z"
      },
      {
        "duration": 50,
        "start_time": "2023-05-05T18:32:49.314Z"
      },
      {
        "duration": 20,
        "start_time": "2023-05-05T18:32:49.366Z"
      },
      {
        "duration": 432,
        "start_time": "2023-05-05T18:32:49.388Z"
      },
      {
        "duration": 835,
        "start_time": "2023-05-05T18:32:49.822Z"
      },
      {
        "duration": 555,
        "start_time": "2023-05-05T18:32:50.659Z"
      },
      {
        "duration": 672,
        "start_time": "2023-05-05T18:32:52.337Z"
      },
      {
        "duration": 7755,
        "start_time": "2023-05-05T18:32:53.011Z"
      },
      {
        "duration": 147,
        "start_time": "2023-05-05T18:33:00.769Z"
      },
      {
        "duration": 110,
        "start_time": "2023-05-05T18:33:00.919Z"
      },
      {
        "duration": 17,
        "start_time": "2023-05-05T18:33:01.031Z"
      },
      {
        "duration": 36,
        "start_time": "2023-05-05T18:33:01.051Z"
      },
      {
        "duration": 31,
        "start_time": "2023-05-05T18:33:01.089Z"
      },
      {
        "duration": 32,
        "start_time": "2023-05-05T18:33:01.123Z"
      },
      {
        "duration": 1214,
        "start_time": "2023-05-05T18:33:01.158Z"
      },
      {
        "duration": 65,
        "start_time": "2023-05-05T18:33:02.376Z"
      },
      {
        "duration": 225,
        "start_time": "2023-05-05T18:33:02.449Z"
      },
      {
        "duration": 3,
        "start_time": "2023-05-05T18:33:05.341Z"
      },
      {
        "duration": 333,
        "start_time": "2023-05-05T18:33:05.676Z"
      },
      {
        "duration": 4,
        "start_time": "2023-05-05T18:33:06.575Z"
      },
      {
        "duration": 14,
        "start_time": "2023-05-05T18:33:09.384Z"
      },
      {
        "duration": 81,
        "start_time": "2023-05-05T18:33:16.080Z"
      },
      {
        "duration": 4,
        "start_time": "2023-05-05T18:33:46.848Z"
      },
      {
        "duration": 33,
        "start_time": "2023-05-05T18:33:59.687Z"
      },
      {
        "duration": 317,
        "start_time": "2023-05-05T18:34:50.491Z"
      },
      {
        "duration": 21,
        "start_time": "2023-05-05T18:34:52.972Z"
      },
      {
        "duration": 5,
        "start_time": "2023-05-05T18:39:48.632Z"
      },
      {
        "duration": 13,
        "start_time": "2023-05-05T18:40:54.970Z"
      },
      {
        "duration": 7,
        "start_time": "2023-05-05T18:40:59.674Z"
      },
      {
        "duration": 8,
        "start_time": "2023-05-05T18:41:03.145Z"
      },
      {
        "duration": 13,
        "start_time": "2023-05-05T18:42:14.524Z"
      },
      {
        "duration": 4,
        "start_time": "2023-05-05T18:42:17.070Z"
      },
      {
        "duration": 20,
        "start_time": "2023-05-05T18:43:36.923Z"
      },
      {
        "duration": 18,
        "start_time": "2023-05-05T18:44:17.734Z"
      },
      {
        "duration": 5,
        "start_time": "2023-05-05T18:44:25.496Z"
      },
      {
        "duration": 5,
        "start_time": "2023-05-05T18:44:38.925Z"
      },
      {
        "duration": 9,
        "start_time": "2023-05-05T18:44:48.687Z"
      },
      {
        "duration": 47,
        "start_time": "2023-05-05T18:45:08.242Z"
      },
      {
        "duration": 46,
        "start_time": "2023-05-05T18:45:11.694Z"
      },
      {
        "duration": 9,
        "start_time": "2023-05-05T18:45:13.288Z"
      },
      {
        "duration": 8,
        "start_time": "2023-05-05T18:45:24.533Z"
      },
      {
        "duration": 11,
        "start_time": "2023-05-05T18:45:39.858Z"
      },
      {
        "duration": 9,
        "start_time": "2023-05-05T18:45:48.074Z"
      },
      {
        "duration": 7,
        "start_time": "2023-05-05T18:46:42.588Z"
      },
      {
        "duration": 12,
        "start_time": "2023-05-05T18:47:09.940Z"
      },
      {
        "duration": 104,
        "start_time": "2023-05-05T18:48:43.404Z"
      },
      {
        "duration": 54,
        "start_time": "2023-05-05T18:48:45.908Z"
      },
      {
        "duration": 1584,
        "start_time": "2023-05-05T18:48:50.874Z"
      },
      {
        "duration": 6,
        "start_time": "2023-05-05T18:48:52.461Z"
      },
      {
        "duration": 2259,
        "start_time": "2023-05-05T18:48:52.470Z"
      },
      {
        "duration": 229,
        "start_time": "2023-05-05T18:48:54.733Z"
      },
      {
        "duration": 15,
        "start_time": "2023-05-05T18:48:54.963Z"
      },
      {
        "duration": 1181,
        "start_time": "2023-05-05T18:48:54.986Z"
      },
      {
        "duration": 33,
        "start_time": "2023-05-05T18:48:56.169Z"
      },
      {
        "duration": 104,
        "start_time": "2023-05-05T18:48:56.204Z"
      },
      {
        "duration": 32,
        "start_time": "2023-05-05T18:48:56.311Z"
      },
      {
        "duration": 111,
        "start_time": "2023-05-05T18:48:56.346Z"
      },
      {
        "duration": 1797,
        "start_time": "2023-05-05T18:48:56.459Z"
      },
      {
        "duration": 145,
        "start_time": "2023-05-05T18:48:58.259Z"
      },
      {
        "duration": 10,
        "start_time": "2023-05-05T18:48:58.407Z"
      },
      {
        "duration": 6,
        "start_time": "2023-05-05T18:48:58.420Z"
      },
      {
        "duration": 243,
        "start_time": "2023-05-05T18:48:58.428Z"
      },
      {
        "duration": 342,
        "start_time": "2023-05-05T18:48:58.673Z"
      },
      {
        "duration": 428,
        "start_time": "2023-05-05T18:48:59.016Z"
      },
      {
        "duration": 19,
        "start_time": "2023-05-05T18:48:59.446Z"
      },
      {
        "duration": 22,
        "start_time": "2023-05-05T18:48:59.468Z"
      },
      {
        "duration": 105,
        "start_time": "2023-05-05T18:48:59.493Z"
      },
      {
        "duration": 15,
        "start_time": "2023-05-05T18:48:59.601Z"
      },
      {
        "duration": 26,
        "start_time": "2023-05-05T18:48:59.618Z"
      },
      {
        "duration": 47,
        "start_time": "2023-05-05T18:48:59.646Z"
      },
      {
        "duration": 6,
        "start_time": "2023-05-05T18:48:59.696Z"
      },
      {
        "duration": 18,
        "start_time": "2023-05-05T18:48:59.705Z"
      },
      {
        "duration": 47,
        "start_time": "2023-05-05T18:48:59.725Z"
      },
      {
        "duration": 14,
        "start_time": "2023-05-05T18:48:59.773Z"
      },
      {
        "duration": 278,
        "start_time": "2023-05-05T18:48:59.792Z"
      },
      {
        "duration": 1103,
        "start_time": "2023-05-05T18:49:00.072Z"
      },
      {
        "duration": 506,
        "start_time": "2023-05-05T18:49:01.177Z"
      },
      {
        "duration": 6896,
        "start_time": "2023-05-05T18:49:01.686Z"
      },
      {
        "duration": 113,
        "start_time": "2023-05-05T18:49:08.583Z"
      },
      {
        "duration": 76,
        "start_time": "2023-05-05T18:49:08.698Z"
      },
      {
        "duration": 19,
        "start_time": "2023-05-05T18:49:08.785Z"
      },
      {
        "duration": 33,
        "start_time": "2023-05-05T18:49:08.806Z"
      },
      {
        "duration": 16,
        "start_time": "2023-05-05T18:49:08.842Z"
      },
      {
        "duration": 25,
        "start_time": "2023-05-05T18:49:08.860Z"
      },
      {
        "duration": 1078,
        "start_time": "2023-05-05T18:49:08.888Z"
      },
      {
        "duration": 52,
        "start_time": "2023-05-05T18:49:09.968Z"
      },
      {
        "duration": 219,
        "start_time": "2023-05-05T18:49:10.022Z"
      },
      {
        "duration": 3,
        "start_time": "2023-05-05T18:49:10.242Z"
      },
      {
        "duration": 338,
        "start_time": "2023-05-05T18:49:10.246Z"
      },
      {
        "duration": 4,
        "start_time": "2023-05-05T18:49:10.586Z"
      },
      {
        "duration": 4,
        "start_time": "2023-05-05T18:49:10.592Z"
      },
      {
        "duration": 332,
        "start_time": "2023-05-05T18:49:10.598Z"
      },
      {
        "duration": 19,
        "start_time": "2023-05-05T18:49:10.931Z"
      },
      {
        "duration": 6,
        "start_time": "2023-05-05T18:49:10.952Z"
      },
      {
        "duration": 35538,
        "start_time": "2023-05-05T18:49:10.961Z"
      },
      {
        "duration": 7,
        "start_time": "2023-05-05T18:49:46.503Z"
      },
      {
        "duration": 42091,
        "start_time": "2023-05-05T18:51:24.411Z"
      },
      {
        "duration": 42954,
        "start_time": "2023-05-05T18:52:52.537Z"
      },
      {
        "duration": 41854,
        "start_time": "2023-05-05T19:00:00.935Z"
      },
      {
        "duration": 5,
        "start_time": "2023-05-05T19:00:42.791Z"
      },
      {
        "duration": 136080,
        "start_time": "2023-05-05T19:03:56.506Z"
      },
      {
        "duration": 12,
        "start_time": "2023-05-05T19:06:30.686Z"
      },
      {
        "duration": 5,
        "start_time": "2023-05-05T19:06:51.904Z"
      },
      {
        "duration": 4,
        "start_time": "2023-05-05T19:06:59.300Z"
      },
      {
        "duration": 11,
        "start_time": "2023-05-05T19:16:06.700Z"
      },
      {
        "duration": 17,
        "start_time": "2023-05-05T19:16:10.198Z"
      },
      {
        "duration": 4,
        "start_time": "2023-05-05T19:17:57.684Z"
      },
      {
        "duration": 10,
        "start_time": "2023-05-05T19:19:45.485Z"
      },
      {
        "duration": 370199,
        "start_time": "2023-05-05T19:20:32.991Z"
      },
      {
        "duration": 9,
        "start_time": "2023-05-05T19:29:12.504Z"
      },
      {
        "duration": 861,
        "start_time": "2023-05-05T19:29:16.224Z"
      },
      {
        "duration": 828,
        "start_time": "2023-05-05T19:30:13.699Z"
      },
      {
        "duration": 824,
        "start_time": "2023-05-05T19:31:53.404Z"
      },
      {
        "duration": 4,
        "start_time": "2023-05-05T19:33:15.372Z"
      },
      {
        "duration": 78464,
        "start_time": "2023-05-05T19:35:05.658Z"
      },
      {
        "duration": 174,
        "start_time": "2023-05-05T19:37:10.012Z"
      },
      {
        "duration": 145453,
        "start_time": "2023-05-05T19:38:08.434Z"
      },
      {
        "duration": 31886,
        "start_time": "2023-05-05T19:40:56.702Z"
      },
      {
        "duration": 170,
        "start_time": "2023-05-05T19:42:10.724Z"
      },
      {
        "duration": 155,
        "start_time": "2023-05-05T19:42:14.732Z"
      },
      {
        "duration": 5,
        "start_time": "2023-05-05T19:46:23.221Z"
      },
      {
        "duration": 50,
        "start_time": "2023-05-05T19:56:22.634Z"
      },
      {
        "duration": 61,
        "start_time": "2023-05-05T20:04:29.144Z"
      },
      {
        "duration": 51,
        "start_time": "2023-05-05T20:04:45.301Z"
      },
      {
        "duration": 49,
        "start_time": "2023-05-05T20:09:17.946Z"
      },
      {
        "duration": 45,
        "start_time": "2023-05-05T20:30:12.307Z"
      },
      {
        "duration": 1714,
        "start_time": "2023-05-06T16:05:53.167Z"
      },
      {
        "duration": 6,
        "start_time": "2023-05-06T16:05:54.883Z"
      },
      {
        "duration": 1844,
        "start_time": "2023-05-06T16:05:54.891Z"
      },
      {
        "duration": 215,
        "start_time": "2023-05-06T16:05:56.737Z"
      },
      {
        "duration": 1110,
        "start_time": "2023-05-06T16:05:56.954Z"
      },
      {
        "duration": 37,
        "start_time": "2023-05-06T16:05:58.066Z"
      },
      {
        "duration": 57,
        "start_time": "2023-05-06T16:05:58.104Z"
      },
      {
        "duration": 28,
        "start_time": "2023-05-06T16:05:58.163Z"
      },
      {
        "duration": 70,
        "start_time": "2023-05-06T16:05:58.192Z"
      },
      {
        "duration": 1766,
        "start_time": "2023-05-06T16:05:58.264Z"
      },
      {
        "duration": 124,
        "start_time": "2023-05-06T16:06:00.031Z"
      },
      {
        "duration": 4,
        "start_time": "2023-05-06T16:07:39.822Z"
      },
      {
        "duration": 14,
        "start_time": "2023-05-06T16:07:39.828Z"
      },
      {
        "duration": 1577,
        "start_time": "2023-05-06T16:07:39.843Z"
      },
      {
        "duration": 165,
        "start_time": "2023-05-06T16:07:41.423Z"
      },
      {
        "duration": 1078,
        "start_time": "2023-05-06T16:07:41.590Z"
      },
      {
        "duration": 42,
        "start_time": "2023-05-06T16:07:42.670Z"
      },
      {
        "duration": 53,
        "start_time": "2023-05-06T16:07:42.714Z"
      },
      {
        "duration": 29,
        "start_time": "2023-05-06T16:07:42.768Z"
      },
      {
        "duration": 77,
        "start_time": "2023-05-06T16:07:42.799Z"
      },
      {
        "duration": 1686,
        "start_time": "2023-05-06T16:07:42.877Z"
      },
      {
        "duration": 113,
        "start_time": "2023-05-06T16:07:44.565Z"
      },
      {
        "duration": 10,
        "start_time": "2023-05-06T16:07:44.688Z"
      },
      {
        "duration": 10,
        "start_time": "2023-05-06T16:07:44.700Z"
      },
      {
        "duration": 223,
        "start_time": "2023-05-06T16:07:44.711Z"
      },
      {
        "duration": 334,
        "start_time": "2023-05-06T16:07:44.936Z"
      },
      {
        "duration": 396,
        "start_time": "2023-05-06T16:07:45.271Z"
      },
      {
        "duration": 22,
        "start_time": "2023-05-06T16:07:45.668Z"
      },
      {
        "duration": 7,
        "start_time": "2023-05-06T16:07:45.692Z"
      },
      {
        "duration": 89,
        "start_time": "2023-05-06T16:07:45.700Z"
      },
      {
        "duration": 7,
        "start_time": "2023-05-06T16:07:45.791Z"
      },
      {
        "duration": 37,
        "start_time": "2023-05-06T16:07:45.799Z"
      },
      {
        "duration": 23,
        "start_time": "2023-05-06T16:07:45.838Z"
      },
      {
        "duration": 4,
        "start_time": "2023-05-06T16:07:45.863Z"
      },
      {
        "duration": 25,
        "start_time": "2023-05-06T16:07:45.870Z"
      },
      {
        "duration": 56,
        "start_time": "2023-05-06T16:07:45.896Z"
      },
      {
        "duration": 5,
        "start_time": "2023-05-06T16:07:45.954Z"
      },
      {
        "duration": 273,
        "start_time": "2023-05-06T16:07:45.961Z"
      },
      {
        "duration": 789,
        "start_time": "2023-05-06T16:07:46.235Z"
      },
      {
        "duration": 577,
        "start_time": "2023-05-06T16:07:47.026Z"
      },
      {
        "duration": 7213,
        "start_time": "2023-05-06T16:07:47.605Z"
      },
      {
        "duration": 111,
        "start_time": "2023-05-06T16:07:54.820Z"
      },
      {
        "duration": 82,
        "start_time": "2023-05-06T16:07:54.933Z"
      },
      {
        "duration": 18,
        "start_time": "2023-05-06T16:07:55.017Z"
      },
      {
        "duration": 21,
        "start_time": "2023-05-06T16:07:55.037Z"
      },
      {
        "duration": 16,
        "start_time": "2023-05-06T16:08:04.042Z"
      },
      {
        "duration": 3,
        "start_time": "2023-05-06T16:08:08.004Z"
      },
      {
        "duration": 1160,
        "start_time": "2023-05-06T16:08:08.514Z"
      },
      {
        "duration": 6,
        "start_time": "2023-05-06T16:47:26.051Z"
      },
      {
        "duration": 4,
        "start_time": "2023-05-06T16:47:26.059Z"
      },
      {
        "duration": 1744,
        "start_time": "2023-05-06T16:47:26.065Z"
      },
      {
        "duration": 206,
        "start_time": "2023-05-06T16:47:27.812Z"
      },
      {
        "duration": 1166,
        "start_time": "2023-05-06T16:47:28.019Z"
      },
      {
        "duration": 48,
        "start_time": "2023-05-06T16:47:29.187Z"
      },
      {
        "duration": 75,
        "start_time": "2023-05-06T16:47:29.237Z"
      },
      {
        "duration": 32,
        "start_time": "2023-05-06T16:47:29.314Z"
      },
      {
        "duration": 110,
        "start_time": "2023-05-06T16:47:29.348Z"
      },
      {
        "duration": 1763,
        "start_time": "2023-05-06T16:47:29.460Z"
      },
      {
        "duration": 124,
        "start_time": "2023-05-06T16:47:31.225Z"
      },
      {
        "duration": 11,
        "start_time": "2023-05-06T16:47:31.351Z"
      },
      {
        "duration": 30,
        "start_time": "2023-05-06T16:47:31.364Z"
      },
      {
        "duration": 243,
        "start_time": "2023-05-06T16:47:31.395Z"
      },
      {
        "duration": 529,
        "start_time": "2023-05-06T16:47:31.640Z"
      },
      {
        "duration": 504,
        "start_time": "2023-05-06T16:47:32.171Z"
      },
      {
        "duration": 27,
        "start_time": "2023-05-06T16:47:32.677Z"
      },
      {
        "duration": 8,
        "start_time": "2023-05-06T16:47:32.706Z"
      },
      {
        "duration": 95,
        "start_time": "2023-05-06T16:47:32.717Z"
      },
      {
        "duration": 5,
        "start_time": "2023-05-06T16:47:32.814Z"
      },
      {
        "duration": 21,
        "start_time": "2023-05-06T16:47:32.821Z"
      },
      {
        "duration": 49,
        "start_time": "2023-05-06T16:47:32.844Z"
      },
      {
        "duration": 5,
        "start_time": "2023-05-06T16:47:32.895Z"
      },
      {
        "duration": 16,
        "start_time": "2023-05-06T16:47:32.902Z"
      },
      {
        "duration": 62,
        "start_time": "2023-05-06T16:47:32.920Z"
      },
      {
        "duration": 12,
        "start_time": "2023-05-06T16:47:32.984Z"
      },
      {
        "duration": 284,
        "start_time": "2023-05-06T16:47:33.001Z"
      },
      {
        "duration": 859,
        "start_time": "2023-05-06T16:47:33.287Z"
      },
      {
        "duration": 501,
        "start_time": "2023-05-06T16:47:34.148Z"
      },
      {
        "duration": 7556,
        "start_time": "2023-05-06T16:47:34.652Z"
      },
      {
        "duration": 92,
        "start_time": "2023-05-06T16:47:42.209Z"
      },
      {
        "duration": 54,
        "start_time": "2023-05-06T16:47:42.303Z"
      },
      {
        "duration": 29,
        "start_time": "2023-05-06T16:47:42.360Z"
      },
      {
        "duration": 17,
        "start_time": "2023-05-06T16:47:42.391Z"
      },
      {
        "duration": 19,
        "start_time": "2023-05-06T16:47:42.411Z"
      },
      {
        "duration": 42,
        "start_time": "2023-05-06T16:47:42.433Z"
      },
      {
        "duration": 3,
        "start_time": "2023-05-06T16:47:44.354Z"
      },
      {
        "duration": 133,
        "start_time": "2023-05-06T16:47:45.827Z"
      },
      {
        "duration": 5,
        "start_time": "2023-05-06T16:48:22.575Z"
      },
      {
        "duration": 1042,
        "start_time": "2023-05-06T16:51:22.249Z"
      },
      {
        "duration": 140,
        "start_time": "2023-05-06T16:54:28.049Z"
      },
      {
        "duration": 5,
        "start_time": "2023-05-06T16:54:42.027Z"
      },
      {
        "duration": 6,
        "start_time": "2023-05-06T16:54:48.757Z"
      },
      {
        "duration": 5,
        "start_time": "2023-05-06T16:54:55.735Z"
      },
      {
        "duration": 199,
        "start_time": "2023-05-06T16:55:51.990Z"
      },
      {
        "duration": 23,
        "start_time": "2023-05-06T16:55:59.982Z"
      },
      {
        "duration": 16,
        "start_time": "2023-05-06T16:56:07.854Z"
      },
      {
        "duration": 14,
        "start_time": "2023-05-06T16:56:51.818Z"
      },
      {
        "duration": 3,
        "start_time": "2023-05-06T16:57:03.638Z"
      },
      {
        "duration": 57,
        "start_time": "2023-05-06T16:57:51.906Z"
      },
      {
        "duration": 44,
        "start_time": "2023-05-06T16:57:59.341Z"
      },
      {
        "duration": 4,
        "start_time": "2023-05-06T16:58:24.834Z"
      },
      {
        "duration": 3,
        "start_time": "2023-05-06T16:58:30.286Z"
      },
      {
        "duration": 3,
        "start_time": "2023-05-06T16:58:46.710Z"
      },
      {
        "duration": 323,
        "start_time": "2023-05-06T16:58:48.730Z"
      },
      {
        "duration": 15,
        "start_time": "2023-05-06T16:58:49.597Z"
      },
      {
        "duration": 321,
        "start_time": "2023-05-06T16:59:06.190Z"
      },
      {
        "duration": 18,
        "start_time": "2023-05-06T16:59:07.043Z"
      },
      {
        "duration": 15,
        "start_time": "2023-05-06T16:59:25.030Z"
      },
      {
        "duration": 3,
        "start_time": "2023-05-06T17:00:01.843Z"
      },
      {
        "duration": 230,
        "start_time": "2023-05-06T17:00:03.193Z"
      },
      {
        "duration": 4,
        "start_time": "2023-05-06T17:00:06.907Z"
      },
      {
        "duration": 381,
        "start_time": "2023-05-06T17:00:07.373Z"
      },
      {
        "duration": 15,
        "start_time": "2023-05-06T17:00:07.824Z"
      },
      {
        "duration": 22,
        "start_time": "2023-05-06T17:00:15.104Z"
      },
      {
        "duration": 3,
        "start_time": "2023-05-06T17:00:15.570Z"
      },
      {
        "duration": 100,
        "start_time": "2023-05-06T17:00:15.745Z"
      },
      {
        "duration": 5,
        "start_time": "2023-05-06T17:00:15.924Z"
      },
      {
        "duration": 1030,
        "start_time": "2023-05-06T17:00:17.013Z"
      },
      {
        "duration": 3,
        "start_time": "2023-05-06T17:00:22.910Z"
      },
      {
        "duration": 389,
        "start_time": "2023-05-06T17:00:23.114Z"
      },
      {
        "duration": 19,
        "start_time": "2023-05-06T17:00:23.505Z"
      },
      {
        "duration": 7,
        "start_time": "2023-05-06T17:00:29.414Z"
      },
      {
        "duration": 32611,
        "start_time": "2023-05-06T17:00:33.193Z"
      },
      {
        "duration": 151,
        "start_time": "2023-05-06T17:02:08.122Z"
      },
      {
        "duration": 22,
        "start_time": "2023-05-06T17:02:39.184Z"
      },
      {
        "duration": 19,
        "start_time": "2023-05-06T17:02:41.308Z"
      },
      {
        "duration": 20,
        "start_time": "2023-05-06T17:02:54.412Z"
      },
      {
        "duration": 22,
        "start_time": "2023-05-06T17:03:16.798Z"
      },
      {
        "duration": 3,
        "start_time": "2023-05-06T17:03:17.267Z"
      },
      {
        "duration": 99,
        "start_time": "2023-05-06T17:03:17.578Z"
      },
      {
        "duration": 4,
        "start_time": "2023-05-06T17:03:20.061Z"
      },
      {
        "duration": 37,
        "start_time": "2023-05-06T17:03:22.744Z"
      },
      {
        "duration": 85,
        "start_time": "2023-05-06T17:03:41.353Z"
      },
      {
        "duration": 919,
        "start_time": "2023-05-06T17:03:47.874Z"
      },
      {
        "duration": 16,
        "start_time": "2023-05-06T17:03:54.470Z"
      },
      {
        "duration": 17,
        "start_time": "2023-05-06T17:03:59.638Z"
      },
      {
        "duration": 210,
        "start_time": "2023-05-06T17:04:14.610Z"
      },
      {
        "duration": 3,
        "start_time": "2023-05-06T17:04:15.702Z"
      },
      {
        "duration": 3,
        "start_time": "2023-05-06T17:04:23.367Z"
      },
      {
        "duration": 307,
        "start_time": "2023-05-06T17:04:26.534Z"
      },
      {
        "duration": 15,
        "start_time": "2023-05-06T17:04:28.266Z"
      },
      {
        "duration": 24,
        "start_time": "2023-05-06T17:04:41.173Z"
      },
      {
        "duration": 6,
        "start_time": "2023-05-06T17:04:45.866Z"
      },
      {
        "duration": 7,
        "start_time": "2023-05-06T17:04:50.278Z"
      },
      {
        "duration": 7,
        "start_time": "2023-05-06T17:05:23.313Z"
      },
      {
        "duration": 33974,
        "start_time": "2023-05-06T17:05:28.325Z"
      },
      {
        "duration": 106961,
        "start_time": "2023-05-06T17:12:46.740Z"
      },
      {
        "duration": 126660,
        "start_time": "2023-05-06T17:15:07.438Z"
      },
      {
        "duration": 416,
        "start_time": "2023-05-06T17:18:18.777Z"
      },
      {
        "duration": 5,
        "start_time": "2023-05-06T17:18:43.366Z"
      },
      {
        "duration": 4,
        "start_time": "2023-05-06T17:22:02.429Z"
      },
      {
        "duration": 3,
        "start_time": "2023-05-06T17:23:49.830Z"
      },
      {
        "duration": 4,
        "start_time": "2023-05-06T17:26:21.447Z"
      },
      {
        "duration": 5,
        "start_time": "2023-05-06T17:26:23.953Z"
      },
      {
        "duration": 4,
        "start_time": "2023-05-06T17:27:40.652Z"
      },
      {
        "duration": 5,
        "start_time": "2023-05-06T17:27:48.502Z"
      },
      {
        "duration": 14,
        "start_time": "2023-05-06T17:34:07.970Z"
      },
      {
        "duration": 3,
        "start_time": "2023-05-06T17:34:16.665Z"
      },
      {
        "duration": 7,
        "start_time": "2023-05-06T17:34:56.418Z"
      },
      {
        "duration": 3,
        "start_time": "2023-05-06T17:35:00.110Z"
      },
      {
        "duration": 4,
        "start_time": "2023-05-06T17:35:10.553Z"
      },
      {
        "duration": 4,
        "start_time": "2023-05-06T17:35:36.053Z"
      },
      {
        "duration": 5,
        "start_time": "2023-05-06T17:35:55.116Z"
      },
      {
        "duration": 58,
        "start_time": "2023-05-06T17:37:19.586Z"
      },
      {
        "duration": 33361,
        "start_time": "2023-05-06T17:43:19.707Z"
      },
      {
        "duration": 5,
        "start_time": "2023-05-06T17:43:53.072Z"
      },
      {
        "duration": 11675,
        "start_time": "2023-05-06T17:43:59.834Z"
      },
      {
        "duration": 7044,
        "start_time": "2023-05-06T17:44:28.966Z"
      },
      {
        "duration": 642510,
        "start_time": "2023-05-06T17:44:40.797Z"
      },
      {
        "duration": 13,
        "start_time": "2023-05-06T17:58:26.770Z"
      },
      {
        "duration": 9,
        "start_time": "2023-05-06T17:58:36.782Z"
      },
      {
        "duration": 13,
        "start_time": "2023-05-06T17:58:43.834Z"
      },
      {
        "duration": 4,
        "start_time": "2023-05-06T17:59:02.709Z"
      },
      {
        "duration": 5,
        "start_time": "2023-05-06T17:59:14.930Z"
      },
      {
        "duration": 4,
        "start_time": "2023-05-06T17:59:27.031Z"
      },
      {
        "duration": 68,
        "start_time": "2023-05-06T18:00:20.498Z"
      },
      {
        "duration": 2237,
        "start_time": "2023-05-06T18:00:31.103Z"
      },
      {
        "duration": 2234,
        "start_time": "2023-05-06T18:00:36.075Z"
      },
      {
        "duration": 8932491,
        "start_time": "2023-05-06T18:08:02.184Z"
      },
      {
        "duration": 49,
        "start_time": "2023-05-06T20:39:13.606Z"
      },
      {
        "duration": 6,
        "start_time": "2023-05-06T20:39:49.744Z"
      },
      {
        "duration": 198770,
        "start_time": "2023-05-06T20:43:18.233Z"
      },
      {
        "duration": 409,
        "start_time": "2023-05-06T20:47:07.186Z"
      },
      {
        "duration": 60,
        "start_time": "2023-05-06T20:47:32.254Z"
      },
      {
        "duration": 826,
        "start_time": "2023-05-06T20:48:36.790Z"
      },
      {
        "duration": 784,
        "start_time": "2023-05-06T20:49:44.951Z"
      },
      {
        "duration": 720,
        "start_time": "2023-05-06T20:49:51.816Z"
      },
      {
        "duration": 18,
        "start_time": "2023-05-06T20:54:59.267Z"
      },
      {
        "duration": 6,
        "start_time": "2023-05-06T20:55:03.843Z"
      },
      {
        "duration": 15,
        "start_time": "2023-05-06T20:55:08.582Z"
      },
      {
        "duration": 12,
        "start_time": "2023-05-06T20:55:56.594Z"
      },
      {
        "duration": 13,
        "start_time": "2023-05-06T20:56:05.629Z"
      },
      {
        "duration": 15,
        "start_time": "2023-05-06T20:57:13.548Z"
      },
      {
        "duration": 12,
        "start_time": "2023-05-06T20:57:23.031Z"
      },
      {
        "duration": 12,
        "start_time": "2023-05-06T20:57:55.566Z"
      },
      {
        "duration": 15,
        "start_time": "2023-05-06T20:58:15.643Z"
      },
      {
        "duration": 17,
        "start_time": "2023-05-06T20:58:47.597Z"
      },
      {
        "duration": 13,
        "start_time": "2023-05-06T20:59:19.371Z"
      },
      {
        "duration": 16216,
        "start_time": "2023-05-06T21:00:07.238Z"
      },
      {
        "duration": 13,
        "start_time": "2023-05-06T21:00:58.674Z"
      },
      {
        "duration": 17,
        "start_time": "2023-05-06T21:01:07.121Z"
      },
      {
        "duration": 18,
        "start_time": "2023-05-06T21:01:33.276Z"
      }
    ],
    "kernelspec": {
      "display_name": "Python 3 (ipykernel)",
      "language": "python",
      "name": "python3"
    },
    "language_info": {
      "codemirror_mode": {
        "name": "ipython",
        "version": 3
      },
      "file_extension": ".py",
      "mimetype": "text/x-python",
      "name": "python",
      "nbconvert_exporter": "python",
      "pygments_lexer": "ipython3",
      "version": "3.9.5"
    },
    "toc": {
      "base_numbering": 1,
      "nav_menu": {},
      "number_sections": true,
      "sideBar": true,
      "skip_h1_title": true,
      "title_cell": "Определение стоимости автомобилей",
      "title_sidebar": "Contents",
      "toc_cell": true,
      "toc_position": {
        "height": "calc(100% - 180px)",
        "left": "10px",
        "top": "150px",
        "width": "165px"
      },
      "toc_section_display": true,
      "toc_window_display": true
    },
    "colab": {
      "provenance": [],
      "include_colab_link": true
    }
  },
  "nbformat": 4,
  "nbformat_minor": 0
}